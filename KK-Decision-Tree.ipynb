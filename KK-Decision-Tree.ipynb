{
 "cells": [
  {
   "cell_type": "markdown",
   "id": "1e92f85f",
   "metadata": {},
   "source": [
    "# Klasifikasi Faktor Risiko Diabetes Menggunakan Decision Tree Studi Kasus pada Dataset Pima Indian Diabetes. \n",
    "\n"
   ]
  },
  {
   "cell_type": "code",
   "execution_count": 9,
   "id": "e956aa0b",
   "metadata": {},
   "outputs": [
    {
     "name": "stdout",
     "output_type": "stream",
     "text": [
      "<class 'pandas.core.frame.DataFrame'>\n",
      "RangeIndex: 768 entries, 0 to 767\n",
      "Data columns (total 9 columns):\n",
      " #   Column                    Non-Null Count  Dtype  \n",
      "---  ------                    --------------  -----  \n",
      " 0   Pregnancies               768 non-null    int64  \n",
      " 1   Glucose                   768 non-null    int64  \n",
      " 2   BloodPressure             768 non-null    int64  \n",
      " 3   SkinThickness             768 non-null    int64  \n",
      " 4   Insulin                   768 non-null    int64  \n",
      " 5   BMI                       768 non-null    float64\n",
      " 6   DiabetesPedigreeFunction  768 non-null    float64\n",
      " 7   Age                       768 non-null    int64  \n",
      " 8   Outcome                   768 non-null    int64  \n",
      "dtypes: float64(2), int64(7)\n",
      "memory usage: 54.1 KB\n",
      "None\n",
      "   Pregnancies  Glucose  BloodPressure  SkinThickness  Insulin   BMI  \\\n",
      "0            6      148             72             35        0  33.6   \n",
      "1            1       85             66             29        0  26.6   \n",
      "2            8      183             64              0        0  23.3   \n",
      "3            1       89             66             23       94  28.1   \n",
      "4            0      137             40             35      168  43.1   \n",
      "\n",
      "   DiabetesPedigreeFunction  Age  Outcome  \n",
      "0                     0.627   50        1  \n",
      "1                     0.351   31        0  \n",
      "2                     0.672   32        1  \n",
      "3                     0.167   21        0  \n",
      "4                     2.288   33        1  \n"
     ]
    }
   ],
   "source": [
    "import pandas as pd\n",
    "# Load data\n",
    "data = pd.read_csv('diabetes2.csv')\n",
    "data.head(10)\n",
    "print(data.info())\n",
    "print(data.head())\n"
   ]
  },
  {
   "cell_type": "markdown",
   "id": "8593812f",
   "metadata": {},
   "source": [
    "### Eksplorasi Data"
   ]
  },
  {
   "cell_type": "markdown",
   "id": "41f6d4fa",
   "metadata": {},
   "source": [
    "Visualisasi data"
   ]
  },
  {
   "cell_type": "code",
   "execution_count": 10,
   "id": "c3fac0f0",
   "metadata": {},
   "outputs": [
    {
     "data": {
      "text/html": [
       "<div>\n",
       "<style scoped>\n",
       "    .dataframe tbody tr th:only-of-type {\n",
       "        vertical-align: middle;\n",
       "    }\n",
       "\n",
       "    .dataframe tbody tr th {\n",
       "        vertical-align: top;\n",
       "    }\n",
       "\n",
       "    .dataframe thead th {\n",
       "        text-align: right;\n",
       "    }\n",
       "</style>\n",
       "<table border=\"1\" class=\"dataframe\">\n",
       "  <thead>\n",
       "    <tr style=\"text-align: right;\">\n",
       "      <th></th>\n",
       "      <th>Pregnancies</th>\n",
       "      <th>Glucose</th>\n",
       "      <th>BloodPressure</th>\n",
       "      <th>SkinThickness</th>\n",
       "      <th>Insulin</th>\n",
       "      <th>BMI</th>\n",
       "      <th>DiabetesPedigreeFunction</th>\n",
       "      <th>Age</th>\n",
       "      <th>Outcome</th>\n",
       "    </tr>\n",
       "  </thead>\n",
       "  <tbody>\n",
       "    <tr>\n",
       "      <th>0</th>\n",
       "      <td>6</td>\n",
       "      <td>148</td>\n",
       "      <td>72</td>\n",
       "      <td>35</td>\n",
       "      <td>0</td>\n",
       "      <td>33.6</td>\n",
       "      <td>0.627</td>\n",
       "      <td>50</td>\n",
       "      <td>1</td>\n",
       "    </tr>\n",
       "    <tr>\n",
       "      <th>1</th>\n",
       "      <td>1</td>\n",
       "      <td>85</td>\n",
       "      <td>66</td>\n",
       "      <td>29</td>\n",
       "      <td>0</td>\n",
       "      <td>26.6</td>\n",
       "      <td>0.351</td>\n",
       "      <td>31</td>\n",
       "      <td>0</td>\n",
       "    </tr>\n",
       "    <tr>\n",
       "      <th>2</th>\n",
       "      <td>8</td>\n",
       "      <td>183</td>\n",
       "      <td>64</td>\n",
       "      <td>0</td>\n",
       "      <td>0</td>\n",
       "      <td>23.3</td>\n",
       "      <td>0.672</td>\n",
       "      <td>32</td>\n",
       "      <td>1</td>\n",
       "    </tr>\n",
       "    <tr>\n",
       "      <th>3</th>\n",
       "      <td>1</td>\n",
       "      <td>89</td>\n",
       "      <td>66</td>\n",
       "      <td>23</td>\n",
       "      <td>94</td>\n",
       "      <td>28.1</td>\n",
       "      <td>0.167</td>\n",
       "      <td>21</td>\n",
       "      <td>0</td>\n",
       "    </tr>\n",
       "    <tr>\n",
       "      <th>4</th>\n",
       "      <td>0</td>\n",
       "      <td>137</td>\n",
       "      <td>40</td>\n",
       "      <td>35</td>\n",
       "      <td>168</td>\n",
       "      <td>43.1</td>\n",
       "      <td>2.288</td>\n",
       "      <td>33</td>\n",
       "      <td>1</td>\n",
       "    </tr>\n",
       "    <tr>\n",
       "      <th>...</th>\n",
       "      <td>...</td>\n",
       "      <td>...</td>\n",
       "      <td>...</td>\n",
       "      <td>...</td>\n",
       "      <td>...</td>\n",
       "      <td>...</td>\n",
       "      <td>...</td>\n",
       "      <td>...</td>\n",
       "      <td>...</td>\n",
       "    </tr>\n",
       "    <tr>\n",
       "      <th>763</th>\n",
       "      <td>10</td>\n",
       "      <td>101</td>\n",
       "      <td>76</td>\n",
       "      <td>48</td>\n",
       "      <td>180</td>\n",
       "      <td>32.9</td>\n",
       "      <td>0.171</td>\n",
       "      <td>63</td>\n",
       "      <td>0</td>\n",
       "    </tr>\n",
       "    <tr>\n",
       "      <th>764</th>\n",
       "      <td>2</td>\n",
       "      <td>122</td>\n",
       "      <td>70</td>\n",
       "      <td>27</td>\n",
       "      <td>0</td>\n",
       "      <td>36.8</td>\n",
       "      <td>0.340</td>\n",
       "      <td>27</td>\n",
       "      <td>0</td>\n",
       "    </tr>\n",
       "    <tr>\n",
       "      <th>765</th>\n",
       "      <td>5</td>\n",
       "      <td>121</td>\n",
       "      <td>72</td>\n",
       "      <td>23</td>\n",
       "      <td>112</td>\n",
       "      <td>26.2</td>\n",
       "      <td>0.245</td>\n",
       "      <td>30</td>\n",
       "      <td>0</td>\n",
       "    </tr>\n",
       "    <tr>\n",
       "      <th>766</th>\n",
       "      <td>1</td>\n",
       "      <td>126</td>\n",
       "      <td>60</td>\n",
       "      <td>0</td>\n",
       "      <td>0</td>\n",
       "      <td>30.1</td>\n",
       "      <td>0.349</td>\n",
       "      <td>47</td>\n",
       "      <td>1</td>\n",
       "    </tr>\n",
       "    <tr>\n",
       "      <th>767</th>\n",
       "      <td>1</td>\n",
       "      <td>93</td>\n",
       "      <td>70</td>\n",
       "      <td>31</td>\n",
       "      <td>0</td>\n",
       "      <td>30.4</td>\n",
       "      <td>0.315</td>\n",
       "      <td>23</td>\n",
       "      <td>0</td>\n",
       "    </tr>\n",
       "  </tbody>\n",
       "</table>\n",
       "<p>768 rows × 9 columns</p>\n",
       "</div>"
      ],
      "text/plain": [
       "     Pregnancies  Glucose  BloodPressure  SkinThickness  Insulin   BMI  \\\n",
       "0              6      148             72             35        0  33.6   \n",
       "1              1       85             66             29        0  26.6   \n",
       "2              8      183             64              0        0  23.3   \n",
       "3              1       89             66             23       94  28.1   \n",
       "4              0      137             40             35      168  43.1   \n",
       "..           ...      ...            ...            ...      ...   ...   \n",
       "763           10      101             76             48      180  32.9   \n",
       "764            2      122             70             27        0  36.8   \n",
       "765            5      121             72             23      112  26.2   \n",
       "766            1      126             60              0        0  30.1   \n",
       "767            1       93             70             31        0  30.4   \n",
       "\n",
       "     DiabetesPedigreeFunction  Age  Outcome  \n",
       "0                       0.627   50        1  \n",
       "1                       0.351   31        0  \n",
       "2                       0.672   32        1  \n",
       "3                       0.167   21        0  \n",
       "4                       2.288   33        1  \n",
       "..                        ...  ...      ...  \n",
       "763                     0.171   63        0  \n",
       "764                     0.340   27        0  \n",
       "765                     0.245   30        0  \n",
       "766                     0.349   47        1  \n",
       "767                     0.315   23        0  \n",
       "\n",
       "[768 rows x 9 columns]"
      ]
     },
     "metadata": {},
     "output_type": "display_data"
    }
   ],
   "source": [
    "display(data) #display dataset"
   ]
  },
  {
   "cell_type": "code",
   "execution_count": 12,
   "id": "74da97c1",
   "metadata": {},
   "outputs": [],
   "source": [
    "data.columns = data.columns.str.strip()\n"
   ]
  },
  {
   "cell_type": "code",
   "execution_count": 13,
   "id": "d7668659",
   "metadata": {},
   "outputs": [
    {
     "name": "stderr",
     "output_type": "stream",
     "text": [
      "C:\\Users\\LENOVO\\AppData\\Local\\Temp\\ipykernel_13516\\3816215814.py:10: FutureWarning: \n",
      "\n",
      "Passing `palette` without assigning `hue` is deprecated and will be removed in v0.14.0. Assign the `x` variable to `hue` and set `legend=False` for the same effect.\n",
      "\n",
      "  sns.countplot(x='Outcome', data=data, palette='viridis')\n"
     ]
    },
    {
     "data": {
      "image/png": "[encoded data removed]",
      "text/plain": [
       "<Figure size 800x600 with 1 Axes>"
      ]
     },
     "metadata": {},
     "output_type": "display_data"
    }
   ],
   "source": [
    "import pandas as pd\n",
    "import seaborn as sns\n",
    "import matplotlib.pyplot as plt\n",
    "\n",
    "# Contoh loading dataset, asumsi sudah dalam format .csv atau dataframe bernama 'data'\n",
    "# data = pd.read_csv('nama_file.csv')\n",
    "\n",
    "# Kalau datanya sudah ada, lanjut visualisasi\n",
    "plt.figure(figsize=(8, 6))\n",
    "sns.countplot(x='Outcome', data=data, palette='viridis')\n",
    "plt.title('Jumlah Sampel per Label Outcome')\n",
    "plt.xlabel('Label (0 = Negatif, 1 = Positif)')\n",
    "plt.ylabel('Jumlah Sampel')\n",
    "plt.show()\n"
   ]
  },
  {
   "cell_type": "code",
   "execution_count": 14,
   "id": "e84d8d4c",
   "metadata": {},
   "outputs": [
    {
     "data": {
      "text/plain": [
       "<Figure size 1200x1000 with 0 Axes>"
      ]
     },
     "metadata": {},
     "output_type": "display_data"
    },
    {
     "data": {
      "image/png": "[encoded data removed]",
      "text/plain": [
       "<Figure size 1500x1000 with 9 Axes>"
      ]
     },
     "metadata": {},
     "output_type": "display_data"
    }
   ],
   "source": [
    "# Visualisasi distribusi fitur dengan histogram\n",
    "plt.figure(figsize=(12, 10))\n",
    "data.hist(bins=30, figsize=(15, 10), color='blue')\n",
    "plt.suptitle('Distribusi Fitur')\n",
    "plt.show()"
   ]
  },
  {
   "cell_type": "markdown",
   "id": "e0f05e30",
   "metadata": {},
   "source": [
    "# Struktur Data"
   ]
  },
  {
   "cell_type": "markdown",
   "id": "2b1c8fe6",
   "metadata": {},
   "source": [
    "### Fitur dan Label"
   ]
  },
  {
   "cell_type": "code",
   "execution_count": 15,
   "id": "dcd49b4c",
   "metadata": {},
   "outputs": [
    {
     "data": {
      "text/plain": [
       "(768, 9)"
      ]
     },
     "execution_count": 15,
     "metadata": {},
     "output_type": "execute_result"
    }
   ],
   "source": [
    "data.shape #untuk mengetahui bentuk dataset(baris & kolom)"
   ]
  },
  {
   "cell_type": "markdown",
   "id": "1423cf01",
   "metadata": {},
   "source": [
    "Terdapat 961 baris dan 6 kolom."
   ]
  },
  {
   "cell_type": "code",
   "execution_count": 17,
   "id": "d9eff211",
   "metadata": {},
   "outputs": [
    {
     "name": "stdout",
     "output_type": "stream",
     "text": [
      "['Pregnancies', 'Glucose', 'BloodPressure', 'SkinThickness', 'Insulin', 'BMI', 'DiabetesPedigreeFunction', 'Age', 'Outcome']\n"
     ]
    }
   ],
   "source": [
    "print(data.columns.tolist())\n"
   ]
  },
  {
   "cell_type": "code",
   "execution_count": null,
   "id": "a836bcc0",
   "metadata": {},
   "outputs": [],
   "source": [
    "['Pregnancies', 'Glucose', 'BloodPressure', 'SkinThickness', 'Insulin', 'BMI', 'DiabetesPedigreeFunction', 'Age', 'Outcome']"
   ]
  },
  {
   "cell_type": "markdown",
   "id": "46037efc",
   "metadata": {},
   "source": [
    "Fitur adalah atribut atau variabel independen dalam dataset yang digunakan untuk membuat prediksi"
   ]
  },
  {
   "cell_type": "markdown",
   "id": "07e07824",
   "metadata": {},
   "source": [
    "Jumlah Fitur: 8 fitur + 1 label  \n",
    " \n",
    "Daftar Fitur:  \n",
    "\n",
    "Pregnancies : Jumlah kehamilan  \n",
    "\n",
    "Glucose : Kadar glukosa darah (mg/dL)  \n",
    "\n",
    "BloodPressure : Tekanan darah diastolik (mm Hg)  \n",
    "\n",
    "SkinThickness : Ketebalan lipatan kulit (mm)  \n",
    "\n",
    "Insulin : Kadar insulin dalam darah (mu U/ml)  \n",
    "\n",
    "BMI : Indeks massa tubuh (berat badan/(tinggi badan)^2)  \n",
    "\n",
    "DiabetesPedigreeFunction : Riwayat keturunan diabetes  \n",
    "\n",
    "Age : Usia (tahun)  \n",
    "\n",
    "Label (Target):  \n",
    "\n",
    "Outcome :  \n",
    "\n",
    "1 → Positif Diabetes   \n",
    "\n",
    "0 → Negatif Diabetes  \n",
    "\n",
    "Kegunaan Dataset:  \n",
    "\n",
    "Untuk modeling klasifikasi diabetes menggunakan algoritma seperti Decision Tree, Naive Bayes, SVM, dll.  "
   ]
  },
  {
   "cell_type": "code",
   "execution_count": 18,
   "id": "8ffd7bcb",
   "metadata": {},
   "outputs": [
    {
     "data": {
      "text/plain": [
       "Pregnancies                   int64\n",
       "Glucose                       int64\n",
       "BloodPressure                 int64\n",
       "SkinThickness                 int64\n",
       "Insulin                       int64\n",
       "BMI                         float64\n",
       "DiabetesPedigreeFunction    float64\n",
       "Age                           int64\n",
       "Outcome                       int64\n",
       "dtype: object"
      ]
     },
     "execution_count": 18,
     "metadata": {},
     "output_type": "execute_result"
    }
   ],
   "source": [
    "data.dtypes #untuk mengetahui tipe data dari masing-masing kolom"
   ]
  },
  {
   "cell_type": "code",
   "execution_count": 19,
   "id": "ab31e134",
   "metadata": {},
   "outputs": [
    {
     "data": {
      "text/plain": [
       "Outcome\n",
       "0    500\n",
       "1    268\n",
       "dtype: int64"
      ]
     },
     "execution_count": 19,
     "metadata": {},
     "output_type": "execute_result"
    }
   ],
   "source": [
    "data.groupby('Outcome').size() #untuk mengetahui jumlah masing-masing class"
   ]
  },
  {
   "cell_type": "markdown",
   "id": "8ee32c6e",
   "metadata": {},
   "source": [
    "# Identifikasi Kualitas Dataset"
   ]
  },
  {
   "cell_type": "markdown",
   "id": "ad74d882",
   "metadata": {},
   "source": [
    "### Deteksi missing value"
   ]
  },
  {
   "cell_type": "markdown",
   "id": "21fed1cf",
   "metadata": {},
   "source": [
    "Missing value merupakan data yang hilang pada suatu dataset. Hal ini bisa terjadi oleh beberapa faktor, diantaranya adalah :  \n",
    "\n",
    "Interviewer recording error terjadi akibat kelalaian petugas pengumpul data (pewawancara), misalnya ada sejumlah pertanyaan yang terlewatkan.  \n",
    "\n",
    "Respondent inability error terjadi akibat ketidakmampuan responden dalam memberikan jawaban akurat, misalnya karena tidak memahami  pertanyaan, bosan atau kelelahan (respondent fatigue) akhirnya responden mengosongkan sejumlah pertanyaan atau berhenti mengisi kuesioner di tengah jalan.  \n",
    "\n",
    "Unwillingness respondent error terjadi karena responden tidak berkenan memberikan jawaban yang akurat, misalnya pertanyaan soal penghasilan, usia, berat badan, pengalaman melakukan pelanggaran hukum, dll.  \n",
    "\n",
    "Cara penanganan Missing Values :  \n",
    "\n",
    "Mengabaikan dan membuang missing data.  \n",
    "\n",
    "Estimasi parameter.  \n",
    "\n",
    "Imputasi.  \n",
    "\n",
    "Dalam modul kali ini saya akan menangani missing values menggunakan metode imputasi, yang ada 2 metode yaitu menggunakan metode Mean dan menggunakan metode KNN.  \n",
    "\n",
    "pada kolom di bawah ini akan dilakukan pendeteksian missing values terlebih dahulu pada masing-masing kolom.  "
   ]
  },
  {
   "cell_type": "code",
   "execution_count": null,
   "id": "1730a2ea",
   "metadata": {},
   "outputs": [
    {
     "name": "stdout",
     "output_type": "stream",
     "text": [
      "== PREPROSESING ==\n",
      "Representasi Jumlah Record:\n",
      "Jumlah record: 768\n",
      "Jumlah fitur: 9\n",
      "\n",
      "a. Jumlah Kelas (Outcome):\n",
      "Kelas 0 = 500 Negatif Diabetes\n",
      "Kelas 1 = 268 Positif Diabetes\n",
      "Total semua kelas = 768\n",
      "\n",
      "b. Jumlah Missing Value (nilai 0 dianggap missing):\n",
      "Pregnancies                 111\n",
      "Glucose                       5\n",
      "BloodPressure                35\n",
      "SkinThickness               227\n",
      "Insulin                     374\n",
      "BMI                          11\n",
      "DiabetesPedigreeFunction      0\n",
      "Age                           0\n",
      "\n",
      "Total missing value dari semua kolom (bernilai 0): 763\n"
     ]
    }
   ],
   "source": [
    "atribut = ['Pregnancies', 'Glucose', 'BloodPressure','SkinThickness', 'Insulin', 'BMI','DiabetesPedigreeFunction', 'Age']\n",
    "data[atribut] = data[atribut].apply(pd.to_numeric, errors='coerce')\n",
    "\n",
    "# Representasi Jumlah Record Data\n",
    "print(\"Representasi Jumlah Record:\")\n",
    "print(\"Jumlah record:\", len(data))\n",
    "print(\"Jumlah fitur:\", data.shape[1])\n",
    "\n",
    "# Jumlah Kelas (Outcome)\n",
    "print(\"\\na. Jumlah Kelas (Outcome):\")\n",
    "kelas_counts = data['Outcome'].value_counts().sort_index()\n",
    "print(f\"Kelas 0 = {kelas_counts.get(0, 0)} Negatif Diabetes\")\n",
    "print(f\"Kelas 1 = {kelas_counts.get(1, 0)} Positif Diabetes\")\n",
    "print(f\"Total semua kelas = {kelas_counts.sum()}\")\n",
    "\n",
    "# Jumlah Missing Value (nilai 0 dianggap missing)\n",
    "print(\"\\nb. Jumlah Missing Value (nilai 0 dianggap missing):\")\n",
    "missing_counts = (data[atribut] == 0).sum()\n",
    "print(missing_counts.to_string())\n",
    "print(f\"\\nTotal missing value dari semua kolom (bernilai 0): {missing_counts.sum()}\")"
   ]
  },
  {
   "cell_type": "markdown",
   "id": "4cb765ef",
   "metadata": {},
   "source": [
    "# Preprocessing Data"
   ]
  },
  {
   "cell_type": "markdown",
   "id": "0d162dc2",
   "metadata": {},
   "source": [
    "## Transformasi Data"
   ]
  },
  {
   "cell_type": "code",
   "execution_count": 99,
   "id": "53665ca6",
   "metadata": {},
   "outputs": [
    {
     "name": "stdout",
     "output_type": "stream",
     "text": [
      "\n",
      "Kolom dataset:\n",
      "Index(['Pregnancies', 'Glucose', 'BloodPressure', 'SkinThickness', 'Insulin',\n",
      "       'BMI', 'DiabetesPedigreeFunction', 'Age', 'Outcome'],\n",
      "      dtype='object')\n",
      "\n",
      "Tipe data per kolom:\n",
      "Pregnancies                 float64\n",
      "Glucose                     float64\n",
      "BloodPressure               float64\n",
      "SkinThickness               float64\n",
      "Insulin                     float64\n",
      "BMI                         float64\n",
      "DiabetesPedigreeFunction    float64\n",
      "Age                         float64\n",
      "Outcome                      object\n",
      "dtype: object\n",
      "\n",
      "Nilai unik di kolom 'Outcome':\n",
      "['Diabetes' 'Tidak Diabetes']\n",
      "\n",
      "Contoh data setelah label diganti:\n",
      "   Pregnancies   Glucose  BloodPressure  SkinThickness   Insulin       BMI  \\\n",
      "0     0.352941  0.743719       0.590164       0.353535  0.000000  0.500745   \n",
      "1     0.058824  0.427136       0.540984       0.292929  0.000000  0.396423   \n",
      "2     0.470588  0.919598       0.524590       0.000000  0.000000  0.347243   \n",
      "3     0.058824  0.447236       0.540984       0.232323  0.111111  0.418778   \n",
      "4     0.000000  0.688442       0.327869       0.353535  0.198582  0.642325   \n",
      "\n",
      "   DiabetesPedigreeFunction       Age         Outcome  \n",
      "0                  0.234415  0.483333        Diabetes  \n",
      "1                  0.116567  0.166667  Tidak Diabetes  \n",
      "2                  0.253629  0.183333        Diabetes  \n",
      "3                  0.038002  0.000000  Tidak Diabetes  \n",
      "4                  0.943638  0.200000        Diabetes  \n"
     ]
    }
   ],
   "source": [
    "import pandas as pd\n",
    "import seaborn as sns\n",
    "import matplotlib.pyplot as plt\n",
    "\n",
    "\n",
    "# 2. Cek isi kolom dan tipe datanya\n",
    "print(\"\\nKolom dataset:\")\n",
    "print(data.columns)\n",
    "print(\"\\nTipe data per kolom:\")\n",
    "print(data.dtypes)\n",
    "print(\"\\nNilai unik di kolom 'Outcome':\")\n",
    "print(data['Outcome'].unique())\n",
    "\n",
    "data['Outcome'] = data['Outcome'].replace({0: 'Tidak Diabetes', 1: 'Diabetes'})\n",
    "\n",
    "print(\"\\nContoh data setelah label diganti:\")\n",
    "print(data.head())\n",
    "\n",
    "# plt.figure(figsize=(8, 6))\n",
    "# sns.countplot(x='Outcome', data=data, palette='viridis')\n",
    "# plt.title('Distribusi Label Diabetes')\n",
    "# plt.xlabel('Outcome (Negatif = Tidak Diabetes, Positif = Diabetes)')\n",
    "# plt.ylabel('Jumlah Sampel')\n",
    "# plt.show()"
   ]
  },
  {
   "cell_type": "markdown",
   "id": "05b3651f",
   "metadata": {},
   "source": [
    "## Imputasi Missing Value"
   ]
  },
  {
   "cell_type": "markdown",
   "id": "49c03b81",
   "metadata": {},
   "source": [
    "### Mean  \n",
    "setelah missing value terdeteksi, kita perlu untuk mengisi data yang kosong dengan data yang pas agar data dapat digunakan, ada banyak cara untuk mengisi missing value antara lain yaitu dengan menggunkan metode mean,pada tahap ini kita akan melakukan imputasi dengan metode mean.  \n",
    "\n",
    "Untuk langkah-langkah nya sebagai berikut:  \n",
    "\n",
    "hitung rata rata setiap kolom pada ‘data’ lalu simpan hasilnya di suatu variable disini saya mendefinisikan ‘mean_values’  \n",
    "\n",
    "gunakan metode dari pandas untuk mengisikan/mengantikan value yang kosong/hilang pada dataFrame. saya disini untuk mengisi value yang kosong dengan menjumlahkan rata-rata dari setiap kolom  "
   ]
  },
  {
   "cell_type": "code",
   "execution_count": 100,
   "id": "810cfee3",
   "metadata": {},
   "outputs": [
    {
     "name": "stdout",
     "output_type": "stream",
     "text": [
      "Ini hasil perhitungan mean menggunakan fillna:\n",
      "Pregnancies                   4.494673\n",
      "Glucose                     121.686763\n",
      "BloodPressure                72.405184\n",
      "SkinThickness                29.153420\n",
      "Insulin                     155.548223\n",
      "BMI                          32.457464\n",
      "DiabetesPedigreeFunction      0.471876\n",
      "Age                          33.240885\n",
      "dtype: float64\n",
      "\n",
      "\n",
      "Input tiap kolom missing dengan mean\n",
      "Jika output false berarti sudah tidak ada missing value:\n",
      "     Pregnancies  Glucose  BloodPressure  SkinThickness  Insulin    BMI  \\\n",
      "0          False    False          False          False    False  False   \n",
      "1          False    False          False          False    False  False   \n",
      "2          False    False          False          False    False  False   \n",
      "3          False    False          False          False    False  False   \n",
      "4          False    False          False          False    False  False   \n",
      "..           ...      ...            ...            ...      ...    ...   \n",
      "763        False    False          False          False    False  False   \n",
      "764        False    False          False          False    False  False   \n",
      "765        False    False          False          False    False  False   \n",
      "766        False    False          False          False    False  False   \n",
      "767        False    False          False          False    False  False   \n",
      "\n",
      "     DiabetesPedigreeFunction    Age  Outcome  \n",
      "0                       False  False    False  \n",
      "1                       False  False    False  \n",
      "2                       False  False    False  \n",
      "3                       False  False    False  \n",
      "4                       False  False    False  \n",
      "..                        ...    ...      ...  \n",
      "763                     False  False    False  \n",
      "764                     False  False    False  \n",
      "765                     False  False    False  \n",
      "766                     False  False    False  \n",
      "767                     False  False    False  \n",
      "\n",
      "[768 rows x 9 columns]\n",
      "\n",
      "\n",
      "Melihat secara tiap kolom apakah masih ada missing value:\n",
      "Pregnancies                 False\n",
      "Glucose                     False\n",
      "BloodPressure               False\n",
      "SkinThickness               False\n",
      "Insulin                     False\n",
      "BMI                         False\n",
      "DiabetesPedigreeFunction    False\n",
      "Age                         False\n",
      "Outcome                     False\n",
      "dtype: bool\n",
      "\n",
      "\n",
      "Jumlah Missing Value per kolom:\n",
      "Pregnancies                 0\n",
      "Glucose                     0\n",
      "BloodPressure               0\n",
      "SkinThickness               0\n",
      "Insulin                     0\n",
      "BMI                         0\n",
      "DiabetesPedigreeFunction    0\n",
      "Age                         0\n",
      "Outcome                     0\n",
      "dtype: int64\n"
     ]
    }
   ],
   "source": [
    "import pandas as pd\n",
    "import numpy as np\n",
    "\n",
    "# Load dataset\n",
    "data = pd.read_csv('diabetes2.csv')\n",
    "\n",
    "\n",
    "# Identifikasi semua kolom fitur kecuali 'Severity'\n",
    "fitur = data.columns[data.columns != 'Outcome'].tolist()\n",
    "\n",
    "# Ubah nilai 0 menjadi NaN di semua kolom fitur\n",
    "data[fitur] = data[fitur].replace(0, np.nan)\n",
    "\n",
    "# Hitung mean tiap kolom (fitur saja)\n",
    "mean_values = data[fitur].mean()\n",
    "\n",
    "# Isi missing value dengan mean\n",
    "data_filled = data.copy()\n",
    "data_filled[fitur] = data_filled[fitur].fillna(mean_values)\n",
    "\n",
    "# Tampilkan hasil\n",
    "print(\"Ini hasil perhitungan mean menggunakan fillna:\")\n",
    "print(mean_values)\n",
    "print(\"\\n\")\n",
    "\n",
    "print(\"Input tiap kolom missing dengan mean\")\n",
    "print(\"Jika output false berarti sudah tidak ada missing value:\")\n",
    "print(data_filled.isnull())\n",
    "print(\"\\n\")\n",
    "\n",
    "print(\"Melihat secara tiap kolom apakah masih ada missing value:\")\n",
    "print(data_filled.isnull().any())\n",
    "print(\"\\n\")\n",
    "\n",
    "# Hitung total missing value per kolom\n",
    "missing_counts = data_filled.isnull().sum()\n",
    "\n",
    "print(\"Jumlah Missing Value per kolom:\")\n",
    "print(missing_counts)\n",
    "\n",
    "# Simpan hasil ke file CSV\n",
    "# data_filled.to_csv(\"diabetes2_mean.csv\", index=True)\n"
   ]
  },
  {
   "cell_type": "markdown",
   "id": "12c7dde3",
   "metadata": {},
   "source": [
    "### KNN"
   ]
  },
  {
   "cell_type": "markdown",
   "id": "a10161a5",
   "metadata": {},
   "source": [
    "Pada tahapan ini kami akan melakukan imputasi missing value dengan metode KNN dengan perhitungan jarak menggunakan rumus euclidien distance.  \n",
    "\n",
    "Langkah-langkah KNN :  \n",
    "$$d(x, y) = \\sqrt{ \\sum_{i=1}^{n} (x_i - y_i)^2 }$$  \n",
    "\n",
    "\n",
    "Tentukan jumlah tetangga (K) yang akan digunakan untuk pertimbangan penentuan kelas (metode cross validation)   \n",
    "\n",
    "Hitung jarak dari data baru ke masing-masing data point di dataset (eulidien distance).  \n",
    "\n",
    "Ambil tetangga terdekat menurut K, kemudian hitung rata-ratanya.  \n",
    "\n",
    "\n",
    "Sedangkan untuk mencari nilai K terbaik kami menggunakan Cross validation.  \n",
    "\n",
    "K-Fold Cross Validation atau lebih sering disebut cross validation adalah salah satu teknik yang populer dipakai dalam evaluasi model ML. Pada cross validation dataset dibagi sebanyak K lipatan. Pada setiap iterasi setiap lipatan akan dipakai satu kali sebagai data uji dan lipatan sisanya dipakai sebagai data latih. Dengan menggunakan cross validation kita akan memperoleh hasil evaluasi yang lebih akurat karena model dievaluasi dengan seluruh data."
   ]
  },
  {
   "cell_type": "code",
   "execution_count": null,
   "id": "48ec9855",
   "metadata": {},
   "outputs": [
    {
     "name": "stdout",
     "output_type": "stream",
     "text": [
      "Jumlah data latih: 268\n",
      "Jumlah data uji: 68\n",
      "Nilai K yang akan diuji: [1, 3, 5, 7, 9, 11, 13, 15, 17, 19, 21, 23, 25, 27, 29, 31, 33, 35, 37, 39, 41, 43, 45, 47, 49]\n"
     ]
    },
    {
     "data": {
      "image/png": "[encoded data removed]",
      "text/plain": [
       "<Figure size 1500x1000 with 1 Axes>"
      ]
     },
     "metadata": {},
     "output_type": "display_data"
    },
    {
     "name": "stdout",
     "output_type": "stream",
     "text": [
      "The optimal number of neighbors is 17.\n"
     ]
    }
   ],
   "source": [
    "import pandas as pd\n",
    "import numpy as np\n",
    "from sklearn.neighbors import KNeighborsClassifier\n",
    "from sklearn.metrics import accuracy_score\n",
    "from sklearn.model_selection import cross_val_score, train_test_split\n",
    "import matplotlib.pyplot as plt\n",
    "import seaborn as sns\n",
    "\n",
    "# Supaya grafik tampil langsung di notebook (kalau pakai Jupyter)\n",
    "%matplotlib inline\n",
    "\n",
    "# -----------------------------\n",
    "# 1. Load Dataset\n",
    "# -----------------------------\n",
    "df = pd.read_csv('diabetes2.csv')\n",
    "\n",
    "# -----------------------------\n",
    "# 2. Preprocessing\n",
    "# -----------------------------\n",
    "# Identifikasi fitur (selain kolom 'Outcome')\n",
    "feature_columns = df.columns[df.columns != 'Outcome']\n",
    "\n",
    "# Anggap nilai 0 sebagai missing value di semua fitur (umum di dataset diabetes)\n",
    "df[feature_columns] = df[feature_columns].replace(0, np.nan)\n",
    "\n",
    "# Ambil hanya data yang tidak memiliki missing value\n",
    "data_clean = df.dropna()\n",
    "\n",
    "# Cek dimensi data bersih\n",
    "print(f\"Dimensi data tanpa nilai yang hilang: {data_clean.shape}\")\n",
    "\n",
    "# -----------------------------\n",
    "# 3. Split Fitur & Label\n",
    "# -----------------------------\n",
    "X = data_clean[feature_columns].values\n",
    "y = data_clean['Outcome'].values\n",
    "\n",
    "# Split data latih dan uji\n",
    "X_train, X_test, y_train, y_test = train_test_split(\n",
    "    X, y, test_size=0.2, random_state=42\n",
    ")\n",
    "\n",
    "print(f\"Jumlah data latih: {len(X_train)}\")\n",
    "print(f\"Jumlah data uji: {len(X_test)}\")\n",
    "\n",
    "# -----------------------------\n",
    "# 4. KNN & Cross Validation\n",
    "# -----------------------------\n",
    "k_list = list(range(1, 50, 2))\n",
    "print(f\"Nilai K yang akan diuji: {k_list}\")\n",
    "\n",
    "cv_scores = []\n",
    "\n",
    "# 10-fold Cross Validation\n",
    "for k in k_list:\n",
    "    knn = KNeighborsClassifier(n_neighbors=k)\n",
    "    scores = cross_val_score(knn, X_train, y_train, cv=10, scoring='accuracy')\n",
    "    cv_scores.append(scores.mean())\n",
    "\n",
    "# -----------------------------\n",
    "# 5. Visualisasi Error\n",
    "# -----------------------------\n",
    "MSE = [1 - score for score in cv_scores]\n",
    "\n",
    "plt.figure(figsize=(15, 10))\n",
    "sns.set_style(\"whitegrid\")\n",
    "plt.title('The Optimal Number of Neighbors (KNN)', fontsize=20, fontweight='bold')\n",
    "plt.xlabel('Number of Neighbors K', fontsize=15)\n",
    "plt.ylabel('Misclassification Error (MSE)', fontsize=15)\n",
    "plt.plot(k_list, MSE, marker='o')\n",
    "plt.show()\n",
    "\n",
    "# -----------------------------\n",
    "# 6. K Terbaik\n",
    "# -----------------------------\n",
    "best_k = k_list[MSE.index(min(MSE))]\n",
    "print(f\"The optimal number of neighbors is {best_k}.\")\n"
   ]
  },
  {
   "cell_type": "markdown",
   "id": "4e7a2c3a",
   "metadata": {},
   "source": [
    "Setelah didapati jumlah K terbaik, maka kita coba cek akurasinya."
   ]
  },
  {
   "cell_type": "code",
   "execution_count": 91,
   "id": "36bb41c0",
   "metadata": {},
   "outputs": [
    {
     "name": "stdout",
     "output_type": "stream",
     "text": [
      "Accuracy of our model is equal 75.97 %.\n"
     ]
    }
   ],
   "source": [
    "classifier = KNeighborsClassifier(n_neighbors=23)\n",
    "\n",
    "# Melatih model\n",
    "classifier.fit(X_train, y_train)\n",
    "\n",
    "# Memprediksi data uji\n",
    "y_pred = classifier.predict(X_test)\n",
    "\n",
    "# Menghitung akurasi\n",
    "accuracy = accuracy_score(y_test, y_pred) * 100\n",
    "print('Accuracy of our model is equal ' + str(round(accuracy, 2)) + ' %.')"
   ]
  },
  {
   "cell_type": "code",
   "execution_count": 88,
   "id": "06c90109",
   "metadata": {},
   "outputs": [
    {
     "name": "stdout",
     "output_type": "stream",
     "text": [
      "            --------------------------- Missing Value Counts ---------------------------            \n",
      "Pregnancies                 0\n",
      "Glucose                     0\n",
      "BloodPressure               0\n",
      "SkinThickness               0\n",
      "Insulin                     0\n",
      "BMI                         0\n",
      "DiabetesPedigreeFunction    0\n",
      "Age                         0\n",
      "Outcome                     0\n",
      "dtype: int64\n",
      "\n",
      "--------------------------- Hasil Data yang Sudah Diimputasi ---------------------------\n",
      "     Pregnancies  Glucose  BloodPressure  SkinThickness     Insulin   BMI  \\\n",
      "2       8.000000    183.0           64.0      28.260870  249.434783  23.3   \n",
      "3       1.000000     89.0           66.0      23.000000   94.000000  28.1   \n",
      "4       4.565217    137.0           40.0      35.000000  168.000000  43.1   \n",
      "12     10.000000    139.0           80.0      27.782609  191.217391  27.1   \n",
      "25     10.000000    125.0           70.0      26.000000  115.000000  31.1   \n",
      "30      5.000000    109.0           75.0      26.000000  158.000000  36.0   \n",
      "45      4.391304    180.0           66.0      39.000000  305.347826  42.0   \n",
      "67      2.000000    109.0           92.0      33.260870  172.347826  42.7   \n",
      "100     1.000000    163.0           72.0      33.130435  250.869565  39.0   \n",
      "150     1.000000    136.0           74.0      50.000000  204.000000  37.4   \n",
      "\n",
      "     DiabetesPedigreeFunction   Age  Outcome  \n",
      "2                       0.672  32.0        1  \n",
      "3                       0.167  21.0        0  \n",
      "4                       2.288  33.0        1  \n",
      "12                      1.441  57.0        0  \n",
      "25                      0.205  41.0        1  \n",
      "30                      0.546  60.0        0  \n",
      "45                      1.893  25.0        1  \n",
      "67                      0.845  54.0        0  \n",
      "100                     1.222  33.0        1  \n",
      "150                     0.399  24.0        0  \n"
     ]
    }
   ],
   "source": [
    "import pandas as pd\n",
    "import numpy as np\n",
    "from sklearn.impute import KNNImputer\n",
    "\n",
    "# Load dataset\n",
    "df = pd.read_csv('diabetes2.csv')\n",
    "\n",
    "# Identifikasi semua fitur kecuali Outcome\n",
    "fitur = df.columns[df.columns != 'Outcome']\n",
    "\n",
    "# Anggap nilai 0 sebagai missing value\n",
    "df[fitur] = df[fitur].replace(0, np.nan)\n",
    "\n",
    "# Inisialisasi KNNImputer\n",
    "imputer = KNNImputer(n_neighbors=23, metric='nan_euclidean')\n",
    "\n",
    "# Lakukan imputasi hanya pada fitur, label tidak disentuh\n",
    "fitur_imputed = imputer.fit_transform(df[fitur])\n",
    "\n",
    "# Gabungkan hasil imputasi dengan kolom Outcome\n",
    "data_imputed_df = pd.DataFrame(fitur_imputed, columns=fitur)\n",
    "data_imputed_df['Outcome'] = df['Outcome'].values\n",
    "\n",
    "# Cek missing value\n",
    "missing_counts = data_imputed_df.isnull().sum()\n",
    "\n",
    "print(\"--------------------------- Missing Value Counts ---------------------------\".center(100))\n",
    "print(missing_counts)\n",
    "\n",
    "print()\n",
    "print(\"--------------------------- Hasil Data yang Sudah Diimputasi ---------------------------\")\n",
    "\n",
    "# List indeks contoh untuk ditampilkan (pastikan tidak melebihi jumlah baris dataset)\n",
    "indeks_tampilkan = [2,3,4, 12, 25, 30, 45, 67, 100, 150]\n",
    "\n",
    "data_tampil = data_imputed_df.iloc[indeks_tampilkan]\n",
    "print(data_tampil)\n"
   ]
  },
  {
   "cell_type": "code",
   "execution_count": 89,
   "id": "cf1db94e",
   "metadata": {},
   "outputs": [
    {
     "name": "stdout",
     "output_type": "stream",
     "text": [
      "\n",
      "Hasil imputasi berhasil disimpan ke 'diabetes2_knn_imputed.csv'\n"
     ]
    }
   ],
   "source": [
    "data_imputed_df.to_csv('diabetes2_knn_imputed.csv', index=False)\n",
    "print(\"\\nHasil imputasi berhasil disimpan ke 'diabetes2_knn_imputed.csv'\")"
   ]
  },
  {
   "cell_type": "code",
   "execution_count": 92,
   "id": "4dfc0237",
   "metadata": {},
   "outputs": [
    {
     "name": "stdout",
     "output_type": "stream",
     "text": [
      "Distribusi label sebelum SMOTE:\n",
      "Outcome\n",
      "0    393\n",
      "1    221\n",
      "Name: count, dtype: int64\n",
      "\n",
      "Distribusi label setelah SMOTE:\n",
      "Outcome\n",
      "1    393\n",
      "0    393\n",
      "Name: count, dtype: int64\n",
      "\n",
      "=== Classification Report ===\n",
      "              precision    recall  f1-score   support\n",
      "\n",
      "           0       0.86      0.75      0.80       107\n",
      "           1       0.56      0.72      0.63        47\n",
      "\n",
      "    accuracy                           0.74       154\n",
      "   macro avg       0.71      0.74      0.71       154\n",
      "weighted avg       0.77      0.74      0.75       154\n",
      "\n",
      "\n",
      "=== Confusion Matrix ===\n",
      "[[80 27]\n",
      " [13 34]]\n"
     ]
    }
   ],
   "source": [
    "import pandas as pd\n",
    "from imblearn.over_sampling import SMOTE\n",
    "from sklearn.model_selection import train_test_split\n",
    "from sklearn.tree import DecisionTreeClassifier\n",
    "from sklearn.metrics import classification_report, confusion_matrix\n",
    "\n",
    "# Load dataset hasil imputasi (mean atau knn)\n",
    "df = pd.read_csv('diabetes2_knn_imputed.csv')  # Atau ganti dengan dataset kamu yang udah bersih\n",
    "\n",
    "# Pisahkan fitur dan label\n",
    "X = df.drop('Outcome', axis=1)\n",
    "y = df['Outcome']\n",
    "\n",
    "# Split data latih dan uji\n",
    "X_train, X_test, y_train, y_test = train_test_split(X, y, test_size=0.2, random_state=0)\n",
    "\n",
    "# Cek distribusi sebelum SMOTE\n",
    "print(\"Distribusi label sebelum SMOTE:\")\n",
    "print(y_train.value_counts())\n",
    "\n",
    "# Inisialisasi dan terapkan SMOTE\n",
    "smote = SMOTE(random_state=0)\n",
    "X_train_smote, y_train_smote = smote.fit_resample(X_train, y_train)\n",
    "\n",
    "# Cek distribusi setelah SMOTE\n",
    "print(\"\\nDistribusi label setelah SMOTE:\")\n",
    "print(y_train_smote.value_counts())\n",
    "\n",
    "# Latih model Decision Tree\n",
    "model = DecisionTreeClassifier(random_state=0)\n",
    "model.fit(X_train_smote, y_train_smote)\n",
    "\n",
    "# Prediksi\n",
    "y_pred = model.predict(X_test)\n",
    "\n",
    "# Evaluasi\n",
    "print(\"\\n=== Classification Report ===\")\n",
    "print(classification_report(y_test, y_pred))\n",
    "\n",
    "print(\"\\n=== Confusion Matrix ===\")\n",
    "print(confusion_matrix(y_test, y_pred))\n"
   ]
  },
  {
   "cell_type": "code",
   "execution_count": 93,
   "id": "5bbd9116",
   "metadata": {},
   "outputs": [
    {
     "name": "stdout",
     "output_type": "stream",
     "text": [
      "Distribusi label sebelum SMOTE:\n",
      "Outcome\n",
      "0    393\n",
      "1    221\n",
      "Name: count, dtype: int64\n",
      "\n",
      "Distribusi label setelah SMOTE:\n",
      "Outcome\n",
      "1    393\n",
      "0    393\n",
      "Name: count, dtype: int64\n",
      "\n",
      "=== Classification Report ===\n",
      "              precision    recall  f1-score   support\n",
      "\n",
      "           0       0.88      0.72      0.79       107\n",
      "           1       0.55      0.77      0.64        47\n",
      "\n",
      "    accuracy                           0.73       154\n",
      "   macro avg       0.71      0.74      0.71       154\n",
      "weighted avg       0.77      0.73      0.74       154\n",
      "\n",
      "\n",
      "=== Confusion Matrix ===\n",
      "[[77 30]\n",
      " [11 36]]\n"
     ]
    }
   ],
   "source": [
    "import pandas as pd\n",
    "from imblearn.over_sampling import SMOTE\n",
    "from sklearn.model_selection import train_test_split\n",
    "from sklearn.tree import DecisionTreeClassifier\n",
    "from sklearn.metrics import classification_report, confusion_matrix\n",
    "\n",
    "# Load dataset hasil imputasi (mean atau knn)\n",
    "df = pd.read_csv('diabetes2_mean.csv')  # Atau ganti dengan dataset kamu yang udah bersih\n",
    "\n",
    "# Pisahkan fitur dan label\n",
    "X = df.drop('Outcome', axis=1)\n",
    "y = df['Outcome']\n",
    "\n",
    "# Split data latih dan uji\n",
    "X_train, X_test, y_train, y_test = train_test_split(X, y, test_size=0.2, random_state=0)\n",
    "\n",
    "# Cek distribusi sebelum SMOTE\n",
    "print(\"Distribusi label sebelum SMOTE:\")\n",
    "print(y_train.value_counts())\n",
    "\n",
    "# Inisialisasi dan terapkan SMOTE\n",
    "smote = SMOTE(random_state=0)\n",
    "X_train_smote, y_train_smote = smote.fit_resample(X_train, y_train)\n",
    "\n",
    "# Cek distribusi setelah SMOTE\n",
    "print(\"\\nDistribusi label setelah SMOTE:\")\n",
    "print(y_train_smote.value_counts())\n",
    "\n",
    "# Latih model Decision Tree\n",
    "model = DecisionTreeClassifier(random_state=0)\n",
    "model.fit(X_train_smote, y_train_smote)\n",
    "\n",
    "# Prediksi\n",
    "y_pred = model.predict(X_test)\n",
    "\n",
    "# Evaluasi\n",
    "print(\"\\n=== Classification Report ===\")\n",
    "print(classification_report(y_test, y_pred))\n",
    "\n",
    "print(\"\\n=== Confusion Matrix ===\")\n",
    "print(confusion_matrix(y_test, y_pred))\n"
   ]
  },
  {
   "cell_type": "markdown",
   "id": "99a063f3",
   "metadata": {},
   "source": [
    "## Modeling"
   ]
  },
  {
   "cell_type": "code",
   "execution_count": 90,
   "id": "7d8b30b6",
   "metadata": {},
   "outputs": [
    {
     "name": "stdout",
     "output_type": "stream",
     "text": [
      "=== Evaluasi Dataset Mean ===\n",
      "Akurasi: 68.18%\n",
      "Confusion Matrix:\n",
      "[[77 30]\n",
      " [19 28]]\n",
      "\n",
      "=== Evaluasi Dataset KNN ===\n",
      "Akurasi: 72.08%\n",
      "Confusion Matrix:\n",
      "[[85 22]\n",
      " [21 26]]\n"
     ]
    }
   ],
   "source": [
    "import pandas as pd\n",
    "from sklearn.model_selection import train_test_split\n",
    "from sklearn.tree import DecisionTreeClassifier\n",
    "from sklearn.metrics import accuracy_score, confusion_matrix\n",
    "\n",
    "# === Dataset MEAN ===\n",
    "df_mean = pd.read_csv('diabetes2_mean.csv')\n",
    "X = df_mean.drop('Outcome', axis=1).values\n",
    "y = df_mean['Outcome'].values\n",
    "\n",
    "X_train, X_test, y_train, y_test = train_test_split(X, y, test_size=0.2, random_state=0)\n",
    "\n",
    "model_mean = DecisionTreeClassifier(random_state=0)\n",
    "model_mean.fit(X_train, y_train)\n",
    "y_pred = model_mean.predict(X_test)\n",
    "\n",
    "print(\"=== Evaluasi Dataset Mean ===\")\n",
    "print(f\"Akurasi: {accuracy_score(y_test, y_pred) * 100:.2f}%\")\n",
    "print(\"Confusion Matrix:\")\n",
    "print(confusion_matrix(y_test, y_pred))\n",
    "\n",
    "# === Dataset KNN ===\n",
    "df_knn = pd.read_csv('diabetes2_knn_imputed.csv')\n",
    "X = df_knn.drop('Outcome', axis=1).values\n",
    "y = df_knn['Outcome'].values\n",
    "\n",
    "X_train, X_test, y_train, y_test = train_test_split(X, y, test_size=0.2, random_state=0)\n",
    "\n",
    "model_knn = DecisionTreeClassifier(random_state=0)\n",
    "model_knn.fit(X_train, y_train)\n",
    "y_pred = model_knn.predict(X_test)\n",
    "\n",
    "print(\"\\n=== Evaluasi Dataset KNN ===\")\n",
    "print(f\"Akurasi: {accuracy_score(y_test, y_pred) * 100:.2f}%\")\n",
    "print(\"Confusion Matrix:\")\n",
    "print(confusion_matrix(y_test, y_pred))\n"
   ]
  },
  {
   "cell_type": "code",
   "execution_count": null,
   "id": "962b3232",
   "metadata": {},
   "outputs": [],
   "source": [
    "y_pred = model_knn.predict(X_test)\n",
    "\n",
    "print(\"\\n=== Hasil Prediksi ===\")\n"
   ]
  },
  {
   "cell_type": "markdown",
   "id": "7516e2e5",
   "metadata": {},
   "source": [
    "# Deployment"
   ]
  },
  {
   "cell_type": "code",
   "execution_count": null,
   "id": "27d64318",
   "metadata": {},
   "outputs": [],
   "source": []
  },
  {
   "cell_type": "code",
   "execution_count": 82,
   "id": "d84d64c2",
   "metadata": {},
   "outputs": [
    {
     "name": "stdout",
     "output_type": "stream",
     "text": [
      "Model berhasil disimpan ke 'model_diabetes.pkl'\n"
     ]
    }
   ],
   "source": [
    "import pandas as pd\n",
    "from sklearn.tree import DecisionTreeClassifier\n",
    "import joblib\n",
    "\n",
    "# Load dataset\n",
    "df = pd.read_csv('diabetes2_clean.csv')\n",
    "X = df.drop('Outcome', axis=1)\n",
    "y = df['Outcome']\n",
    "\n",
    "# Training model\n",
    "model = DecisionTreeClassifier(random_state=0)\n",
    "model.fit(X, y)\n",
    "\n",
    "# Simpan model ke file\n",
    "joblib.dump(model, 'model_diabetes.pkl')\n",
    "print(\"Model berhasil disimpan ke 'model_diabetes.pkl'\")\n"
   ]
  }
 ],
 "metadata": {
  "kernelspec": {
   "display_name": "Python 3",
   "language": "python",
   "name": "python3"
  },
  "language_info": {
   "codemirror_mode": {
    "name": "ipython",
    "version": 3
   },
   "file_extension": ".py",
   "mimetype": "text/x-python",
   "name": "python",
   "nbconvert_exporter": "python",
   "pygments_lexer": "ipython3",
   "version": "3.10.6"
  }
 },
 "nbformat": 4,
 "nbformat_minor": 5
}
