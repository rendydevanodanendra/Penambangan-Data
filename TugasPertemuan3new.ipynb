{
 "cells": [
  {
   "cell_type": "markdown",
   "metadata": {},
   "source": [
    "# **Macam-macam tipe data dan Konsep dasar KNN**"
   ]
  },
  {
   "cell_type": "markdown",
   "metadata": {},
   "source": [
    "## **Macam-Macam Tipe Data dalam Data Mining**  \n",
    "### **1. Atribut Kualitatif**  \n",
    "Atribut kualitatif merepresentasikan kategori atau karakteristik suatu objek yang tidak berupa angka. Data ini digunakan untuk mengelompokkan objek berdasarkan kesamaan karakteristik dan tidak dapat dihitung secara matematis.\n",
    "  \n",
    "**a. Nominal (Kategorikal)**  \n",
    "Atribut nominal hanya digunakan untuk memberi label atau kategori pada suatu objek tanpa memiliki urutan atau tingkatan tertentu. Data ini tidak memiliki makna numerik dan tidak dapat dilakukan operasi matematika seperti penjumlahan atau pengurangan.  \n",
    "**Contoh:**  \n",
    "Warna rambut: **Hitam, Coklat, Pirang**    \n",
    "Jenis kelamin: **Laki-laki, Perempuan**     \n",
    "Merek kendaraan: **Toyota, Honda, BMW**    \n",
    "\n",
    "**b. Ordinal**  \n",
    "Atribut ordinal memiliki kategori dengan urutan atau tingkatan tertentu, tetapi jarak antar kategori tidak bisa diukur secara pasti.  \n",
    "**Contoh:**  \n",
    "Tingkat pendidikan: **SD, SMP, SMA, S1, S2, S3**  \n",
    "Tingkat kepuasan pelanggan: **Sangat Puas, Puas, Netral, Tidak Puas, Sangat Tidak Puas**  \n",
    "Risiko investasi: **Rendah, Sedang, Tinggi**  \n",
    "\n",
    "**c. Biner**  \n",
    "Atribut biner hanya memiliki dua kemungkinan nilai, seperti 0 dan 1, atau Ya dan Tidak.  \n",
    "**Contoh:**  \n",
    "Status pernikahan: **Menikah (1), Belum Menikah (0)**  \n",
    "Kepemilikan rumah: **Ya (1), Tidak (0)**  \n",
    "Hasil tes COVID-19: **Positif (1), Negatif (0)**  \n",
    "Atribut biner dapat dibedakan menjadi:  \n",
    "**Simetris:** Kedua nilai memiliki kepentingan yang sama, misalnya **jenis kelamin (Laki-laki/Perempuan)**.  \n",
    "**Asimetris:** Salah satu nilai lebih penting dari yang lain, misalnya **dalam deteksi penipuan, 1 berarti transaksi mencurigakan (lebih penting), sementara 0 berarti normal**.  \n",
    "\n",
    "### **2. Atribut Kuantitatif**  \n",
    "Atribut kuantitatif merepresentasikan nilai numerik yang dapat dihitung dan dianalisis secara matematis.  \n",
    "**a. Diskrit**  \n",
    "Atribut diskrit hanya bisa memiliki nilai dalam jumlah terbatas, biasanya dalam bentuk bilangan bulat yang diperoleh dari hasil perhitungan (counting).  \n",
    "**Contoh:**  \n",
    "Jumlah anak dalam keluarga: **0, 1, 2, 3, ...**  \n",
    "Jumlah kendaraan di parkiran: **5, 10, 15**  \n",
    "Jumlah siswa dalam kelas: **25, 30, 35**  \n",
    "\n",
    "**b. Kontinu**  \n",
    "Atribut kontinu memiliki nilai yang dapat berupa pecahan atau desimal karena diperoleh dari hasil pengukuran (measurement).  \n",
    "**Contoh:**  \n",
    "Tinggi badan: **165.3 cm, 170.5 cm**  \n",
    "Berat badan: **60.5 kg, 75.8 kg**  \n",
    "Suhu udara: **28.7°C, 35.2°C**  "
   ]
  },
  {
   "cell_type": "markdown",
   "metadata": {},
   "source": [
    "## **Pengertian Algoritma K-Nearest Neighbor** (KNN)\n",
    "### **1. Apa itu Nearest Neighbor?**  \n",
    "Nearest Neighbor atau k-Nearest Neighbor (kNN) merupakan salah satu algoritme klasifikasi dalam data mining yang memanfaatkan data terdekat untuk melakukan prediksi pada data baru yang belum dikenal (data uji). Algoritme ini bekerja dengan cara mencari sejumlah tetangga terdekat dari data uji dan menentukan kelas data uji tersebut berdasarkan mayoritas kelas dari tetangga terdekat (data latih) yang ditemukan. Nearest Neighbor dapat digunakan untuk menangani berbagai jenis data, baik data numerik maupun kategorikal. Pada data kategorikal, perhitungan jarak perbedaan atau kesamaan tidak dapat dihitung menggunakan operasi matematik seperti yang dapat dilakukan pada data numerik. Nearest Neighbor lebih efektif pada data dengan dimensi yang rendah atau sedang. Selain itu, algoritme ini juga efektif untuk dataset dengan jumlah data yang kecil hingga sedang, karena semakin besar jumlah data yang digunakan maka waktu yang dibutuhkan untuk melakukan klasifikasi semakin lama. Tak hanya memiliki kelebihan, kNN juga memiliki kekurangan seperti sensitif terhadap nilai pencilan (outlier) dan ketidakseimbangan kelas (class imbalance). Untuk mempermudah pemahaman kita, perhatikan gambar di bawah ini:\n",
    "\n",
    "![image.png](knn.png)\n",
    "\n",
    "Penjelasan yang hanya berupa teoritis kadang kala sulit untuk kita pahami dengan baik, untuk menghindari hal tersebut kita akan menggunakan contoh kasus untuk menyederhanakan penjelasan sebelumnya. Gambar di atas mengindikasikan sebuah dataset yang memiliki dua kelas, yaitu kelas positif dan negatif. Kelas positif diwakili oleh gambar lingkaran kecil berwarna kuning sedangkan kelas negatif diwakili gambar segitiga berwarna hijau. Pada contoh kasus ini, kita ingin menentukan kelas dari data uji (yang ditunjukkan gambar bintang berwarna merah) menggunakan kNN.  \n",
    "\n",
    "Terlihat gambar di atas menggunakan dua nilai k, yaitu k=3 dan k=6. kNN bekerja dengan mencari sejumlah tetangga terdekat dari data uji yang belum dikenal dan menentukan kelasnya berdasarkan mayoritas kelas tetangga tersebut. Ketika k=3, artinya kita akan mencari tiga tetangga terdekat dari data uji yang belum dikenal. Dalam contoh tersebut, dua dari tiga tetangga terdekat tergolong ke dalam kelas positif dan satu tetangga terdekat tergolong ke dalam kelas negatif. Karena mayoritas kelas tetangga terdekat adalah kelas positif, maka data uji akan diklasifikasikan sebagai kelas positif.  \n",
    "\n",
    "Namun, ketika k=6, artinya kita akan mencari enam tetangga terdekat dari data uji yang belum dikenal. Dalam contoh tersebut, empat dari enam tetangga terdekat tergolong ke dalam kelas negatif dan dua tetangga terdekat tergolong ke dalam kelas positif. Karena mayoritas kelas tetangga terdekat adalah kelas negatif, maka data uji akan diklasifikasikan sebagai kelas negatif. Dalam contoh tersebut, kita dapat melihat bahwa nilai k yang berbeda-beda dapat memberikan hasil klasifikasi yang berbeda pula. Oleh karena itu, pemilihan nilai k yang tepat sangat penting dalam penggunaan algoritme kNN.  \n",
    "\n",
    "### **2. Alur Kerja Nearest Neighbor**\n",
    "Nearest Neighbor (NN) adalah salah satu algoritma machine learning yang paling sederhana namun cukup efektif dalam melakukan klasifikasi. Algoritma NN berdasarkan pada konsep “kesamaan” antara data, yang dapat dihitung dengan jarak Euclidean, Manhattan atau Minkowski distance. Pada dasarnya, algoritma ini mencari data latih yang paling mirip dengan data uji yang akan diklasifikasikan, dan memberikan label kelas yang sama dengan data latih tersebut. Secara umum, alur kerja Nearest Neighbor adalah sebagai berikut:\n",
    "\n",
    "#### **2.1 Tentukan jumlah tetangga terdekat (K) yang akan dipilih**\n",
    "\n",
    "Pertama-tama, kita harus menentukan nilai K terlebih dahulu untuk algoritme Nearest Neighbor. Penentuan nilai K tidak memiliki rumus pasti, tetapi ada beberapa tips yang dapat dipertimbangkan. Misalnya, jika jumlah kelas adalah genap, disarankan untuk memilih nilai K ganjil, sedangkan jika jumlah kelas adalah ganjil, disarankan memilih nilai K genap. Alasannya adalah jika kita memilih nilai K yang genap pada kasus dengan dua kelas, misalnya kelas A dan B, maka ada kemungkinan hasil dari 4 tetangga terdekat terdiri dari 2 kelas A dan 2 kelas B sehingga hasilnya akan sama, yaitu A atau B. Namun, jika kita memilih nilai K yang ganjil, misalnya 3 atau 5, maka akan ada tetangga terdekat yang lebih banyak jumlahnya, sehingga hasilnya akan lebih variatif.\n",
    "\n",
    "#### **2.2 Hitung jarak antara data uji dengan semua data latih**\n",
    "Setelah menentukan nilai K, langkah selanjutnya dalam algoritme Nearest Neighbor adalah menghitung jarak antara data uji dengan semua data latih. Jarak ini dapat dihitung menggunakan berbagai metode, seperti Euclidean distance, Manhattan distance, Minkowski distance, cosine similarity, atau yang lainnya. Dalam perhitungan jarak, setiap fitur pada kedua data akan diperhitungkan dan diakumulasikan menjadi satu skor jarak. Semakin kecil skor jarak, semakin mirip kedua data tersebut. Proses ini akan diulang untuk semua data latih yang tersedia.\n",
    "\n",
    "#### **2.3 Urutkan data latih berdasarkan jarak dari yang terdekat ke yang terjauh dengan data uji**\n",
    "Setelah kita menghitung jarak antara data latih dengan data uji menggunakan suatu metrik, langkah selanjutnya adalah mengurutkan data latih berdasarkan jarak dari yang terdekat ke yang terjauh dengan data uji. Dalam hal ini, data latih yang paling dekat dengan data uji akan ditempatkan di bagian atas daftar, sedangkan data latih yang paling jauh akan ditempatkan di bagian bawah daftar. Hal ini dilakukan untuk memudahkan dalam mencari tetangga terdekat dari data uji pada langkah selanjutnya. Dengan mengurutkan data latih berdasarkan jarak, kita dapat memastikan bahwa k-nearest neighbor yang dipilih benar-benar merupakan tetangga terdekat dari data uji.  \n",
    "\n",
    "#### **2.4 Pilih K data dengan jarak terdekat dari data uji**  \n",
    "Setelah data latih diurutkan berdasarkan jarak terdekat dengan data uji, selanjutnya pilih K data dengan jarak terkecil. Banyaknya K di sini berdasarkan jumlah K yang telah ditentukan di awal.\n",
    "\n",
    "#### **2.5 Hitung frekuensi masing-masing kategori pada K data yang telah dipilih**  \n",
    "Dalam penghitungan frekuensi ini, setiap kategori akan dihitung berapa kali muncul pada K data tersebut dan kemudian dicatat jumlahnya. Dengan mengetahui frekuensi masing-masing kategori, kita dapat menentukan kategori mana yang paling banyak muncul dan kemudian menjadikannya sebagai hasil prediksi untuk data yang sedang dicari kategori-nya."
   ]
  },
  {
   "cell_type": "markdown",
   "metadata": {},
   "source": [
    "### **3. Contoh Kasus**\n",
    "Kita akan menggunakan dataset diabetes.xlsx sebagai kasus, dimana dataset ini memuat informasi mengenai diabetes yang dikategorikan menjadi positif dan negatif. Seluruh isi tupel dalam dataset ini memiliki tipe data numerik, hal ini karena kita akan melakukan perhitungan jarak dengan menggunakan kNN. Berikut ini adalah tampilan dari dataset tersebut:\n"
   ]
  },
  {
   "cell_type": "markdown",
   "metadata": {},
   "source": [
    "| nomor | gula darah | tekanan darah | diabetes | Distance |\n",
    "|-------|-----------:|--------------:|---------:|---------:|\n",
    "| 1     |        99  |           72  |        0 |   14,32  |\n",
    "| 2     |       110  |           92  |        0 |    8,60  |\n",
    "| 3     |       153  |           88  |        1 |   48,09  |\n",
    "| 4     |       128  |           84  |        1 |   23,02  |\n",
    "| 5     |        88  |           68  |        0 |   24,04  |\n",
    "| 6     |       156  |           92  |        0 |   51,48  |\n",
    "| 7     |       120  |           85  |        1 |   16,16  |\n",
    "| 8     |       109  |           70  |        0 |   25,32  |\n",
    "| 9     |       140  |           82  |        1 |   15,81  |\n",
    "| 10    |       140  |           90  |        1 |   35,36  |\n",
    "| 11    |       105  |           85  |        ? |       ?  |\n"
   ]
  },
  {
   "cell_type": "markdown",
   "metadata": {},
   "source": [
    "Dalam dataset ini terdapat label dengan dua kategori, yakni 0 untuk hasil negatif dan 1 untuk hasil positif. Terdapat pula sebuah baris data uji yang akan digunakan untuk menentukan apakah hasilnya positif atau negatif. Tujuan dari perhitungan ini adalah untuk mengklasifikasikan data uji tersebut berdasarkan fitur-fitur yang ada dalam dataset. Dengan menggunakan algoritma nearest neighbor, kita akan mencari data pada dataset yang paling mirip dengan data uji dan kemudian menentukan kategori hasilnya berdasarkan label dari data yang mirip tersebut.\n",
    "\n",
    "Sebelum itu saya akan menjelaskan beberapa metode   \n",
    "**Dalam konteks KNN ada tiga metode pengukuran jarak yang sering disebutkan:**\n",
    "\n",
    "**Euclidean Distance**  \n",
    "Menghitung jarak “lurus” (garis lurus) antara dua titik. Rumusnya melibatkan akar kuadrat dari jumlah kuadrat perbedaan tiap fitur.  \n",
    "$$\\sqrt{(x_2 - x_1)^2 + (y_2 - y_1)^2}$$  \n",
    "\n",
    "**Manhattan Distance**  \n",
    "Menghitung jarak berdasarkan pergerakan di grid (seperti menghitung jarak di kota dengan jalan bersebelahan). Di sini, jarak dihitung sebagai jumlah nilai mutlak perbedaan tiap fitur.\n",
    "$$|x_2 - x_1| + |y_2 - y_1|$$  \n",
    "\n",
    "**Minkowski Distance**  \n",
    "Merupakan generalisasi dari Euclidean dan Manhattan Distance. Dengan parameter 𝑝  yang bisa disesuaikan, jika 𝑝 = 2maka sama dengan Euclidean, dan jika 𝑝=1  sama dengan Manhattan.\n",
    "$$\\left( |x_2 - x_1|^p + |y_2 - y_1|^p \\right)^{\\frac{1}{p}}$$   \n",
    "\n",
    "Langkah pertama, kita tentukan parameter K. Misalnya kita buat jumlah tetangga terdekat K=3.\n",
    "\n",
    "Langkah kedua, kita hitung jarak antara data uji dengan seluruh data latih. Pada kasus ini, perhitungan jarak dilakukan menggunakan teknik Euclidean distance dengan rumus berikut:"
   ]
  },
  {
   "cell_type": "markdown",
   "metadata": {},
   "source": [
    "\n",
    "$$[(x, y), (a, b)] = \\sqrt{(x - a)^2 + (y - b)^2}$$\n",
    "\n"
   ]
  },
  {
   "cell_type": "markdown",
   "metadata": {},
   "source": [
    "Kemudian, kita masukkan dataset yang kita miliki ke dalam persamaan matematika di atas, sehingga diperoleh hasil seperti di bawah ini:"
   ]
  },
  {
   "cell_type": "markdown",
   "metadata": {},
   "source": [
    "\n",
    "\\begin{aligned}\n",
    "D(d1, d11) &= \\sqrt{(99 - 105)^2 + (72 - 85)^2} = 14.32 \\\\\n",
    "D(d2, d11) &= \\sqrt{(110 - 105)^2 + (92 - 85)^2} = 8.60 \\\\\n",
    "D(d3, d11) &= \\sqrt{(153 - 105)^2 + (88 - 85)^2} = 48.09 \\\\\n",
    "D(d4, d11) &= \\sqrt{(128 - 105)^2 + (84 - 85)^2} = 23.02 \\\\\n",
    "D(d5, d11) &= \\sqrt{(88 - 105)^2 + (68 - 85)^2} = 24.04 \\\\\n",
    "D(d6, d11) &= \\sqrt{(156 - 105)^2 + (92 - 85)^2} = 51.28 \\\\\n",
    "D(d7, d11) &= \\sqrt{(120 - 105)^2 + (85 - 85)^2} = 15.16 \\\\\n",
    "D(d8, d11) &= \\sqrt{(109 - 105)^2 + (70 - 85)^2} = 15.23 \\\\\n",
    "D(d9, d11) &= \\sqrt{(140 - 105)^2 + (82 - 85)^2} = 35.81 \\\\\n",
    "D(d10, d11) &= \\sqrt{(140 - 105)^2 + (90 - 85)^2} = 35.60\n",
    "\\end{aligned}\n",
    "\n"
   ]
  },
  {
   "cell_type": "markdown",
   "metadata": {},
   "source": [
    "Untuk memudahkan kita dalam menganalisa jarak yang diperoleh setiap data latih dengan data uji, hasil perhitungan di atas akan kita sajikan dalam bentuk tabular seperti berikut:"
   ]
  },
  {
   "cell_type": "markdown",
   "metadata": {},
   "source": [
    "| nomor | gula darah | tekanan darah | diabetes | Distance   |\n",
    "|-------|-----------:|--------------:|---------:|-----------:|\n",
    "| 2     |       110  |           92  |        0 |  8,60232527  |\n",
    "| 1     |        99  |           72  |        0 |  14,3178211  |\n",
    "| 9     |       120  |           80  |        1 |  15,8113883  |\n",
    "| 7     |        99  |           70  |        0 |  16,1554944  |\n",
    "| 4     |       128  |           84  |        1 |  23,0217289  |\n",
    "| 5     |        88  |           68  |        0 |  24,0416306  |\n",
    "| 8     |       109  |           60  |        0 |  25,3179778  |\n",
    "| 10    |       140  |           90  |        1 |  35,3553391  |\n",
    "| 3     |       153  |           88  |        1 |  48,0936586  |\n",
    "| 6     |       156  |           92  |        1 |  51,4781507  |\n",
    "| **11** | **105**  | **85**  | **0** |           |\n"
   ]
  },
  {
   "cell_type": "markdown",
   "metadata": {},
   "source": [
    "Berikutnya, untuk menentukan nilai label pada data uji, kita dapat mencari jarak terdekat dengan data latih pada kumpulan data yang telah tersedia. Caranya adalah dengan melakukan pengurutan data berdasarkan jarak terkecil ke terbesar pada kolom Distance dengan metode ascending. Dengan demikian, data yang memiliki jarak terdekat dengan data uji akan muncul di urutan pertama dalam daftar data terurut tersebut."
   ]
  },
  {
   "cell_type": "markdown",
   "metadata": {},
   "source": [
    "| nomor | gula darah | tekanan darah | diabetes | Distance   |\n",
    "|-------|-----------:|--------------:|---------:|-----------:|\n",
    "| 2     |       110  |           92  |        0 |  8,60232527  |\n",
    "| 1     |        99  |           72  |        0 |  14,3178211  |\n",
    "| 9     |       120  |           80  |        1 |  15,8113883  |\n",
    "| 7     |        99  |           70  |        0 |  16,1554944  |\n",
    "| 4     |       128  |           84  |        1 |  23,0217289  |\n",
    "| 5     |        88  |           68  |        0 |  24,0416306  |\n",
    "| 8     |       109  |           60  |        0 |  25,3179778  |\n",
    "| 10    |       140  |           90  |        1 |  35,3553391  |\n",
    "| 3     |       153  |           88  |        1 |  48,0936586  |\n",
    "| 6     |       156  |           92  |        1 |  51,4781507  |\n",
    "| **11** | **105**  | **85**  | **0** |           |\n"
   ]
  },
  {
   "cell_type": "markdown",
   "metadata": {},
   "source": [
    "Setelah data diurutkan berdasarkan jarak terkecil hingga tersesar, kemudian kita ambil tiga data dengan jarak terdekat.**Pada tabel di atas terlihat data pertama dan kedua masuk ke dalam kategori 0 serta data ketiga masuk dalam kategori 1. Sehingga dapat ditarik kesimpulan bahwa data uji tersebut masuk ke dalam kategori “0” karena dari tiga tetangga terdekat, ada dua data yang masuk kategori 0, sementara hanya ada satu data yang masuk kategori 1**."
   ]
  },
  {
   "cell_type": "markdown",
   "metadata": {},
   "source": [
    "#### **Selanjutnya saya akan menggunakan code program**\n",
    "Disini saya memakai Euclidean Distance\n",
    "\n",
    "$$\n",
    "d(x, y) = \\sqrt{\\sum_{i=1}^{n} (x_i - y_i)^2}\n",
    "$$\n",
    "\n",
    "\n",
    "Dengan rumus yang sudah tertera di  diatas selanjutnya saya akan mengambil data postgre dan mysql dari aiven, tapi sebelum itu saya akan menginstal beberapa library yang saya gunakan untuk mengambil data dan menghubungkan  \n",
    "\n",
    "Berikut penjelasan fungsi dari library yang saya install:\n",
    "\n",
    "1. **`pymysql`** – Digunakan untuk menghubungkan dan berinteraksi dengan database MySQL menggunakan Python.\n",
    "2. **`pandas`** – Digunakan untuk manipulasi data dalam bentuk tabel (DataFrame), seperti membaca, menulis, dan mengolah dataset.\n",
    "3. **`psycopg2`** – Digunakan untuk menghubungkan Python dengan database PostgreSQL.\n",
    "4. **`sqlalchemy`** – Sebuah library untuk ORM (Object-Relational Mapping), memudahkan interaksi dengan database menggunakan sintaks Python.\n",
    "5. **`seaborn`** – Library visualisasi berbasis `matplotlib`, digunakan untuk membuat grafik statistik yang menarik.\n",
    "6. **`numpy`** – Library untuk komputasi numerik, memungkinkan operasi pada array dan matriks.\n",
    "7. **`scikit-learn`** – Library machine learning yang digunakan untuk analisis data dan pembuatan model ML seperti KNN.\n",
    "8. **`pyod`** – Digunakan untuk deteksi outlier (anomali) dalam dataset menggunakan berbagai metode.\n",
    "9. **`matplotlib`** – Library untuk membuat grafik dan visualisasi data secara fleksibel.\n",
    "\n",
    "Semua library ini digunakan untuk membaca, menganalisis, mendeteksi outlier, dan memvisualisasikan data "
   ]
  },
  {
   "cell_type": "code",
   "execution_count": 6,
   "metadata": {},
   "outputs": [
    {
     "name": "stdout",
     "output_type": "stream",
     "text": [
      "Requirement already satisfied: pymysql in c:\\laragon\\bin\\python\\python-3.10\\lib\\site-packages (1.1.1)\n",
      "Requirement already satisfied: pandas in c:\\laragon\\bin\\python\\python-3.10\\lib\\site-packages (2.2.3)\n",
      "Requirement already satisfied: psycopg2 in c:\\laragon\\bin\\python\\python-3.10\\lib\\site-packages (2.9.10)\n",
      "Requirement already satisfied: sqlalchemy in c:\\laragon\\bin\\python\\python-3.10\\lib\\site-packages (2.0.38)\n",
      "Requirement already satisfied: seaborn in c:\\laragon\\bin\\python\\python-3.10\\lib\\site-packages (0.13.2)\n",
      "Requirement already satisfied: numpy in c:\\laragon\\bin\\python\\python-3.10\\lib\\site-packages (2.1.3)\n",
      "Requirement already satisfied: scikit-learn in c:\\laragon\\bin\\python\\python-3.10\\lib\\site-packages (1.6.1)\n",
      "Requirement already satisfied: pyod in c:\\laragon\\bin\\python\\python-3.10\\lib\\site-packages (2.0.3)\n",
      "Requirement already satisfied: matplotlib in c:\\laragon\\bin\\python\\python-3.10\\lib\\site-packages (3.10.0)\n",
      "Requirement already satisfied: python-dotenv in c:\\laragon\\bin\\python\\python-3.10\\lib\\site-packages (1.0.1)\n",
      "Requirement already satisfied: python-dateutil>=2.8.2 in c:\\laragon\\bin\\python\\python-3.10\\lib\\site-packages (from pandas) (2.9.0.post0)\n",
      "Requirement already satisfied: pytz>=2020.1 in c:\\laragon\\bin\\python\\python-3.10\\lib\\site-packages (from pandas) (2025.1)\n",
      "Requirement already satisfied: tzdata>=2022.7 in c:\\laragon\\bin\\python\\python-3.10\\lib\\site-packages (from pandas) (2025.1)\n",
      "Requirement already satisfied: greenlet!=0.4.17 in c:\\laragon\\bin\\python\\python-3.10\\lib\\site-packages (from sqlalchemy) (3.1.1)\n",
      "Requirement already satisfied: typing-extensions>=4.6.0 in c:\\laragon\\bin\\python\\python-3.10\\lib\\site-packages (from sqlalchemy) (4.12.2)\n",
      "Requirement already satisfied: scipy>=1.6.0 in c:\\laragon\\bin\\python\\python-3.10\\lib\\site-packages (from scikit-learn) (1.15.2)\n",
      "Requirement already satisfied: joblib>=1.2.0 in c:\\laragon\\bin\\python\\python-3.10\\lib\\site-packages (from scikit-learn) (1.4.2)\n",
      "Requirement already satisfied: threadpoolctl>=3.1.0 in c:\\laragon\\bin\\python\\python-3.10\\lib\\site-packages (from scikit-learn) (3.5.0)\n",
      "Requirement already satisfied: numba>=0.51 in c:\\laragon\\bin\\python\\python-3.10\\lib\\site-packages (from pyod) (0.61.0)\n",
      "Requirement already satisfied: contourpy>=1.0.1 in c:\\laragon\\bin\\python\\python-3.10\\lib\\site-packages (from matplotlib) (1.3.1)\n",
      "Requirement already satisfied: cycler>=0.10 in c:\\laragon\\bin\\python\\python-3.10\\lib\\site-packages (from matplotlib) (0.12.1)\n",
      "Requirement already satisfied: fonttools>=4.22.0 in c:\\laragon\\bin\\python\\python-3.10\\lib\\site-packages (from matplotlib) (4.56.0)\n",
      "Requirement already satisfied: kiwisolver>=1.3.1 in c:\\laragon\\bin\\python\\python-3.10\\lib\\site-packages (from matplotlib) (1.4.8)\n",
      "Requirement already satisfied: packaging>=20.0 in c:\\laragon\\bin\\python\\python-3.10\\lib\\site-packages (from matplotlib) (24.2)\n",
      "Requirement already satisfied: pillow>=8 in c:\\laragon\\bin\\python\\python-3.10\\lib\\site-packages (from matplotlib) (11.1.0)\n",
      "Requirement already satisfied: pyparsing>=2.3.1 in c:\\laragon\\bin\\python\\python-3.10\\lib\\site-packages (from matplotlib) (3.2.1)\n",
      "Requirement already satisfied: llvmlite<0.45,>=0.44.0dev0 in c:\\laragon\\bin\\python\\python-3.10\\lib\\site-packages (from numba>=0.51->pyod) (0.44.0)\n",
      "Requirement already satisfied: six>=1.5 in c:\\laragon\\bin\\python\\python-3.10\\lib\\site-packages (from python-dateutil>=2.8.2->pandas) (1.17.0)\n",
      "Note: you may need to restart the kernel to use updated packages.\n"
     ]
    },
    {
     "name": "stderr",
     "output_type": "stream",
     "text": [
      "\n",
      "[notice] A new release of pip is available: 24.3.1 -> 25.0.1\n",
      "[notice] To update, run: python.exe -m pip install --upgrade pip\n"
     ]
    }
   ],
   "source": [
    "%pip install pymysql pandas psycopg2 sqlalchemy seaborn numpy pandas scikit-learn pyod matplotlib seaborn python-dotenv"
   ]
  },
  {
   "cell_type": "markdown",
   "metadata": {},
   "source": [
    "`pymysql`  \n",
    "Fungsi: Driver untuk koneksi ke database MySQL menggunakan Python.  \n",
    "Kegunaan: Digunakan oleh SQLAlchemy untuk membuat koneksi ke MySQL.  \n",
    "\n",
    "`pandas`  \n",
    "Fungsi: Library untuk manipulasi dan analisis data, terutama menggunakan struktur data DataFrame.  \n",
    "Kegunaan: Membaca, mengolah, dan mengekspor data dari berbagai sumber (seperti database, CSV, Excel).  \n",
    "\n",
    "`psycopg2`  \n",
    "Fungsi: Driver untuk koneksi ke database PostgreSQL.  \n",
    "Kegunaan: Digunakan oleh SQLAlchemy untuk membuat koneksi ke PostgreSQL.  \n",
    "\n",
    "`sqlalchemy`  \n",
    "Fungsi: Toolkit dan Object Relational Mapper (ORM) untuk Python.  \n",
    "Kegunaan: Memudahkan pembuatan koneksi dan interaksi dengan database menggunakan sintaks Python.  \n",
    "\n",
    "`seaborn`  \n",
    "Fungsi: Library visualisasi data berbasis matplotlib yang menyediakan antarmuka tingkat tinggi untuk membuat grafik statistik.  \n",
    "Kegunaan: Membantu membuat visualisasi data yang menarik dan informatif dengan sintaks yang lebih sederhana.  \n",
    "\n",
    "`numpy`  \n",
    "Fungsi: Library untuk komputasi numerik di Python dengan dukungan array multidimensi.  \n",
    "Kegunaan: Dasar bagi banyak operasi numerik dan ilmiah, serta digunakan oleh library lain seperti Pandas dan scikit-learn.  \n",
    "\n",
    "`scikit-learn`  \n",
    "Fungsi: Library untuk machine learning dan data mining di Python.  \n",
    "Kegunaan: Menyediakan algoritma-algoritma untuk klasifikasi, regresi, clustering, dan pemrosesan data.  \n",
    "\n",
    "`pyod`\n",
    "Fungsi: Library Python untuk deteksi outlier (anomaly detection).  \n",
    "Kegunaan: Berguna untuk mengidentifikasi data abnormal atau outlier dalam dataset, sebuah tugas penting dalam data mining.  \n",
    "\n",
    "`matplotlib`  \n",
    "Fungsi: Library untuk membuat grafik dan visualisasi data di Python.  \n",
    "Kegunaan: Digunakan sebagai dasar untuk visualisasi dan merupakan fondasi bagi library lain seperti seaborn.  \n",
    "\n",
    "`python-dotenv`  \n",
    "Fungsi: Library untuk memuat variabel lingkungan dari file `.env.`  \n",
    "Kegunaan: Memudahkan pengelolaan kredensial dan konfigurasi tanpa harus hardcode di dalam kode.  \n",
    "\n",
    "\n",
    "\n",
    "> **Catatan:** Perintah di atas menggunakan `%pip install` yang umum digunakan pada lingkungan Jupyter Notebook. Jika kamu menjalankannya di terminal, cukup gunakan `pip install` diikuti daftar paketnya.\n",
    "\n",
    "Secara keseluruhan, perintah ini menginstal paket-paket yang mendukung koneksi database, manipulasi data, analisis statistik, machine learning, visualisasi data, serta pengelolaan variabel lingkungan. Paket-paket ini merupakan fondasi utama untuk membangun proyek data mining atau analisis data di Python."
   ]
  },
  {
   "cell_type": "markdown",
   "metadata": {},
   "source": [
    "**Import Library**"
   ]
  },
  {
   "cell_type": "code",
   "execution_count": 7,
   "metadata": {},
   "outputs": [],
   "source": [
    "import os\n",
    "import pandas as pd\n",
    "from sqlalchemy import create_engine\n",
    "from dotenv import load_dotenv"
   ]
  },
  {
   "cell_type": "markdown",
   "metadata": {},
   "source": [
    "`os`: Untuk mengakses variabel lingkungan (environment variables).  \n",
    "`pandas`: Digunakan untuk manipulasi data, meskipun dalam kode ini belum dipakai secara eksplisit.  \n",
    "`create_engine dari SQLAlchemy`: Untuk membuat koneksi ke database dalam bentuk “engine”.  \n",
    "`load_dotenv` dari `python-dotenv`: Untuk memuat file `.env` agar variabel lingkungan (seperti kredensial database) dapat diakses dalam kode.  "
   ]
  },
  {
   "cell_type": "markdown",
   "metadata": {},
   "source": [
    "**Memuat File `.env`**"
   ]
  },
  {
   "cell_type": "code",
   "execution_count": 8,
   "metadata": {},
   "outputs": [
    {
     "data": {
      "text/plain": [
       "True"
      ]
     },
     "execution_count": 8,
     "metadata": {},
     "output_type": "execute_result"
    }
   ],
   "source": [
    "load_dotenv()"
   ]
  },
  {
   "cell_type": "markdown",
   "metadata": {},
   "source": [
    "Fungsi `load_dotenv()` membaca file `.env` (yang harus berada di direktori yang sama dengan skrip) dan menambahkan variabel-variabel yang ada ke dalam environment sehingga bisa diambil dengan `os.getenv()`."
   ]
  },
  {
   "cell_type": "markdown",
   "metadata": {},
   "source": [
    "**Konfigurasi Koneksi Database**  "
   ]
  },
  {
   "cell_type": "code",
   "execution_count": 9,
   "metadata": {},
   "outputs": [],
   "source": [
    "postgres_config = {\n",
    "    'host': os.getenv('POSTGRES_HOST'),\n",
    "    'port': os.getenv('POSTGRES_PORT'),\n",
    "    'user': os.getenv('POSTGRES_USER'),\n",
    "    'password': os.getenv('POSTGRES_PASSWORD'),\n",
    "    'database': os.getenv('POSTGRES_DATABASE')\n",
    "}\n",
    "mysql_config = {\n",
    "    'host': os.getenv('MYSQL_HOST'),\n",
    "    'port': os.getenv('MYSQL_PORT'),\n",
    "    'user': os.getenv('MYSQL_USER'),\n",
    "    'password': os.getenv('MYSQL_PASSWORD'),\n",
    "    'database': os.getenv('MYSQL_DATABASE')\n",
    "}"
   ]
  },
  {
   "cell_type": "markdown",
   "metadata": {},
   "source": [
    "Kode ini membuat dua dictionary, satu untuk PostgreSQL dan satu untuk MySQL.  \n",
    "Masing-masing menggunakan `os.getenv()` untuk mengambil nilai   konfigurasi dari file `.env `(misalnya, `POSTGRES_HOST, POSTGRES_PORT,` dll).  \n",
    "`postgres_config`: Menyimpan konfigurasi untuk koneksi PostgreSQL.  \n",
    "`mysql_config`: Menyimpan konfigurasi untuk koneksi MySQL.  "
   ]
  },
  {
   "cell_type": "markdown",
   "metadata": {},
   "source": [
    "**Menyusun String Koneksi PostgreSQL**"
   ]
  },
  {
   "cell_type": "code",
   "execution_count": 10,
   "metadata": {},
   "outputs": [],
   "source": [
    "postgres_conn_str = (\n",
    "    f\"postgresql+psycopg2://{postgres_config['user']}:{postgres_config['password']}\"\n",
    "    f\"@{postgres_config['host']}:{postgres_config['port']}/{postgres_config['database']}?sslmode=require\"\n",
    ")"
   ]
  },
  {
   "cell_type": "markdown",
   "metadata": {},
   "source": [
    "Menggunakan format URL untuk SQLAlchemy dengan driver `psycopg2`:\n",
    "Awalan `postgresql+psycopg2://` menunjukkan bahwa koneksi menggunakan PostgreSQL dengan driver `psycopg2`.\n",
    "`{user}:{password}@{host}:{port}/{database}`: Menyusun kredensial dan alamat host.\n",
    "`?sslmode=require:` Parameter tambahan untuk memaksa koneksi menggunakan SSL."
   ]
  },
  {
   "cell_type": "markdown",
   "metadata": {},
   "source": [
    "**Menyusun String Koneksi MySQL:**"
   ]
  },
  {
   "cell_type": "code",
   "execution_count": 11,
   "metadata": {},
   "outputs": [],
   "source": [
    "mysql_conn_str = (\n",
    "    f\"mysql+pymysql://{mysql_config['user']}:{mysql_config['password']}\"\n",
    "    f\"@{mysql_config['host']}:{mysql_config['port']}/{mysql_config['database']}\"\n",
    ")"
   ]
  },
  {
   "cell_type": "markdown",
   "metadata": {},
   "source": [
    "Mirip dengan PostgreSQL, namun awalan `mysql+pymysql://` menunjukkan bahwa koneksi menggunakan MySQL dengan driver `pymysql`.\n",
    "String ini menyusun kredensial dan alamat host untuk MySQL."
   ]
  },
  {
   "cell_type": "markdown",
   "metadata": {},
   "source": [
    "**Membuat Engine Database**"
   ]
  },
  {
   "cell_type": "code",
   "execution_count": 12,
   "metadata": {},
   "outputs": [],
   "source": [
    "pg_engine = create_engine(postgres_conn_str)\n",
    "mysql_engine = create_engine(mysql_conn_str)"
   ]
  },
  {
   "cell_type": "markdown",
   "metadata": {},
   "source": [
    "\n",
    "`create_engine()` dari `SQLAlchemy` membuat objek koneksi (engine) berdasarkan string koneksi yang telah disusun.  \n",
    "`pg_engine`: Engine untuk koneksi PostgreSQL.  \n",
    "`mysql_engine`: Engine untuk koneksi MySQL.  "
   ]
  },
  {
   "cell_type": "markdown",
   "metadata": {},
   "source": [
    "**Blok Try-Finally**"
   ]
  },
  {
   "cell_type": "code",
   "execution_count": 13,
   "metadata": {},
   "outputs": [
    {
     "name": "stdout",
     "output_type": "stream",
     "text": [
      "sudah terkoneksi\n"
     ]
    }
   ],
   "source": [
    "try:\n",
    "    print(\"sudah terkoneksi\")    \n",
    "finally:\n",
    "    pg_engine.dispose()\n",
    "    mysql_engine.dispose()"
   ]
  },
  {
   "cell_type": "markdown",
   "metadata": {},
   "source": [
    "`try` Block:  \n",
    "Mencetak pesan `\"sudah terkoneksi\"`. Jika tidak terjadi error selama pembuatan engine, maka pesan ini akan tampil, menandakan bahwa koneksi ke kedua database berhasil.  \n",
    "`finally` Block:  \n",
    "Menutup koneksi dengan memanggil `dispose()` pada masing-masing engine. Fungsi `dispose()` memastikan bahwa semua koneksi yang telah dibuat ditutup dengan baik sehingga tidak terjadi kebocoran resource.\n"
   ]
  },
  {
   "cell_type": "markdown",
   "metadata": {},
   "source": [
    "**Definisi Query untuk MySQL**"
   ]
  },
  {
   "cell_type": "code",
   "execution_count": 14,
   "metadata": {},
   "outputs": [],
   "source": [
    "mysql_query = \"SELECT * FROM iris_data ORDER BY id;\"\n",
    "df_mysql = pd.read_sql(mysql_query, mysql_engine)"
   ]
  },
  {
   "cell_type": "markdown",
   "metadata": {},
   "source": [
    "`mysql_query = \"SELECT * FROM iris_data ORDER BY id;\"`  \n",
    "Query SQL ini mengambil semua baris (`SELECT *`) dari tabel `iris_data` di MySQL dan mengurutkannya berdasarkan kolom `id`  \n",
    "`df_mysql = pd.read_sql(mysql_query, mysql_engine)`  \n",
    "Fungsi `pd.read_sql()` menjalankan query tersebut pada engine MySQL `(mysql_engine)` dan mengembalikan hasilnya sebagai DataFrame (variabel `df_mysql`).  "
   ]
  },
  {
   "cell_type": "code",
   "execution_count": 15,
   "metadata": {},
   "outputs": [],
   "source": [
    "pg_query = \"SELECT * FROM iris_data ORDER BY id;\"\n",
    "df_postgres = pd.read_sql(pg_query, pg_engine)"
   ]
  },
  {
   "cell_type": "markdown",
   "metadata": {},
   "source": [
    "`pg_query = \"SELECT * FROM iris_data ORDER BY id;\"`\n",
    "Sama seperti query untuk MySQL, query ini mengambil semua baris dari tabel `iris_data` di PostgreSQL dan mengurutkannya berdasarkan `id`.  \n",
    "`df_postgres = pd.read_sql(pg_query, pg_engine)`\n",
    "Fungsi ini menjalankan query pada engine PostgreSQL (`pg_engine`) dan hasilnya disimpan dalam DataFrame `df_postgres`"
   ]
  },
  {
   "cell_type": "markdown",
   "metadata": {},
   "source": [
    "**Menampilkan Data**  \n",
    "\n",
    "`print(\"Data dari MySQL:\")`  \n",
    "Mencetak judul untuk data yang diambil dari MySQL.  \n",
    "`print(df_mysql)`  \n",
    "Menampilkan DataFrame yang berisi hasil query dari MySQL.  \n",
    "`print(\"\\nData dari PostgreSQL:\")`  \n",
    "Mencetak judul untuk data yang diambil dari PostgreSQL dengan menambahkan newline (\\n) agar output menjadi lebih rapi.  \n",
    "`print(df_postgres)`  \n",
    "Menampilkan DataFrame hasil query dari PostgreSQL.  "
   ]
  },
  {
   "cell_type": "code",
   "execution_count": 16,
   "metadata": {},
   "outputs": [
    {
     "name": "stdout",
     "output_type": "stream",
     "text": [
      "Data dari MySQL:\n",
      "      id           class  petal_length  petal_width\n",
      "0      1     Iris-setosa          70.0         86.4\n",
      "1      2     Iris-setosa           1.4          0.2\n",
      "2      3     Iris-setosa           1.3          0.2\n",
      "3      4     Iris-setosa           1.5          0.2\n",
      "4      5     Iris-setosa           1.4          0.2\n",
      "..   ...             ...           ...          ...\n",
      "145  146  Iris-virginica           5.2          2.3\n",
      "146  147  Iris-virginica           5.0          1.9\n",
      "147  148  Iris-virginica           5.2          2.0\n",
      "148  149  Iris-virginica           5.4          2.3\n",
      "149  150  Iris-virginica           5.1          1.8\n",
      "\n",
      "[150 rows x 4 columns]\n",
      "\n",
      " Data dari PostgreSQL:\n",
      "      id           class  sepal_length  sepal_width\n",
      "0      1     Iris-setosa          20.1         30.5\n",
      "1      2     Iris-setosa           4.9          3.0\n",
      "2      3     Iris-setosa           4.7          3.2\n",
      "3      4     Iris-setosa           4.6          3.1\n",
      "4      5     Iris-setosa           5.0          3.6\n",
      "..   ...             ...           ...          ...\n",
      "145  146  Iris-virginica           6.7          3.0\n",
      "146  147  Iris-virginica           6.3          2.5\n",
      "147  148  Iris-virginica           6.5          3.0\n",
      "148  149  Iris-virginica           6.2          3.4\n",
      "149  150  Iris-virginica           5.9          3.0\n",
      "\n",
      "[150 rows x 4 columns]\n"
     ]
    }
   ],
   "source": [
    "print(\"Data dari MySQL:\")\n",
    "print(df_mysql)\n",
    "\n",
    "print(\"\\n Data dari PostgreSQL:\")\n",
    "print(df_postgres)"
   ]
  },
  {
   "cell_type": "markdown",
   "metadata": {},
   "source": [
    "**Mengambil Data dari MySQL**"
   ]
  },
  {
   "cell_type": "code",
   "execution_count": 17,
   "metadata": {},
   "outputs": [],
   "source": [
    "mysql_petal = df_mysql[['id', 'class', 'petal_length', 'petal_width']]"
   ]
  },
  {
   "cell_type": "markdown",
   "metadata": {},
   "source": [
    "Dari DataFrame `df_mysql`, kita hanya memilih kolom-kolom yang diperlukan   \n",
    "`id`,`class`,`petal_length`,`petal_width`  \n",
    "Data yang dipilih disimpan ke variabel `petal_data`  "
   ]
  },
  {
   "cell_type": "markdown",
   "metadata": {},
   "source": [
    "**Mengambil Data dari PostgreSQL**"
   ]
  },
  {
   "cell_type": "code",
   "execution_count": 18,
   "metadata": {},
   "outputs": [],
   "source": [
    "postgres_sepal = df_postgres[['sepal_length', 'sepal_width']]"
   ]
  },
  {
   "cell_type": "markdown",
   "metadata": {},
   "source": [
    "Dari DataFrame `df_postgres`, kita memilih dua kolom:  \n",
    "`sepal_length`  \n",
    "`sepal_width`  \n",
    "Data ini disimpan ke variabel `sepal_data`.  \n",
    "Kenapa kok cuma mengambil dua kolom karena kita sudah mengambil kolom `id`,`class` di table petal dan untuk menghindari duplikasi "
   ]
  },
  {
   "cell_type": "markdown",
   "metadata": {},
   "source": [
    "**Menggambungkan data**"
   ]
  },
  {
   "cell_type": "code",
   "execution_count": 19,
   "metadata": {},
   "outputs": [],
   "source": [
    "combined_df = pd.merge(mysql_petal, postgres_sepal, left_index=True, right_index=True)"
   ]
  },
  {
   "cell_type": "markdown",
   "metadata": {},
   "source": [
    "Fungsi `.merge()` menggabungkan dua DataFrame. \n",
    "Di sini, kita menggabungkan `petal_data` dan `sepal_data` dengan cara:  \n",
    "`left_index=True, right_index=True`: Menggabungkan berdasarkan index (baris) dari kedua DataFrame.  \n",
    "Jadi, baris pertama dari `petal_data` akan disandingkan dengan baris pertama dari `sepal_data`, dan seterusnya.  "
   ]
  },
  {
   "cell_type": "markdown",
   "metadata": {},
   "source": [
    "**Menampilkan Hasil Gabungan**\n",
    "\n",
    "`print(\"Data Gabungan:\")` mencetak teks sebagai judul output.  \n",
    "`print(combined.head())` menampilkan 5 baris pertama dari DataFrame hasil penggabungan `(combined)`.  "
   ]
  },
  {
   "cell_type": "code",
   "execution_count": 20,
   "metadata": {},
   "outputs": [
    {
     "name": "stdout",
     "output_type": "stream",
     "text": [
      "\n",
      "Data Gabungan (Merge) dengan Class:\n",
      "   id        class  petal_length  petal_width  sepal_length  sepal_width\n",
      "0   1  Iris-setosa          70.0         86.4          20.1         30.5\n",
      "1   2  Iris-setosa           1.4          0.2           4.9          3.0\n",
      "2   3  Iris-setosa           1.3          0.2           4.7          3.2\n",
      "3   4  Iris-setosa           1.5          0.2           4.6          3.1\n",
      "4   5  Iris-setosa           1.4          0.2           5.0          3.6\n"
     ]
    }
   ],
   "source": [
    "print(\"\\nData Gabungan (Merge) dengan Class:\")\n",
    "print(combined_df.head())"
   ]
  },
  {
   "cell_type": "markdown",
   "metadata": {},
   "source": [
    "##### **Selanjutnya saya mendeteksi outlier menggunakan model KNN dengan metode euclidean distance lalu memvisualisasikannya menggunakan Seaborn dan Matplotlib.**"
   ]
  },
  {
   "cell_type": "markdown",
   "metadata": {},
   "source": [
    "`pandas` → untuk mengolah data dalam bentuk DataFrame.  \n",
    "`numpy` → untuk komputasi numerik, seperti perhitungan rata-rata dan standar deviasi.  \n",
    "`seaborn`→ untuk membuat visualisasi data yang menarik.  \n",
    "`matplotlib.pyplot` → untuk membuat grafik.  \n",
    "`sklearn.neighbors.NearestNeighbors` → digunakan untuk mendeteksi outlier dengan KNN.  \n",
    "\n",
    "Variabel `combined_df` diasumsikan sudah berisi dataset yang akan digunakan untuk analisis.  \n",
    "\n",
    "`id_column = data['id'] if 'id' in data.columns else None`  \n",
    "Jika dataset memiliki kolom *\"id\"*, maka kolom tersebut disimpan dalam variabel `id_column.`  \n",
    "ID ini berguna untuk mengetahui **ID** data yang terdeteksi sebagai outlier.\n"
   ]
  },
  {
   "cell_type": "code",
   "execution_count": null,
   "metadata": {},
   "outputs": [],
   "source": [
    "# Load dataset\n",
    "data = combined_df\n",
    "# Simpan ID jika ada\n",
    "id_column = data['id'] if 'id' in data.columns else None"
   ]
  },
  {
   "cell_type": "markdown",
   "metadata": {},
   "source": [
    "**memilih kolom yang digunakan untuk deteksi outlier**"
   ]
  },
  {
   "cell_type": "code",
   "execution_count": 22,
   "metadata": {},
   "outputs": [],
   "source": [
    "selected_columns = ['sepal_length', 'sepal_width', 'petal_length', 'petal_width']\n",
    "data = data[selected_columns]\n"
   ]
  },
  {
   "cell_type": "markdown",
   "metadata": {},
   "source": [
    "**Ambil data sebagai array X**"
   ]
  },
  {
   "cell_type": "code",
   "execution_count": 23,
   "metadata": {},
   "outputs": [],
   "source": [
    "X = data.values"
   ]
  },
  {
   "cell_type": "markdown",
   "metadata": {},
   "source": [
    "**Deteksi Outlier dengan K-Nearest Neighbors (KNN) menggunakan Euclidean Distance**"
   ]
  },
  {
   "cell_type": "code",
   "execution_count": 25,
   "metadata": {},
   "outputs": [
    {
     "data": {
      "text/html": [
       "<style>#sk-container-id-1 {\n",
       "  /* Definition of color scheme common for light and dark mode */\n",
       "  --sklearn-color-text: #000;\n",
       "  --sklearn-color-text-muted: #666;\n",
       "  --sklearn-color-line: gray;\n",
       "  /* Definition of color scheme for unfitted estimators */\n",
       "  --sklearn-color-unfitted-level-0: #fff5e6;\n",
       "  --sklearn-color-unfitted-level-1: #f6e4d2;\n",
       "  --sklearn-color-unfitted-level-2: #ffe0b3;\n",
       "  --sklearn-color-unfitted-level-3: chocolate;\n",
       "  /* Definition of color scheme for fitted estimators */\n",
       "  --sklearn-color-fitted-level-0: #f0f8ff;\n",
       "  --sklearn-color-fitted-level-1: #d4ebff;\n",
       "  --sklearn-color-fitted-level-2: #b3dbfd;\n",
       "  --sklearn-color-fitted-level-3: cornflowerblue;\n",
       "\n",
       "  /* Specific color for light theme */\n",
       "  --sklearn-color-text-on-default-background: var(--sg-text-color, var(--theme-code-foreground, var(--jp-content-font-color1, black)));\n",
       "  --sklearn-color-background: var(--sg-background-color, var(--theme-background, var(--jp-layout-color0, white)));\n",
       "  --sklearn-color-border-box: var(--sg-text-color, var(--theme-code-foreground, var(--jp-content-font-color1, black)));\n",
       "  --sklearn-color-icon: #696969;\n",
       "\n",
       "  @media (prefers-color-scheme: dark) {\n",
       "    /* Redefinition of color scheme for dark theme */\n",
       "    --sklearn-color-text-on-default-background: var(--sg-text-color, var(--theme-code-foreground, var(--jp-content-font-color1, white)));\n",
       "    --sklearn-color-background: var(--sg-background-color, var(--theme-background, var(--jp-layout-color0, #111)));\n",
       "    --sklearn-color-border-box: var(--sg-text-color, var(--theme-code-foreground, var(--jp-content-font-color1, white)));\n",
       "    --sklearn-color-icon: #878787;\n",
       "  }\n",
       "}\n",
       "\n",
       "#sk-container-id-1 {\n",
       "  color: var(--sklearn-color-text);\n",
       "}\n",
       "\n",
       "#sk-container-id-1 pre {\n",
       "  padding: 0;\n",
       "}\n",
       "\n",
       "#sk-container-id-1 input.sk-hidden--visually {\n",
       "  border: 0;\n",
       "  clip: rect(1px 1px 1px 1px);\n",
       "  clip: rect(1px, 1px, 1px, 1px);\n",
       "  height: 1px;\n",
       "  margin: -1px;\n",
       "  overflow: hidden;\n",
       "  padding: 0;\n",
       "  position: absolute;\n",
       "  width: 1px;\n",
       "}\n",
       "\n",
       "#sk-container-id-1 div.sk-dashed-wrapped {\n",
       "  border: 1px dashed var(--sklearn-color-line);\n",
       "  margin: 0 0.4em 0.5em 0.4em;\n",
       "  box-sizing: border-box;\n",
       "  padding-bottom: 0.4em;\n",
       "  background-color: var(--sklearn-color-background);\n",
       "}\n",
       "\n",
       "#sk-container-id-1 div.sk-container {\n",
       "  /* jupyter's `normalize.less` sets `[hidden] { display: none; }`\n",
       "     but bootstrap.min.css set `[hidden] { display: none !important; }`\n",
       "     so we also need the `!important` here to be able to override the\n",
       "     default hidden behavior on the sphinx rendered scikit-learn.org.\n",
       "     See: https://github.com/scikit-learn/scikit-learn/issues/21755 */\n",
       "  display: inline-block !important;\n",
       "  position: relative;\n",
       "}\n",
       "\n",
       "#sk-container-id-1 div.sk-text-repr-fallback {\n",
       "  display: none;\n",
       "}\n",
       "\n",
       "div.sk-parallel-item,\n",
       "div.sk-serial,\n",
       "div.sk-item {\n",
       "  /* draw centered vertical line to link estimators */\n",
       "  background-image: linear-gradient(var(--sklearn-color-text-on-default-background), var(--sklearn-color-text-on-default-background));\n",
       "  background-size: 2px 100%;\n",
       "  background-repeat: no-repeat;\n",
       "  background-position: center center;\n",
       "}\n",
       "\n",
       "/* Parallel-specific style estimator block */\n",
       "\n",
       "#sk-container-id-1 div.sk-parallel-item::after {\n",
       "  content: \"\";\n",
       "  width: 100%;\n",
       "  border-bottom: 2px solid var(--sklearn-color-text-on-default-background);\n",
       "  flex-grow: 1;\n",
       "}\n",
       "\n",
       "#sk-container-id-1 div.sk-parallel {\n",
       "  display: flex;\n",
       "  align-items: stretch;\n",
       "  justify-content: center;\n",
       "  background-color: var(--sklearn-color-background);\n",
       "  position: relative;\n",
       "}\n",
       "\n",
       "#sk-container-id-1 div.sk-parallel-item {\n",
       "  display: flex;\n",
       "  flex-direction: column;\n",
       "}\n",
       "\n",
       "#sk-container-id-1 div.sk-parallel-item:first-child::after {\n",
       "  align-self: flex-end;\n",
       "  width: 50%;\n",
       "}\n",
       "\n",
       "#sk-container-id-1 div.sk-parallel-item:last-child::after {\n",
       "  align-self: flex-start;\n",
       "  width: 50%;\n",
       "}\n",
       "\n",
       "#sk-container-id-1 div.sk-parallel-item:only-child::after {\n",
       "  width: 0;\n",
       "}\n",
       "\n",
       "/* Serial-specific style estimator block */\n",
       "\n",
       "#sk-container-id-1 div.sk-serial {\n",
       "  display: flex;\n",
       "  flex-direction: column;\n",
       "  align-items: center;\n",
       "  background-color: var(--sklearn-color-background);\n",
       "  padding-right: 1em;\n",
       "  padding-left: 1em;\n",
       "}\n",
       "\n",
       "\n",
       "/* Toggleable style: style used for estimator/Pipeline/ColumnTransformer box that is\n",
       "clickable and can be expanded/collapsed.\n",
       "- Pipeline and ColumnTransformer use this feature and define the default style\n",
       "- Estimators will overwrite some part of the style using the `sk-estimator` class\n",
       "*/\n",
       "\n",
       "/* Pipeline and ColumnTransformer style (default) */\n",
       "\n",
       "#sk-container-id-1 div.sk-toggleable {\n",
       "  /* Default theme specific background. It is overwritten whether we have a\n",
       "  specific estimator or a Pipeline/ColumnTransformer */\n",
       "  background-color: var(--sklearn-color-background);\n",
       "}\n",
       "\n",
       "/* Toggleable label */\n",
       "#sk-container-id-1 label.sk-toggleable__label {\n",
       "  cursor: pointer;\n",
       "  display: flex;\n",
       "  width: 100%;\n",
       "  margin-bottom: 0;\n",
       "  padding: 0.5em;\n",
       "  box-sizing: border-box;\n",
       "  text-align: center;\n",
       "  align-items: start;\n",
       "  justify-content: space-between;\n",
       "  gap: 0.5em;\n",
       "}\n",
       "\n",
       "#sk-container-id-1 label.sk-toggleable__label .caption {\n",
       "  font-size: 0.6rem;\n",
       "  font-weight: lighter;\n",
       "  color: var(--sklearn-color-text-muted);\n",
       "}\n",
       "\n",
       "#sk-container-id-1 label.sk-toggleable__label-arrow:before {\n",
       "  /* Arrow on the left of the label */\n",
       "  content: \"▸\";\n",
       "  float: left;\n",
       "  margin-right: 0.25em;\n",
       "  color: var(--sklearn-color-icon);\n",
       "}\n",
       "\n",
       "#sk-container-id-1 label.sk-toggleable__label-arrow:hover:before {\n",
       "  color: var(--sklearn-color-text);\n",
       "}\n",
       "\n",
       "/* Toggleable content - dropdown */\n",
       "\n",
       "#sk-container-id-1 div.sk-toggleable__content {\n",
       "  max-height: 0;\n",
       "  max-width: 0;\n",
       "  overflow: hidden;\n",
       "  text-align: left;\n",
       "  /* unfitted */\n",
       "  background-color: var(--sklearn-color-unfitted-level-0);\n",
       "}\n",
       "\n",
       "#sk-container-id-1 div.sk-toggleable__content.fitted {\n",
       "  /* fitted */\n",
       "  background-color: var(--sklearn-color-fitted-level-0);\n",
       "}\n",
       "\n",
       "#sk-container-id-1 div.sk-toggleable__content pre {\n",
       "  margin: 0.2em;\n",
       "  border-radius: 0.25em;\n",
       "  color: var(--sklearn-color-text);\n",
       "  /* unfitted */\n",
       "  background-color: var(--sklearn-color-unfitted-level-0);\n",
       "}\n",
       "\n",
       "#sk-container-id-1 div.sk-toggleable__content.fitted pre {\n",
       "  /* unfitted */\n",
       "  background-color: var(--sklearn-color-fitted-level-0);\n",
       "}\n",
       "\n",
       "#sk-container-id-1 input.sk-toggleable__control:checked~div.sk-toggleable__content {\n",
       "  /* Expand drop-down */\n",
       "  max-height: 200px;\n",
       "  max-width: 100%;\n",
       "  overflow: auto;\n",
       "}\n",
       "\n",
       "#sk-container-id-1 input.sk-toggleable__control:checked~label.sk-toggleable__label-arrow:before {\n",
       "  content: \"▾\";\n",
       "}\n",
       "\n",
       "/* Pipeline/ColumnTransformer-specific style */\n",
       "\n",
       "#sk-container-id-1 div.sk-label input.sk-toggleable__control:checked~label.sk-toggleable__label {\n",
       "  color: var(--sklearn-color-text);\n",
       "  background-color: var(--sklearn-color-unfitted-level-2);\n",
       "}\n",
       "\n",
       "#sk-container-id-1 div.sk-label.fitted input.sk-toggleable__control:checked~label.sk-toggleable__label {\n",
       "  background-color: var(--sklearn-color-fitted-level-2);\n",
       "}\n",
       "\n",
       "/* Estimator-specific style */\n",
       "\n",
       "/* Colorize estimator box */\n",
       "#sk-container-id-1 div.sk-estimator input.sk-toggleable__control:checked~label.sk-toggleable__label {\n",
       "  /* unfitted */\n",
       "  background-color: var(--sklearn-color-unfitted-level-2);\n",
       "}\n",
       "\n",
       "#sk-container-id-1 div.sk-estimator.fitted input.sk-toggleable__control:checked~label.sk-toggleable__label {\n",
       "  /* fitted */\n",
       "  background-color: var(--sklearn-color-fitted-level-2);\n",
       "}\n",
       "\n",
       "#sk-container-id-1 div.sk-label label.sk-toggleable__label,\n",
       "#sk-container-id-1 div.sk-label label {\n",
       "  /* The background is the default theme color */\n",
       "  color: var(--sklearn-color-text-on-default-background);\n",
       "}\n",
       "\n",
       "/* On hover, darken the color of the background */\n",
       "#sk-container-id-1 div.sk-label:hover label.sk-toggleable__label {\n",
       "  color: var(--sklearn-color-text);\n",
       "  background-color: var(--sklearn-color-unfitted-level-2);\n",
       "}\n",
       "\n",
       "/* Label box, darken color on hover, fitted */\n",
       "#sk-container-id-1 div.sk-label.fitted:hover label.sk-toggleable__label.fitted {\n",
       "  color: var(--sklearn-color-text);\n",
       "  background-color: var(--sklearn-color-fitted-level-2);\n",
       "}\n",
       "\n",
       "/* Estimator label */\n",
       "\n",
       "#sk-container-id-1 div.sk-label label {\n",
       "  font-family: monospace;\n",
       "  font-weight: bold;\n",
       "  display: inline-block;\n",
       "  line-height: 1.2em;\n",
       "}\n",
       "\n",
       "#sk-container-id-1 div.sk-label-container {\n",
       "  text-align: center;\n",
       "}\n",
       "\n",
       "/* Estimator-specific */\n",
       "#sk-container-id-1 div.sk-estimator {\n",
       "  font-family: monospace;\n",
       "  border: 1px dotted var(--sklearn-color-border-box);\n",
       "  border-radius: 0.25em;\n",
       "  box-sizing: border-box;\n",
       "  margin-bottom: 0.5em;\n",
       "  /* unfitted */\n",
       "  background-color: var(--sklearn-color-unfitted-level-0);\n",
       "}\n",
       "\n",
       "#sk-container-id-1 div.sk-estimator.fitted {\n",
       "  /* fitted */\n",
       "  background-color: var(--sklearn-color-fitted-level-0);\n",
       "}\n",
       "\n",
       "/* on hover */\n",
       "#sk-container-id-1 div.sk-estimator:hover {\n",
       "  /* unfitted */\n",
       "  background-color: var(--sklearn-color-unfitted-level-2);\n",
       "}\n",
       "\n",
       "#sk-container-id-1 div.sk-estimator.fitted:hover {\n",
       "  /* fitted */\n",
       "  background-color: var(--sklearn-color-fitted-level-2);\n",
       "}\n",
       "\n",
       "/* Specification for estimator info (e.g. \"i\" and \"?\") */\n",
       "\n",
       "/* Common style for \"i\" and \"?\" */\n",
       "\n",
       ".sk-estimator-doc-link,\n",
       "a:link.sk-estimator-doc-link,\n",
       "a:visited.sk-estimator-doc-link {\n",
       "  float: right;\n",
       "  font-size: smaller;\n",
       "  line-height: 1em;\n",
       "  font-family: monospace;\n",
       "  background-color: var(--sklearn-color-background);\n",
       "  border-radius: 1em;\n",
       "  height: 1em;\n",
       "  width: 1em;\n",
       "  text-decoration: none !important;\n",
       "  margin-left: 0.5em;\n",
       "  text-align: center;\n",
       "  /* unfitted */\n",
       "  border: var(--sklearn-color-unfitted-level-1) 1pt solid;\n",
       "  color: var(--sklearn-color-unfitted-level-1);\n",
       "}\n",
       "\n",
       ".sk-estimator-doc-link.fitted,\n",
       "a:link.sk-estimator-doc-link.fitted,\n",
       "a:visited.sk-estimator-doc-link.fitted {\n",
       "  /* fitted */\n",
       "  border: var(--sklearn-color-fitted-level-1) 1pt solid;\n",
       "  color: var(--sklearn-color-fitted-level-1);\n",
       "}\n",
       "\n",
       "/* On hover */\n",
       "div.sk-estimator:hover .sk-estimator-doc-link:hover,\n",
       ".sk-estimator-doc-link:hover,\n",
       "div.sk-label-container:hover .sk-estimator-doc-link:hover,\n",
       ".sk-estimator-doc-link:hover {\n",
       "  /* unfitted */\n",
       "  background-color: var(--sklearn-color-unfitted-level-3);\n",
       "  color: var(--sklearn-color-background);\n",
       "  text-decoration: none;\n",
       "}\n",
       "\n",
       "div.sk-estimator.fitted:hover .sk-estimator-doc-link.fitted:hover,\n",
       ".sk-estimator-doc-link.fitted:hover,\n",
       "div.sk-label-container:hover .sk-estimator-doc-link.fitted:hover,\n",
       ".sk-estimator-doc-link.fitted:hover {\n",
       "  /* fitted */\n",
       "  background-color: var(--sklearn-color-fitted-level-3);\n",
       "  color: var(--sklearn-color-background);\n",
       "  text-decoration: none;\n",
       "}\n",
       "\n",
       "/* Span, style for the box shown on hovering the info icon */\n",
       ".sk-estimator-doc-link span {\n",
       "  display: none;\n",
       "  z-index: 9999;\n",
       "  position: relative;\n",
       "  font-weight: normal;\n",
       "  right: .2ex;\n",
       "  padding: .5ex;\n",
       "  margin: .5ex;\n",
       "  width: min-content;\n",
       "  min-width: 20ex;\n",
       "  max-width: 50ex;\n",
       "  color: var(--sklearn-color-text);\n",
       "  box-shadow: 2pt 2pt 4pt #999;\n",
       "  /* unfitted */\n",
       "  background: var(--sklearn-color-unfitted-level-0);\n",
       "  border: .5pt solid var(--sklearn-color-unfitted-level-3);\n",
       "}\n",
       "\n",
       ".sk-estimator-doc-link.fitted span {\n",
       "  /* fitted */\n",
       "  background: var(--sklearn-color-fitted-level-0);\n",
       "  border: var(--sklearn-color-fitted-level-3);\n",
       "}\n",
       "\n",
       ".sk-estimator-doc-link:hover span {\n",
       "  display: block;\n",
       "}\n",
       "\n",
       "/* \"?\"-specific style due to the `<a>` HTML tag */\n",
       "\n",
       "#sk-container-id-1 a.estimator_doc_link {\n",
       "  float: right;\n",
       "  font-size: 1rem;\n",
       "  line-height: 1em;\n",
       "  font-family: monospace;\n",
       "  background-color: var(--sklearn-color-background);\n",
       "  border-radius: 1rem;\n",
       "  height: 1rem;\n",
       "  width: 1rem;\n",
       "  text-decoration: none;\n",
       "  /* unfitted */\n",
       "  color: var(--sklearn-color-unfitted-level-1);\n",
       "  border: var(--sklearn-color-unfitted-level-1) 1pt solid;\n",
       "}\n",
       "\n",
       "#sk-container-id-1 a.estimator_doc_link.fitted {\n",
       "  /* fitted */\n",
       "  border: var(--sklearn-color-fitted-level-1) 1pt solid;\n",
       "  color: var(--sklearn-color-fitted-level-1);\n",
       "}\n",
       "\n",
       "/* On hover */\n",
       "#sk-container-id-1 a.estimator_doc_link:hover {\n",
       "  /* unfitted */\n",
       "  background-color: var(--sklearn-color-unfitted-level-3);\n",
       "  color: var(--sklearn-color-background);\n",
       "  text-decoration: none;\n",
       "}\n",
       "\n",
       "#sk-container-id-1 a.estimator_doc_link.fitted:hover {\n",
       "  /* fitted */\n",
       "  background-color: var(--sklearn-color-fitted-level-3);\n",
       "}\n",
       "</style><div id=\"sk-container-id-1\" class=\"sk-top-container\"><div class=\"sk-text-repr-fallback\"><pre>NearestNeighbors(metric=&#x27;euclidean&#x27;, n_neighbors=3)</pre><b>In a Jupyter environment, please rerun this cell to show the HTML representation or trust the notebook. <br />On GitHub, the HTML representation is unable to render, please try loading this page with nbviewer.org.</b></div><div class=\"sk-container\" hidden><div class=\"sk-item\"><div class=\"sk-estimator fitted sk-toggleable\"><input class=\"sk-toggleable__control sk-hidden--visually\" id=\"sk-estimator-id-1\" type=\"checkbox\" checked><label for=\"sk-estimator-id-1\" class=\"sk-toggleable__label fitted sk-toggleable__label-arrow\"><div><div>NearestNeighbors</div></div><div><a class=\"sk-estimator-doc-link fitted\" rel=\"noreferrer\" target=\"_blank\" href=\"https://scikit-learn.org/1.6/modules/generated/sklearn.neighbors.NearestNeighbors.html\">?<span>Documentation for NearestNeighbors</span></a><span class=\"sk-estimator-doc-link fitted\">i<span>Fitted</span></span></div></label><div class=\"sk-toggleable__content fitted\"><pre>NearestNeighbors(metric=&#x27;euclidean&#x27;, n_neighbors=3)</pre></div> </div></div></div></div>"
      ],
      "text/plain": [
       "NearestNeighbors(metric='euclidean', n_neighbors=3)"
      ]
     },
     "execution_count": 25,
     "metadata": {},
     "output_type": "execute_result"
    }
   ],
   "source": [
    "from sklearn.neighbors import NearestNeighbors\n",
    "\n",
    "knn = NearestNeighbors(n_neighbors=3, metric='euclidean')\n",
    "knn.fit(X)\n"
   ]
  },
  {
   "cell_type": "markdown",
   "metadata": {},
   "source": [
    "**Hitung jarak ke tetangga terdekat**  \n",
    "`knn.kneighbors(X)` → Menghitung jarak dari setiap titik ke 3 tetangga terdekatnya.  \n",
    "`distances_knn[:, 1:]` → Mengabaikan jarak ke dirinya sendiri ([:, 0]).  \n",
    "`mean_knn_distances` → Rata-rata jarak ke tetangga terdekat digunakan untuk mendeteksi outlier.  "
   ]
  },
  {
   "cell_type": "code",
   "execution_count": 28,
   "metadata": {},
   "outputs": [
    {
     "name": "stdout",
     "output_type": "stream",
     "text": [
      "[109.42980462   0.14142136   0.19318517   0.15731322   0.17320508\n",
      "   0.33903632   0.24409096   0.12071068   0.22071068   0.\n",
      "   0.19142136   0.2236068    0.15731322   0.28058837   0.44067607\n",
      "   0.45413884   0.35348264   0.15731322   0.35948041   0.14142136\n",
      "   0.29142136   0.19318517   0.48407976   0.23228757   0.33708287\n",
      "   0.2          0.2118034    0.14142136   0.14142136   0.15731322\n",
      "   0.15731322   0.29142136   0.34641016   0.35348264   0.\n",
      "   0.2618034    0.30811388   0.           0.17071068   0.12071068\n",
      "   0.15731322   0.66932132   0.2118034    0.24409096   0.36736043\n",
      "   0.17071068   0.19318517   0.14142136   0.1618034    0.15731322\n",
      "   0.29811881   0.29040145   0.27370892   0.25         0.28058837\n",
      "   0.30811388   0.31937043   0.26435985   0.24494897   0.44860014\n",
      "   0.40940635   0.31583124   0.5047566    0.18251408   0.43573883\n",
      "   0.22882456   0.25         0.26389584   0.38723854   0.20907703\n",
      "   0.2618034    0.33903632   0.36055513   0.2618034    0.23228757\n",
      "   0.19318517   0.33131896   0.34519675   0.22247449   0.38533712\n",
      "   0.15731322   0.20299824   0.20299824   0.3461088    0.30615528\n",
      "   0.3992149    0.29953524   0.4195157    0.17320508   0.22247449\n",
      "   0.29040145   0.17071068   0.19318517   0.25098824   0.19840594\n",
      "   0.15731322   0.14142136   0.26583124   0.38729833   0.15731322\n",
      "  58.41041759   0.13228757   0.39364917   0.24494897   0.30811388\n",
      "   0.3968627    0.74821212   0.35023251   0.57838822   0.65163796\n",
      "   0.29888627   0.36028795   0.25980762   0.26457513   0.49989995\n",
      "   0.33708287   0.19318517   0.61542292   0.48001656   0.47775257\n",
      "   0.24409096   0.31622777   0.33844285   0.20907703   0.30811388\n",
      "   0.36685425   0.20907703   0.19318517   0.20811388   0.42815606\n",
      "   0.36141635   0.64774332   0.2          0.3461088    0.54764646\n",
      "   0.54311952   0.31612365   0.19318517   0.18251408   0.2668801\n",
      "   0.25476205   0.30275205   0.13228757   0.26991728   0.27247449\n",
      "   0.30275205   0.30955736   0.28500848   0.27247449   0.29953524]\n"
     ]
    }
   ],
   "source": [
    "import numpy as np\n",
    "\n",
    "distances_knn, _ = knn.kneighbors(X)\n",
    "mean_knn_distances = np.mean(distances_knn[:, 1:], axis=1)  # Rata-rata jarak ke tetangga\n",
    "\n",
    "print(mean_knn_distances)  # Menampilkan hasil\n"
   ]
  },
  {
   "cell_type": "markdown",
   "metadata": {},
   "source": [
    "**Threshold outlier dihitung dengan formula:**\n",
    "$$mean\n",
    "+\n",
    "(\n",
    "2.5\n",
    "×\n",
    "standard deviation\n",
    ")$$\n",
    "\n",
    "Jika jarak rata-rata suatu titik lebih dari threshold, maka titik tersebut dianggap outlier.  \n",
    "`np.where(mean_knn_distances > threshold_knn)[0]` → Mengambil indeks data yang terdeteksi sebagai outlier.  "
   ]
  },
  {
   "cell_type": "code",
   "execution_count": null,
   "metadata": {},
   "outputs": [
    {
     "name": "stdout",
     "output_type": "stream",
     "text": [
      "Threshold Outlier: 26.488216407445325\n",
      "Indeks Outlier: [  0 100]\n"
     ]
    }
   ],
   "source": [
    "import numpy as np\n",
    "\n",
    "# Menentukan threshold outlier\n",
    "threshold_knn = np.mean(mean_knn_distances) + 2.5 * np.std(mean_knn_distances)\n",
    "\n",
    "# Menemukan indeks data yang dianggap outlier\n",
    "outliers_knn = np.where(mean_knn_distances > threshold_knn)[0]\n",
    "\n",
    "# Menampilkan hasil\n",
    "print(\"Threshold Outlier:\", threshold_knn)\n",
    "print(\"Indeks Outlier:\", outliers_knn)\n"
   ]
  },
  {
   "cell_type": "markdown",
   "metadata": {},
   "source": [
    "**menandai Outlier dalam Dataset**  \n",
    "Kolom *outlier* ditambahkan ke dataset dengan nilai default 0 (bukan outlier).  \n",
    "Data yang masuk kategori outlier diberi nilai 1."
   ]
  },
  {
   "cell_type": "code",
   "execution_count": null,
   "metadata": {},
   "outputs": [
    {
     "name": "stdout",
     "output_type": "stream",
     "text": [
      "   sepal_length  sepal_width  petal_length  petal_width  outlier\n",
      "0          20.1         30.5          70.0         86.4        1\n",
      "1           4.9          3.0           1.4          0.2        0\n",
      "2           4.7          3.2           1.3          0.2        0\n",
      "3           4.6          3.1           1.5          0.2        0\n",
      "4           5.0          3.6           1.4          0.2        0\n",
      "\n",
      "Jumlah Outlier: 2\n"
     ]
    },
    {
     "name": "stderr",
     "output_type": "stream",
     "text": [
      "C:\\Users\\LENOVO\\AppData\\Local\\Temp\\ipykernel_10084\\3195435366.py:2: SettingWithCopyWarning: \n",
      "A value is trying to be set on a copy of a slice from a DataFrame.\n",
      "Try using .loc[row_indexer,col_indexer] = value instead\n",
      "\n",
      "See the caveats in the documentation: https://pandas.pydata.org/pandas-docs/stable/user_guide/indexing.html#returning-a-view-versus-a-copy\n",
      "  data['outlier'] = 0\n"
     ]
    }
   ],
   "source": [
    "# Menandai outlier dalam DataFrame\n",
    "data['outlier'] = 0\n",
    "data.loc[outliers_knn, 'outlier'] = 1\n",
    "\n",
    "# Menampilkan hasil\n",
    "print(data.head())  # Menampilkan 5 baris pertama untuk cek\n",
    "print(\"\\nJumlah Outlier:\", data['outlier'].sum())  # Menampilkan jumlah total outlier"
   ]
  },
  {
   "cell_type": "markdown",
   "metadata": {},
   "source": [
    "**Menampilkan hasil dengan ID jika ada**  \n",
    "Jika dataset memiliki kolom ID, maka ID dari data outlier akan ditampilkan.  \n",
    "Jika tidak ada ID, indeks outlier dalam dataset yang ditampilkan.  "
   ]
  },
  {
   "cell_type": "code",
   "execution_count": 32,
   "metadata": {},
   "outputs": [
    {
     "name": "stdout",
     "output_type": "stream",
     "text": [
      "ID Outlier terdeteksi: [  1 101]\n"
     ]
    }
   ],
   "source": [
    "if id_column is not None:\n",
    "    outlier_ids = id_column.iloc[outliers_knn].values\n",
    "    print(f\"ID Outlier terdeteksi: {outlier_ids}\")\n",
    "else:\n",
    "    print(f\"Outlier terdeteksi (index): {outliers_knn}\")"
   ]
  },
  {
   "attachments": {
    "image.png": {
     "image/png": "[encoded data removed]"
    }
   },
   "cell_type": "markdown",
   "metadata": {},
   "source": [
    "**Visualisasi Distribusi Fitur dengan Outlier**\n",
    "`fig, axes = plt.subplots(2, 2, figsize=(12, 8))`   \n",
    "Membuat 4 subplot (2x2) untuk masing-masing fitur:  \n",
    "* Sepal Length\n",
    "* Sepal Width\n",
    "* Petal Length\n",
    "* Petal Width\n",
    "\n",
    "![image.png](attachment:image.png)  \n",
    "`sns.histplot()` digunakan untuk membuat histogram distribusi data.  \n",
    "Parameter `hue=\"outlier\"` → Data dengan outlier *(1)* ditampilkan dalam merah, sementara data normal *(0)* dalam biru.  \n",
    "\n",
    "`plt.tight_layout()` Mengatur tata letak subplot agar tidak saling tumpang tindih.  \n",
    "`plt.show()` plt.show() → Menampilkan grafik."
   ]
  },
  {
   "cell_type": "code",
   "execution_count": 34,
   "metadata": {},
   "outputs": [
    {
     "data": {
      "image/png": "[encoded data removed]",
      "text/plain": [
       "<Figure size 1200x800 with 4 Axes>"
      ]
     },
     "metadata": {},
     "output_type": "display_data"
    }
   ],
   "source": [
    "import seaborn as sns\n",
    "import matplotlib.pyplot as plt  # Perbaikan impor\n",
    "\n",
    "# Visualisasi distribusi fitur dengan outlier\n",
    "fig, axes = plt.subplots(2, 2, figsize=(12, 8))\n",
    "\n",
    "# Pastikan nama kolom sesuai dengan dataset Anda\n",
    "columns = [\"sepal_length\", \"sepal_width\", \"petal_length\", \"petal_width\"]\n",
    "\n",
    "for i, col in enumerate(columns):\n",
    "    sns.histplot(data, x=col, hue=\"outlier\", palette={0: \"blue\", 1: \"red\"}, ax=axes[i//2, i%2])\n",
    "\n",
    "plt.tight_layout()\n",
    "plt.show()\n"
   ]
  },
  {
   "cell_type": "markdown",
   "metadata": {},
   "source": [
    "#### **Disini saya mencoba menampilkan outlier dengan menggunakan library sklearn LocalOutFactor**  "
   ]
  },
  {
   "cell_type": "code",
   "execution_count": 35,
   "metadata": {},
   "outputs": [
    {
     "name": "stdout",
     "output_type": "stream",
     "text": [
      "[-1  1  1  1  1  1  1  1  1  1  1  1  1  1 -1 -1  1  1  1  1  1  1  1  1\n",
      "  1  1  1  1  1  1  1  1  1  1  1  1  1  1  1  1  1 -1  1  1  1  1  1  1\n",
      "  1  1  1  1  1  1  1  1  1 -1  1  1 -1  1  1  1  1  1  1  1  1  1  1  1\n",
      "  1  1  1  1  1  1  1  1  1  1  1  1  1  1  1  1  1  1  1  1  1 -1  1  1\n",
      "  1  1 -1  1 -1  1  1  1  1 -1 -1  1  1  1  1  1  1  1  1  1  1 -1 -1  1\n",
      "  1  1 -1  1  1  1  1  1  1  1  1 -1  1  1  1  1  1  1  1  1  1  1  1  1\n",
      "  1  1  1  1  1  1]\n",
      "     petal_length  petal_width  sepal_length  sepal_width  LOF\n",
      "0            70.0         86.4          20.1         30.5   -1\n",
      "1             1.4          0.2           4.9          3.0    1\n",
      "2             1.3          0.2           4.7          3.2    1\n",
      "3             1.5          0.2           4.6          3.1    1\n",
      "4             1.4          0.2           5.0          3.6    1\n",
      "5             1.7          0.4           5.4          3.9    1\n",
      "6             1.4          0.3           4.6          3.4    1\n",
      "7             1.5          0.2           5.0          3.4    1\n",
      "8             1.4          0.2           4.4          2.9    1\n",
      "9             1.5          0.1           4.9          3.1    1\n",
      "10            1.5          0.2           5.4          3.7    1\n",
      "11            1.6          0.2           4.8          3.4    1\n",
      "12            1.4          0.1           4.8          3.0    1\n",
      "13            1.1          0.1           4.3          3.0    1\n",
      "14            1.2          0.2           5.8          4.0   -1\n",
      "15            1.5          0.4           5.7          4.4   -1\n",
      "16            1.3          0.4           5.4          3.9    1\n",
      "17            1.4          0.3           5.1          3.5    1\n",
      "18            1.7          0.3           5.7          3.8    1\n",
      "19            1.5          0.3           5.1          3.8    1\n",
      "20            1.7          0.2           5.4          3.4    1\n",
      "21            1.5          0.4           5.1          3.7    1\n",
      "22            1.0          0.2           4.6          3.6    1\n",
      "23            1.7          0.5           5.1          3.3    1\n",
      "24            1.9          0.2           4.8          3.4    1\n",
      "25            1.6          0.2           5.0          3.0    1\n",
      "26            1.6          0.4           5.0          3.4    1\n",
      "27            1.5          0.2           5.2          3.5    1\n",
      "28            1.4          0.2           5.2          3.4    1\n",
      "29            1.6          0.2           4.7          3.2    1\n",
      "30            1.6          0.2           4.8          3.1    1\n",
      "31            1.5          0.4           5.4          3.4    1\n",
      "32            1.5          0.1           5.2          4.1    1\n",
      "33            1.4          0.2           5.5          4.2    1\n",
      "34            1.5          0.1           4.9          3.1    1\n",
      "35            1.2          0.2           5.0          3.2    1\n",
      "36            1.3          0.2           5.5          3.5    1\n",
      "37            1.5          0.1           4.9          3.1    1\n",
      "38            1.3          0.2           4.4          3.0    1\n",
      "39            1.5          0.2           5.1          3.4    1\n",
      "40            1.3          0.3           5.0          3.5    1\n",
      "41            1.3          0.3           4.5          2.3   -1\n",
      "42            1.3          0.2           4.4          3.2    1\n",
      "43            1.6          0.6           5.0          3.5    1\n",
      "44            1.9          0.4           5.1          3.8    1\n",
      "45            1.4          0.3           4.8          3.0    1\n",
      "46            1.6          0.2           5.1          3.8    1\n",
      "47            1.4          0.2           4.6          3.2    1\n",
      "48            1.5          0.2           5.3          3.7    1\n",
      "49            1.4          0.2           5.0          3.3    1\n",
      "50            4.7          1.4           7.0          3.2    1\n",
      "51            4.5          1.5           6.4          3.2    1\n",
      "52            4.9          1.5           6.9          3.1    1\n",
      "53            4.0          1.3           5.5          2.3    1\n",
      "54            4.6          1.5           6.5          2.8    1\n",
      "55            4.5          1.3           5.7          2.8    1\n",
      "56            4.7          1.6           6.3          3.3    1\n",
      "57            3.3          1.0           4.9          2.4   -1\n",
      "58            4.6          1.3           6.6          2.9    1\n",
      "59            3.9          1.4           5.2          2.7    1\n",
      "60            3.5          1.0           5.0          2.0   -1\n",
      "61            4.2          1.5           5.9          3.0    1\n",
      "62            4.0          1.0           6.0          2.2    1\n",
      "63            4.7          1.4           6.1          2.9    1\n",
      "64            3.6          1.3           5.6          2.9    1\n",
      "65            4.4          1.4           6.7          3.1    1\n",
      "66            4.5          1.5           5.6          3.0    1\n",
      "67            4.1          1.0           5.8          2.7    1\n",
      "68            4.5          1.5           6.2          2.2    1\n",
      "69            3.9          1.1           5.6          2.5    1\n",
      "70            4.8          1.8           5.9          3.2    1\n",
      "71            4.0          1.3           6.1          2.8    1\n",
      "72            4.9          1.5           6.3          2.5    1\n",
      "73            4.7          1.2           6.1          2.8    1\n",
      "74            4.3          1.3           6.4          2.9    1\n",
      "75            4.4          1.4           6.6          3.0    1\n",
      "76            4.8          1.4           6.8          2.8    1\n",
      "77            5.0          1.7           6.7          3.0    1\n",
      "78            4.5          1.5           6.0          2.9    1\n",
      "79            3.5          1.0           5.7          2.6    1\n",
      "80            3.8          1.1           5.5          2.4    1\n",
      "81            3.7          1.0           5.5          2.4    1\n",
      "82            3.9          1.2           5.8          2.7    1\n",
      "83            5.1          1.6           6.0          2.7    1\n",
      "84            4.5          1.5           5.4          3.0    1\n",
      "85            4.5          1.6           6.0          3.4    1\n",
      "86            4.7          1.5           6.7          3.1    1\n",
      "87            4.4          1.3           6.3          2.3    1\n",
      "88            4.1          1.3           5.6          3.0    1\n",
      "89            4.0          1.3           5.5          2.5    1\n",
      "90            4.4          1.2           5.5          2.6    1\n",
      "91            4.6          1.4           6.1          3.0    1\n",
      "92            4.0          1.2           5.8          2.6    1\n",
      "93            3.3          1.0           5.0          2.3   -1\n",
      "94            4.2          1.3           5.6          2.7    1\n",
      "95            4.2          1.2           5.7          3.0    1\n",
      "96            4.2          1.3           5.7          2.9    1\n",
      "97            4.3          1.3           6.2          2.9    1\n",
      "98            3.0          1.1           5.1          2.5   -1\n",
      "99            4.1          1.3           5.7          2.8    1\n",
      "100           6.0          2.5          60.0         30.0   -1\n",
      "101           5.1          1.9           5.8          2.7    1\n",
      "102           5.9          2.1           7.1          3.0    1\n",
      "103           5.6          1.8           6.3          2.9    1\n",
      "104           5.8          2.2           6.5          3.0    1\n",
      "105           6.6          2.1           7.6          3.0   -1\n",
      "106           4.5          1.7           4.9          2.5   -1\n",
      "107           6.3          1.8           7.3          2.9    1\n",
      "108           5.8          1.8           6.7          2.5    1\n",
      "109           6.1          2.5           7.2          3.6    1\n",
      "110           5.1          2.0           6.5          3.2    1\n",
      "111           5.3          1.9           6.4          2.7    1\n",
      "112           5.5          2.1           6.8          3.0    1\n",
      "113           5.0          2.0           5.7          2.5    1\n",
      "114           5.1          2.4           5.8          2.8    1\n",
      "115           5.3          2.3           6.4          3.2    1\n",
      "116           5.5          1.8           6.5          3.0    1\n",
      "117           6.7          2.2           7.7          3.8   -1\n",
      "118           6.9          2.3           7.7          2.6   -1\n",
      "119           5.0          1.5           6.0          2.2    1\n",
      "120           5.7          2.3           6.9          3.2    1\n",
      "121           4.9          2.0           5.6          2.8    1\n",
      "122           6.7          2.0           7.7          2.8   -1\n",
      "123           4.9          1.8           6.3          2.7    1\n",
      "124           5.7          2.1           6.7          3.3    1\n",
      "125           6.0          1.8           7.2          3.2    1\n",
      "126           4.8          1.8           6.2          2.8    1\n",
      "127           4.9          1.8           6.1          3.0    1\n",
      "128           5.6          2.1           6.4          2.8    1\n",
      "129           5.8          1.6           7.2          3.0    1\n",
      "130           6.1          1.9           7.4          2.8    1\n",
      "131           6.4          2.0           7.9          3.8   -1\n",
      "132           5.6          2.2           6.4          2.8    1\n",
      "133           5.1          1.5           6.3          2.8    1\n",
      "134           5.6          1.4           6.1          2.6    1\n",
      "135           6.1          2.3           7.7          3.0    1\n",
      "136           5.6          2.4           6.3          3.4    1\n",
      "137           5.5          1.8           6.4          3.1    1\n",
      "138           4.8          1.8           6.0          3.0    1\n",
      "139           5.4          2.1           6.9          3.1    1\n",
      "140           5.6          2.4           6.7          3.1    1\n",
      "141           5.1          2.3           6.9          3.1    1\n",
      "142           5.1          1.9           5.8          2.7    1\n",
      "143           5.9          2.3           6.8          3.2    1\n",
      "144           5.7          2.5           6.7          3.3    1\n",
      "145           5.2          2.3           6.7          3.0    1\n",
      "146           5.0          1.9           6.3          2.5    1\n",
      "147           5.2          2.0           6.5          3.0    1\n",
      "148           5.4          2.3           6.2          3.4    1\n",
      "149           5.1          1.8           5.9          3.0    1\n"
     ]
    }
   ],
   "source": [
    "import pandas as pd\n",
    "from sklearn.neighbors import LocalOutlierFactor\n",
    "\n",
    "columns_to_drop = ['id', 'class']\n",
    "combined_df = combined_df.drop(columns=[\"id\", \"class\"], errors='ignore')\n",
    "\n",
    "clf = LocalOutlierFactor(n_neighbors=20, contamination=0.1)\n",
    "\n",
    "y_pred = clf.fit_predict(combined_df)\n",
    "combined_df[\"LOF\"] = y_pred\n",
    "print(y_pred)\n",
    "print(combined_df.to_string()) "
   ]
  }
 ],
 "metadata": {
  "kernelspec": {
   "display_name": "Python 3",
   "language": "python",
   "name": "python3"
  },
  "language_info": {
   "codemirror_mode": {
    "name": "ipython",
    "version": 3
   },
   "file_extension": ".py",
   "mimetype": "text/x-python",
   "name": "python",
   "nbconvert_exporter": "python",
   "pygments_lexer": "ipython3",
   "version": "3.10.6"
  }
 },
 "nbformat": 4,
 "nbformat_minor": 2
}
