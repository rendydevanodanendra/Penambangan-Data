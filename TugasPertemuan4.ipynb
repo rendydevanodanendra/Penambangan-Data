{
 "cells": [
  {
   "cell_type": "markdown",
   "metadata": {},
   "source": [
    "# **TugasPertemuan-4**  \n",
    "\n",
    "Membuat materi LOF dengan contoh manual dengan k=3 dan data sebanyak 10 dengan   \n",
    "2 fitur di web statis dan dibandingkan hasilnya dengan pakek library sylearn"
   ]
  },
  {
   "cell_type": "markdown",
   "metadata": {},
   "source": [
    "### **1.Introduction**  \n",
    "\n",
    "Outlier adalah titik data yang berbeda atau jauh dari titik data lainnya.\n",
    "Pertanyaan yang muncul di sini adalah apakah kita dapat mengidentifikasi outlier yang ada dalam data?\n",
    "\n",
    "Faktor outlier lokal (LOF) adalah algoritma yang mengidentifikasi outlier yang ada dalam kumpulan data. Namun, apa arti outlier lokal?\n",
    "\n",
    "Ketika suatu titik dianggap sebagai outlier berdasarkan lingkungan lokalnya, maka itu adalah outlier lokal. LOF akan mengidentifikasi outlier dengan mempertimbangkan kepadatan lingkungan tersebut. LOF bekerja dengan baik ketika kepadatan data tidak sama di seluruh kumpulan data.\n",
    "\n",
    "Untuk memahami LOF, kita harus mempelajari beberapa konsep secara berurutan:\n",
    "\n",
    "**K-distance and K-neighbors**  \n",
    "**Reachability distance (RD)**  \n",
    "**Local reachability density (LRD)**  \n",
    "**Local Outlier Factor (LOF)**  "
   ]
  },
  {
   "cell_type": "markdown",
   "metadata": {},
   "source": [
    "### **2.K-Distance and K-Neighbors**\n",
    "Jarak K adalah jarak antara titik dan tetangga terdekatnya, Kᵗʰ. Tetangga K yang dilambangkan dengan Nₖ(A) mencakup sekumpulan titik yang terletak di dalam atau pada lingkaran dengan radius jarak K. Tetangga K dapat lebih besar atau sama dengan nilai K. Bagaimana ini mungkin?\n",
    "\n",
    "Kita akan melihat contohnya. Katakanlah kita memiliki empat titik A, B, C, dan D (ditunjukkan di bawah). \n",
    "\n",
    "![image.png](ex2.png)  \n",
    "\n",
    "Jarak K dari A dengan K=2\n",
    "Jika K=2, maka K-tetangga dari A adalah C, B, dan D. Di sini, nilai K=2 tetapi ||N₂(A)|| = 3. Oleh karena itu, ||Nₖ(titik)|| akan selalu lebih besar atau sama dengan K "
   ]
  },
  {
   "cell_type": "markdown",
   "metadata": {},
   "source": [
    "### **3.Reachability Density(RD)**  \n",
    "$$RD(X_i, X_j) = \\max(K\\text{-distance}(X_j), \\text{distance}(X_i, X_j))$$  \n",
    "\n",
    "\n",
    "### **Penjelasan Komponen:**\n",
    "1. $RD(X_i, X_j)$  \n",
    "   - Reachability Distance antara titik $X_i$ dan $X_j$.  \n",
    "   - Ini menunjukkan seberapa \"jauh\" titik $X_i$ dari $X_j$ dengan mempertimbangkan kepadatan sekitar.\n",
    "\n",
    "2. $K\\text{-distance}(X_j)$ \n",
    "   - Jarak dari $X_j$ ke tetangga ke-\\(k\\) terdekatnya (disebut juga **k-distance**).\n",
    "   - Ini menentukan batasan kepadatan lokal di sekitar titik $X_j$.\n",
    "\n",
    "3. $\\text{distance}(X_i, X_j)$ \n",
    "   - Jarak Euclidean antara $X_i$ dan $X_j$.\n",
    "\n",
    "4. $\\max(K\\text{-distance}(X_j), \\text{distance}(X_i, X_j))$ \n",
    "   - **Jika \\( X_i \\) sangat dekat dengan \\( X_j \\), tetapi \\( X_j \\) memiliki tetangga yang lebih jauh**, maka nilai reachability distance akan ditentukan oleh **k-distance dari \\( X_j \\)**.  \n",
    "   - **Jika \\( X_i \\) jauh dari \\( X_j \\)**, maka nilai **distance(X_i, X_j)** yang digunakan.\n",
    "\n",
    "\n",
    "\n",
    "Didefinisikan sebagai jarak K maksimum dari Xj dan jarak antara Xi dan Xj.  \n",
    " Ukuran jarak bersifat khusus untuk masalah (Euclidean, Manhattan, dll.)\n",
    "\n",
    "![image.png](ilustrasiRD.png)  \n",
    "\n",
    "Ilustrasi jarak jangkauan dengan K=2\n",
    "Secara awam, jika titik Xi terletak di dalam K-tetangga Xj,\n",
    "jarak jangkauan akan menjadi jarak K dari Xj (garis biru),  \n",
    "jika tidak, jarak jangkauan akan menjadi jarak antara Xi dan Xj (garis oranye)."
   ]
  },
  {
   "cell_type": "markdown",
   "metadata": {},
   "source": [
    "### **4.Local Reachability Distance(LRD)**\n",
    "$$LRD_k(A) = \\frac{1}{\\sum_{X_j \\in N_k(A)} \\frac{RD(A, X_j)}{|N_k(A)|}}$$\n",
    "\n",
    "### **Penjelasan Komponen:**\n",
    "1. $LRD_k(A)$  \n",
    "   - Ini adalah **Local Reachability Density** untuk titik **A** dengan parameter **k** (jumlah tetangga terdekat).\n",
    "   - LRD digunakan untuk mengukur kepadatan lokal suatu titik dibandingkan dengan tetangganya.\n",
    "\n",
    "2. $N_k(A) $  \n",
    "   - Ini adalah himpunan **k-nearest neighbors** (tetangga terdekat) dari titik **A**.\n",
    "\n",
    "3. $RD(A, X_j)$  \n",
    "   - **Reachability Distance** antara titik **A** dan tetangga **\\(X_j\\)**.\n",
    "   - Dirumuskan sebagai:\n",
    "     \\[\n",
    "     RD(A, X_j) = \\max(\\text{MinPts\\_Dist}(X_j), d(A, X_j))\n",
    "     \\]\n",
    "     - **MinPts_Dist(\\(X_j\\))** = jarak ke tetangga ke-\\(k\\) dari **\\(X_j\\)**.\n",
    "     - **\\(d(A, X_j)\\)** = jarak Euclidean antara **\\(A\\)** dan **\\(X_j\\)**.\n",
    "     - Ini bertujuan untuk menghindari outlier yang terlalu dekat dengan satu titik lainnya.\n",
    "\n",
    "4. $|N_k(A)|$  \n",
    "   - Jumlah tetangga dari **A** yang dihitung (biasanya **k**).\n",
    "\n",
    "5. $sum_{X_j \\in N_k(A)} \\frac{RD(A, X_j)}{|N_k(A)|}$ \n",
    "   - Ini adalah rata-rata dari **reachability distance** untuk semua tetangga dari **A**.\n",
    "   - Semakin kecil hasilnya, semakin padat lingkungan sekitar titik **A**.\n",
    "\n"
   ]
  },
  {
   "cell_type": "markdown",
   "metadata": {},
   "source": [
    "### **5.Local Outlier Factor(LOF)**\n",
    "\n",
    "$$LOF_k(A) = \\frac{\\sum_{X_j \\in N_k(A)} LRD_k(X_j)}{||N_k(A)||} \\times \\frac{1}{LRD_k(A)}$$\n",
    "\n",
    "Ini adalah rumus **Local Outlier Factor (LOF)**, yang digunakan untuk mengidentifikasi outlier berdasarkan kepadatan lokal:\n",
    "\n",
    "### **Penjelasan Komponen:**\n",
    "1. $LOF_k(A)$ \n",
    "   - Local Outlier Factor dari titik **\\( A \\)**.  \n",
    "   - Jika nilai ini jauh lebih besar dari **1**, maka **\\( A \\)** kemungkinan besar adalah **outlier**.\n",
    "\n",
    "2. $N_k(A)$ \n",
    "   - Sekumpulan **tetangga** dari titik **\\( A \\)** dalam radius tertentu berdasarkan **k-distance**.\n",
    "\n",
    "3. $||N_k(A)||$  \n",
    "   - Jumlah tetangga dalam $N_k(A)$.\n",
    "\n",
    "4. $LRD_k(A)$\n",
    "   - **Local Reachability Density (LRD)** dari titik **\\( A \\)**.  \n",
    "   - Ini adalah ukuran kepadatan lokal di sekitar titik **\\( A \\)**.\n",
    "\n",
    "5. $LRD_k(X_j)$ untuk  $X_j$ in $N_k(A)$ \n",
    "   - **LRD dari setiap titik tetangga \\( X_j \\) dari \\( A \\)**.\n",
    "\n",
    "LRD setiap titik digunakan untuk membandingkan dengan LRD rata-rata dari K tetangganya. LOF adalah rasio LRD rata-rata dari K tetangga A terhadap LRD A.\n",
    "\n",
    "Secara intuitif, jika titik tersebut bukan outlier (inlier), rasio LRD rata-rata tetangga kira-kira sama dengan LRD suatu titik (karena kerapatan titik dan tetangganya kira-kira sama). Dalam hal itu, LOF hampir sama dengan 1. Di sisi lain, jika titik tersebut merupakan outlier, LRD suatu titik lebih kecil dari LRD rata-rata tetangganya.   \n",
    "Maka nilai LOF akan tinggi.\n",
    "\n",
    "Secara umum, jika LOF > 1, maka dianggap sebagai outlier, tetapi itu tidak selalu benar. Katakanlah kita tahu bahwa kita hanya memiliki satu outlier dalam data, maka kita ambil nilai LOF maksimum di antara semua nilai LOF, dan titik yang sesuai dengan nilai LOF maksimum akan dianggap sebagai outlier."
   ]
  },
  {
   "cell_type": "markdown",
   "metadata": {},
   "source": [
    "### **6.Example**\n",
    "4 titik: A(0,0), B(1,0), C(1,1) dan D(0,3) dan K=2. Kita akan menggunakan LOF untuk mendeteksi satu outlier di antara 4 titik ini.  \n",
    "\n",
    "![image.png](poto.png)  \n",
    "  \n",
    "\n",
    "| Titik | Tetangga Terdekat ke-2 | Jarak-K |\n",
    "|-------|-----------------------|--------|\n",
    "| A     | C                     | 2      |\n",
    "| B     | A, C                   | 1      |\n",
    "| C     | A                     | 2      |\n",
    "| D     | A, C                   | 3      |\n",
    "\n",
    "###\n",
    "\n",
    "| Manhattan Distance          | Nilai |\n",
    "|-----------------------------|------|\n",
    "| Manhattan_Distance(A, B)    | 1    |\n",
    "| Manhattan_Distance(A, C)    | 2    |\n",
    "| Manhattan_Distance(A, D)    | 3    |\n",
    "| Manhattan_Distance(B, C)    | 1    |\n",
    "| Manhattan_Distance(B, D)    | 4    |\n",
    "| Manhattan_Distance(C, D)    | 3    |\n",
    " \n",
    "\n",
    "K-neighborhood (A) = {B,C} , ||N2(A)|| =2  \n",
    "K-neighborhood (B) = {A,C}, ||N2(B)|| =2  \n",
    "K-neighborhood (C)= {B,A}, ||N2(C)|| =2  \n",
    "K-neighborhood (D) = {A,C}, ||N2(D)|| =2  \n",
    "\n",
    "K-distance, jarak antara setiap pasangan titik, dan K-neighborhood akan digunakan untuk menghitung LRD.  \n",
    "\n",
    "\n",
    "$$\n",
    "LRD_2(A) = \\frac{1}{\\frac{RD(A,B) + RD(A,C)}{||N_2(A)||}} = \\frac{1}{\\frac{1+2}{2}} = 0.667\n",
    "$$\n",
    "\n",
    "$$\n",
    "LRD_2(B) = \\frac{1}{\\frac{RD(B,A) + RD(B,C)}{||N_2(B)||}} = \\frac{1}{\\frac{2+2}{2}} = 0.50\n",
    "$$\n",
    "\n",
    "$$\n",
    "LRD_2(C) = \\frac{1}{\\frac{RD(C,B) + RD(C,A)}{||N_2(C)||}} = \\frac{1}{\\frac{1+2}{2}} = 0.667\n",
    "$$\n",
    "\n",
    "$$\n",
    "LRD_2(D) = \\frac{1}{\\frac{RD(D,A) + RD(D,C)}{||N_2(D)||}} = \\frac{1}{\\frac{3+3}{2}} = 0.337\n",
    "$$\n",
    "\n",
    "`LRD for each point A, B, C, and D`\n",
    "\n",
    "\n",
    "Kepadatan keterjangkauan lokal (LRD) akan digunakan untuk menghitung Faktor Outlier Lokal (LOF).  \n",
    "\n",
    "$$\n",
    "LOF_2(A) = \\frac{LRD_2(B) + LRD_2(C)}{||N_2(A)||} \\times \\frac{1}{LRD_2(A)}\n",
    "= \\frac{0.5 + 0.667}{2} \\times \\frac{1}{0.667} = 0.87\n",
    "$$\n",
    "\n",
    "$$\n",
    "LOF_2(B) = \\frac{LRD_2(A) + LRD_2(C)}{||N_2(B)||} \\times \\frac{1}{LRD_2(B)}\n",
    "= \\frac{0.667 + 0.667}{2} \\times \\frac{1}{0.5} = 1.334\n",
    "$$\n",
    "\n",
    "$$\n",
    "LOF_2(C) = \\frac{LRD_2(B) + LRD_2(A)}{||N_2(C)||} \\times \\frac{1}{LRD_2(C)}\n",
    "= \\frac{0.5 + 0.667}{2} \\times \\frac{1}{0.667} = 0.87\n",
    "$$\n",
    "\n",
    "$$\n",
    "LOF_2(D) = \\frac{LRD_2(A) + LRD_2(C)}{||N_2(D)||} \\times \\frac{1}{LRD_2(D)}\n",
    "= \\frac{0.667 + 0.667}{2} \\times \\frac{1}{0.337} = 2\n",
    "$$\n",
    "\n",
    "`LOF for each point A, B, C, and D`\n",
    "\n",
    "\n",
    "LOF tertinggi di antara keempat poin tersebut adalah LOF(D). Oleh karena itu, D merupakan outlier."
   ]
  },
  {
   "cell_type": "markdown",
   "metadata": {},
   "source": [
    "### **7.Advantages of LOF** \n",
    " \n",
    "Suatu titik akan dianggap sebagai outlier jika berada pada jarak yang dekat dengan klaster yang sangat padat. Pendekatan global mungkin tidak menganggap titik tersebut sebagai outlier. Namun, LOF dapat mengidentifikasi outlier lokal secara efektif."
   ]
  },
  {
   "cell_type": "markdown",
   "metadata": {},
   "source": [
    "### **8.Disadvantages of LOF**  \n",
    "\n",
    "Karena LOF adalah rasio, maka sulit untuk menafsirkannya. Tidak ada nilai ambang batas tertentu yang jika di atasnya suatu titik ditetapkan sebagai outlier. Identifikasi outlier bergantung pada masalah dan pengguna."
   ]
  },
  {
   "cell_type": "markdown",
   "metadata": {},
   "source": [
    "### **9.Conclusion**\n",
    "\n",
    "Nilai faktor outlier lokal (LOF) mengidentifikasi outlier berdasarkan lingkungan lokal. Nilai ini memberikan hasil yang lebih baik daripada pendekatan global untuk menemukan outlier. Karena tidak ada nilai ambang batas LOF, pemilihan titik sebagai outlier bergantung pada pengguna."
   ]
  },
  {
   "cell_type": "markdown",
   "metadata": {},
   "source": [
    "### **10.Reference**\n",
    "\n",
    "Breunig, M. M., Kriegel, H. P., Ng, R. T., and Sander, J. (2000). LOF: identifying density-based local outliers. In ACM sigmod record (Vol. 29, №2, pp. 93–104). ACM"
   ]
  },
  {
   "cell_type": "markdown",
   "metadata": {},
   "source": [
    "### **Contoh perhitunganm menggunakan library sklearn dan membandingkan hasil dari excel**"
   ]
  },
  {
   "cell_type": "markdown",
   "metadata": {},
   "source": [
    "**Download Data Excel**\n",
    "\n",
    "Klik tautan di bawah untuk mengunduh file Excel:\n",
    "\n",
    "[Download data.xlsm](pendataLOF2.xlsm)\n"
   ]
  },
  {
   "cell_type": "markdown",
   "metadata": {},
   "source": [
    "\n",
    "| Data | x  | y  |\n",
    "|------|----|----|\n",
    "| 1    | 3  | 5  |\n",
    "| 2    | 4  | 7  |\n",
    "| 3    | 2  | 3  |\n",
    "| 4    | 5  | 4  |\n",
    "| 5    | 3  | 3  |\n",
    "| 6    | 6  | 2  |\n",
    "| 7    | 7  | 5  |\n",
    "| 8    | 5  | 6  |\n",
    "| 9    | 3  | 6  |\n",
    "| 10   | 14 | 18 |\n"
   ]
  },
  {
   "cell_type": "markdown",
   "metadata": {},
   "source": [
    "#### tabel perhitungan **jarak Euclidean** berdasarkan gambar yang kamu berikan:\n",
    "\n",
    "| Titik | 1    | 2    | 3    | 4    | 5    | 6    | 7    | 8    | 9    | 10   |\n",
    "|-------|------|------|------|------|------|------|------|------|------|------|\n",
    "| 1     | 0    | 2.236 | 2.236 | 2.236 | 2    | 4.243 | 4    | 2.236 | 1    | 17.029 |\n",
    "| 2     | 2.236 | -    | 4.472 | 3.162 | 4.123 | 5.385 | 3.606 | 1.414 | 1.414 | 14.866 |\n",
    "| 3     | 2.236 | 4.472 | -    | 3.162 | 1    | 4.123 | 5.385 | 4.243 | 3.162 | 19.209 |\n",
    "| 4     | 2.236 | 3.162 | 3.162 | -    | 2.236 | 2.236 | 2.236 | 2    | 2.828 | 16.643 |\n",
    "| 5     | 2    | 4.123 | 1    | 2.236 | -    | 3.162 | 4.472 | 3.606 | 3    | 18.601 |\n",
    "| 6     | 4.243 | 5.385 | 4.123 | 2.236 | 3.162 | -    | 3.162 | 4.123 | 5    | 17.889 |\n",
    "| 7     | 4    | 3.606 | 5.385 | 2.236 | 4.472 | 3.162 | -    | 2.236 | 4.123 | 14.765 |\n",
    "| 8     | 2.236 | 1.414 | 4.243 | 2    | 3.606 | 4.123 | 2.236 | -    | 2    | 15    |\n",
    "| 9     | 1    | 1.414 | 3.162 | 2.828 | 3    | 5    | 4.123 | 2    | -    | 16.279 |\n",
    "| 10    | 17.029 | 14.866 | 19.209 | 16.643 | 18.601 | 17.889 | 14.765 | 15    | 16.279 | -    |"
   ]
  },
  {
   "cell_type": "markdown",
   "metadata": {},
   "source": [
    "#### Tabel **Reachability Distance (K = 3)** \n",
    "\n",
    "| Titik | 1      | 2      | 3      | 4      | 5      | 6      | 7      | 8      | 9      | 10     |\n",
    "|-------|--------|--------|--------|--------|--------|--------|--------|--------|--------|--------|\n",
    "| 1     |        |        |        |        | 2.236  |        |        | 2.236  | 2      |        | \n",
    "| 2     | 2.236  |        |        |        |        |        |        | 2      | 2      |        | \n",
    "| 3     | 2.236  |        |        | 3.162  | 2.236  |        |        |        |        |        |\n",
    "| 4     |        |        |        |        | 2.236  |        | 3.162  |2       |        |        |\n",
    "| 5     | 2.236  |        | 3.162  | 2.236  |        |        |        |        |        |        |\n",
    "| 6     |        |        |        | 2.236  | 3.162  |        | 3.162  |        |        |        |\n",
    "| 7     |        |        |        | 2.236  |        | 3.162  |        | 2.236  |        |        |\n",
    "| 8     |        |        | 2.236  | 2.236  |        |        |        |        | 2      |        |\n",
    "| 9     | 2.236  | 2.236  |        |        |        |        |        | 2      |        |        | \n",
    "| 10    |        | 14.866 |        |        |        |        | 14.764 | 15     |        |        |\n"
   ]
  },
  {
   "cell_type": "markdown",
   "metadata": {},
   "source": [
    "#### tabel **Menghitung LRD** \n",
    "\n",
    "| Titik  | LRD             | 3 Tetangga Terdekat |\n",
    "|--------|---------------|--------------------|\n",
    "| LRD(1)  | 0.463525492   | (9,5,8)           |\n",
    "| LRD(2)  | 0.48107237    | (8,9,1)           |\n",
    "| LRD(3)  | 0.392957488   | (5,1,4)           |\n",
    "| LRD(4)  | 0.405496059   | (8,5,7)           |\n",
    "| LRD(5)  | 0.392957488   | (3,1,4)           |\n",
    "| LRD(6)  | 0.350441772   | (4,5,7)           |\n",
    "| LRD(7)  | 0.392957488   | (4,8,6)           |\n",
    "| LRD(8)  | 0.463525492   | (3,4,9)           |\n",
    "| LRD(9)  | 0.463525492   | (1,2,8)           |\n",
    "| LRD(10) | 0.067218016   | (7,2,8)           |\n"
   ]
  },
  {
   "cell_type": "markdown",
   "metadata": {},
   "source": [
    "#### Tabel **LOF**"
   ]
  },
  {
   "cell_type": "markdown",
   "metadata": {},
   "source": [
    "\n",
    "$\n",
    "\\begin{array}{|c|c|}\n",
    "    \\hline\n",
    "    \\textbf{Titik} & \\textbf{LOF} \\\\\n",
    "    \\hline\n",
    "    1 & 0.9493 \\\\\\hline\n",
    "    2 & 0.9635 \\\\\\hline\n",
    "    3 & 1.0705 \\\\\\hline\n",
    "    4 & 1.0271 \\\\\\hline\n",
    "    5 & 1.0374 \\\\\\hline\n",
    "    6 & 1.1332 \\\\\\hline\n",
    "    7 & 1.0344 \\\\\\hline\n",
    "    8 & 0.9075 \\\\\\hline\n",
    "    9 & 1.0126 \\\\\\hline\n",
    "    10 & 6.6329 \\\\\n",
    "    \\hline\n",
    "\\end{array}\n",
    "$\n"
   ]
  },
  {
   "cell_type": "code",
   "execution_count": null,
   "metadata": {},
   "outputs": [],
   "source": [
    "%pip install pymysql pandas psycopg2 sqlalchemy seaborn numpy pandas scikit-learn pyod matplotlib seaborn python-dotenv"
   ]
  },
  {
   "cell_type": "code",
   "execution_count": 7,
   "metadata": {},
   "outputs": [
    {
     "name": "stdout",
     "output_type": "stream",
     "text": [
      "1.0270880488169942\n",
      "0.9233171042905761\n",
      "1.0704966620322989\n",
      "0.907522212620221\n",
      "1.0704966620322989\n",
      "1.188443242610531\n",
      "1.083656453869045\n",
      "1.01261842015087\n",
      "0.9708879339047151\n",
      "6.632920900063053\n",
      "[ 1  1  1  1  1  1  1  1  1 -1]\n"
     ]
    }
   ],
   "source": [
    "from sklearn.neighbors import LocalOutlierFactor\n",
    "import numpy as np\n",
    "\n",
    "data = np.array([\n",
    "    [3, 5],\n",
    "    [4, 7],\n",
    "    [2, 3],\n",
    "    [5, 4],\n",
    "    [3, 3],\n",
    "    [6, 2],\n",
    "    [7, 5],\n",
    "    [5, 6],\n",
    "    [3, 6],\n",
    "    [14, 18]\n",
    "])\n",
    "\n",
    "clf = LocalOutlierFactor(n_neighbors=3, contamination=0.1)\n",
    "y_pred = clf.fit_predict(data)\n",
    "# n_errors = (y_pred != ground_truth).sum()\n",
    "X_scores = -clf.negative_outlier_factor_\n",
    "\n",
    "for i in X_scores:\n",
    "  print(i)\n",
    "\n",
    "print(y_pred)"
   ]
  },
  {
   "cell_type": "markdown",
   "metadata": {},
   "source": [
    "\n",
    "\n",
    "### Dari hasil perbandingan antara **perhitungan menggunakan kode** dan **hasil dari Excel/Manual**, dapat disimpulkan bahwa:   \n",
    "\n",
    "- **LOF(k) ≈ 1** → Artinya titik tersebut memiliki kepadatan yang mirip dengan tetangganya, sehingga dianggap sebagai bagian dari kelompok (**inlier**).  \n",
    "- **LOF(k) < 1** → Artinya titik ini memiliki kepadatan lebih tinggi dibandingkan tetangganya, termasuk **inlier** karena berada di area yang lebih rapat.  \n",
    "- **LOF(k) > 1** → Artinya titik ini memiliki kepadatan lebih jarang dibandingkan dengan tetangganya. Semakin besar nilai LOF, semakin kuat indikasi bahwa titik tersebut adalah **outlier**.   \n",
    "\n",
    "1. **Nilai LOF dari kode dan Excel hampir sama**, dengan selisih kecil yang mungkin disebabkan oleh perbedaan presisi dalam perhitungan.  \n",
    "2. **Titik 10 tetap terdeteksi sebagai outlier** di kedua metode, dengan nilai LOF yang jauh lebih besar dari 1.  \n",
    "3. **Titik lainnya memiliki LOF yang mendekati 1**, menunjukkan bahwa mereka termasuk dalam kelompok **inlier** di kedua hasil.  \n",
    "4. **Perbedaan kecil dalam nilai LOF kemungkinan berasal dari perbedaan metode rounding atau floating-point precision** dalam perhitungan di kode dan Excel.  \n",
    "\n",
    "Kesimpulannya, baik hasil dari **kode maupun Excel** memberikan deteksi **outlier yang konsisten**, sehingga metode yang digunakan dapat dianggap valid."
   ]
  }
 ],
 "metadata": {
  "kernelspec": {
   "display_name": "Python 3",
   "language": "python",
   "name": "python3"
  },
  "language_info": {
   "codemirror_mode": {
    "name": "ipython",
    "version": 3
   },
   "file_extension": ".py",
   "mimetype": "text/x-python",
   "name": "python",
   "nbconvert_exporter": "python",
   "pygments_lexer": "ipython3",
   "version": "3.10.6"
  }
 },
 "nbformat": 4,
 "nbformat_minor": 2
}
