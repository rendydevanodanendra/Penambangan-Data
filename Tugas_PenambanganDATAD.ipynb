{
  "cells": [
    {
      "cell_type": "markdown",
      "metadata": {
        "id": "9LHWTDGv5zhh"
      },
      "source": [
        "\n",
        "## Memahami Data\n",
        "**Data understandung dalam data mining**\n",
        "\n",
        "Data Understanding adalah salah satu tahap penting dalam proses Knowledge Discovery in Databases (KDD) atau Data Mining. Ini merupakan langkah awal yang bertujuan untuk memahami data secara mendalam sebelum melakukan analisis lebih lanjut. Pemahaman data yang baik sangat krusial karena akan memengaruhi keberhasilan seluruh proses data mining.\n",
        "\n",
        "Proses eksplorasi, investigasi, dan analisis awal terhadap dataset untuk:\n",
        "\n",
        "**Apa itu data data understanding?**\n",
        "\n",
        "Memahami struktur, isi, dan karakteristik data.\n",
        "Mengidentifikasi pola, tren, anomali, atau masalah dalam data.\n",
        "Menentukan apakah data tersebut sesuai dengan tujuan analisis atau perlu dilakukan preprocessing tambahan.\n",
        "Tahap ini sering dianggap sebagai fondasi dari keseluruhan proses data mining karena hasilnya akan memandu langkah-langkah berikutnya, seperti data preparation, modeling, dan evaluation.\n",
        "\n",
        "**Tujuan Data Understanding**\n",
        "\n",
        "Tujuan utama dari data understanding adalah:\n",
        "Memahami Konteks Data:\n",
        "Mengetahui dari mana data berasal, apa arti setiap variabel, dan bagaimana hubungan antarvariabel.\n",
        "\n",
        "Mendeteksi Masalah Data:\n",
        "Mengidentifikasi missing values, outliers, noise, atau inkonsistensi dalam data.\n",
        "\n",
        "Menilai Kualitas Data:\n",
        "Memastikan bahwa data cukup berkualitas untuk digunakan dalam analisis. Hal ini meliputi pemeriksaan akurasi, kelengkapan, dan relevansi data.\n",
        "\n",
        "Menentukan Arah Analisis:\n",
        "Berdasarkan pemahaman awal, peneliti dapat merumuskan hipotesis atau menentukan teknik data mining yang tepat.\n",
        "\n",
        "Beberapa kegiatan  dalam memahami diantaranya adalah:\n",
        "\n",
        "\n",
        "*   Pengumpulan data\n",
        "*   Profilling data\n",
        "*   Korelasi dan asosiasi\n",
        "*   Ekplorasi data\n",
        "*   Identifikasi Masalah\n",
        "*   Validasi data\n",
        "\n"
      ]
    },
    {
      "cell_type": "markdown",
      "metadata": {
        "id": "05NcJiqY6cvl"
      },
      "source": [
        "### **1.Pengumpulan Data**\n",
        "\n",
        "Data iris adalah dataset yang berisi data 3 spesies bunga iris yang berlabel(setosa,versicolor,Virginica), dengan 4 fitur yaitu sepal_length,sepal_width,petal_length,petal_width\n",
        "\n",
        "Lokasi data berada di aiven.io\n",
        "\n",
        "\n",
        "*   Data iris petal berada di database MySQL\n",
        "*   Data iris sepal berada di database PostgreSQL\n",
        "\n",
        "### **Langkah Pengumpulan data**\n",
        "1. **`pymysql`** → Untuk menghubungkan dan mengambil data dari MySQL.\n",
        "2. **`psycopg2-binary`** → Untuk menghubungkan dan mengambil data dari PostgreSQL.\n",
        "3. **`pandas`** → Untuk membaca dan mengolah data setelah diambil dari database.\n",
        "4. **'`sqlalchemy'`** → ORM (Object-Relational Mapping) yang digunakan untuk mempermudah interaksi dengan database relasional.\n",
        "\n",
        "\n",
        "\n",
        "\n",
        "#### **Cara Mengumpulkan Data**\n",
        "\n",
        "##### **1. Menghubungkan ke MySQL dan PostgreSQL**\n",
        "- Install library python yang diperlukan"
      ]
    },
    {
      "cell_type": "code",
      "execution_count": 2,
      "metadata": {
        "colab": {
          "base_uri": "https://localhost:8080/"
        },
        "id": "xfakTrvlEHLN",
        "outputId": "4e7d8c9c-a2a4-4405-b5b8-4d4cff5d7445"
      },
      "outputs": [
        {
          "name": "stdout",
          "output_type": "stream",
          "text": [
            "Collecting pymysql\n",
            "  Downloading PyMySQL-1.1.1-py3-none-any.whl.metadata (4.4 kB)\n",
            "Downloading PyMySQL-1.1.1-py3-none-any.whl (44 kB)\n",
            "Installing collected packages: pymysql\n",
            "Successfully installed pymysql-1.1.1\n"
          ]
        },
        {
          "name": "stderr",
          "output_type": "stream",
          "text": [
            "\n",
            "[notice] A new release of pip is available: 24.3.1 -> 25.0.1\n",
            "[notice] To update, run: python.exe -m pip install --upgrade pip\n"
          ]
        },
        {
          "name": "stdout",
          "output_type": "stream",
          "text": [
            "Collecting pandas\n",
            "  Downloading pandas-2.2.3-cp310-cp310-win_amd64.whl.metadata (19 kB)\n",
            "Collecting numpy>=1.22.4 (from pandas)\n",
            "  Downloading numpy-2.2.3-cp310-cp310-win_amd64.whl.metadata (60 kB)\n",
            "Requirement already satisfied: python-dateutil>=2.8.2 in c:\\laragon\\bin\\python\\python-3.10\\lib\\site-packages (from pandas) (2.9.0.post0)\n",
            "Collecting pytz>=2020.1 (from pandas)\n",
            "  Downloading pytz-2025.1-py2.py3-none-any.whl.metadata (22 kB)\n",
            "Collecting tzdata>=2022.7 (from pandas)\n",
            "  Downloading tzdata-2025.1-py2.py3-none-any.whl.metadata (1.4 kB)\n",
            "Requirement already satisfied: six>=1.5 in c:\\laragon\\bin\\python\\python-3.10\\lib\\site-packages (from python-dateutil>=2.8.2->pandas) (1.17.0)\n",
            "Downloading pandas-2.2.3-cp310-cp310-win_amd64.whl (11.6 MB)\n",
            "   ---------------------------------------- 0.0/11.6 MB ? eta -:--:--\n",
            "   - -------------------------------------- 0.5/11.6 MB 8.2 MB/s eta 0:00:02\n",
            "   - -------------------------------------- 0.5/11.6 MB 8.2 MB/s eta 0:00:02\n",
            "   --- ------------------------------------ 1.0/11.6 MB 1.5 MB/s eta 0:00:07\n",
            "   ---- ----------------------------------- 1.3/11.6 MB 1.5 MB/s eta 0:00:07\n",
            "   ----- ---------------------------------- 1.6/11.6 MB 1.4 MB/s eta 0:00:08\n",
            "   ----- ---------------------------------- 1.6/11.6 MB 1.4 MB/s eta 0:00:08\n",
            "   ------ --------------------------------- 1.8/11.6 MB 1.2 MB/s eta 0:00:09\n",
            "   ------ --------------------------------- 1.8/11.6 MB 1.2 MB/s eta 0:00:09\n",
            "   ------- -------------------------------- 2.1/11.6 MB 1.0 MB/s eta 0:00:10\n",
            "   ------- -------------------------------- 2.1/11.6 MB 1.0 MB/s eta 0:00:10\n",
            "   ------- -------------------------------- 2.1/11.6 MB 1.0 MB/s eta 0:00:10\n",
            "   ------- -------------------------------- 2.1/11.6 MB 1.0 MB/s eta 0:00:10\n",
            "   -------- ------------------------------- 2.4/11.6 MB 849.4 kB/s eta 0:00:11\n",
            "   -------- ------------------------------- 2.4/11.6 MB 849.4 kB/s eta 0:00:11\n",
            "   --------- ------------------------------ 2.6/11.6 MB 824.9 kB/s eta 0:00:11\n",
            "   --------- ------------------------------ 2.9/11.6 MB 830.4 kB/s eta 0:00:11\n",
            "   ---------- ----------------------------- 3.1/11.6 MB 854.4 kB/s eta 0:00:10\n",
            "   ----------- ---------------------------- 3.4/11.6 MB 879.2 kB/s eta 0:00:10\n",
            "   ------------ --------------------------- 3.7/11.6 MB 904.9 kB/s eta 0:00:09\n",
            "   -------------- ------------------------- 4.2/11.6 MB 975.2 kB/s eta 0:00:08\n",
            "   --------------- ------------------------ 4.5/11.6 MB 994.1 kB/s eta 0:00:08\n",
            "   --------------- ------------------------ 4.5/11.6 MB 994.1 kB/s eta 0:00:08\n",
            "   ---------------- ----------------------- 4.7/11.6 MB 976.6 kB/s eta 0:00:08\n",
            "   ----------------- ---------------------- 5.0/11.6 MB 980.4 kB/s eta 0:00:07\n",
            "   ------------------ --------------------- 5.2/11.6 MB 993.0 kB/s eta 0:00:07\n",
            "   ------------------ --------------------- 5.5/11.6 MB 995.6 kB/s eta 0:00:07\n",
            "   ------------------ --------------------- 5.5/11.6 MB 995.6 kB/s eta 0:00:07\n",
            "   ------------------- -------------------- 5.8/11.6 MB 981.3 kB/s eta 0:00:06\n",
            "   ------------------- -------------------- 5.8/11.6 MB 981.3 kB/s eta 0:00:06\n",
            "   ------------------- -------------------- 5.8/11.6 MB 981.3 kB/s eta 0:00:06\n",
            "   ------------------- -------------------- 5.8/11.6 MB 981.3 kB/s eta 0:00:06\n",
            "   -------------------- ------------------- 6.0/11.6 MB 889.3 kB/s eta 0:00:07\n",
            "   -------------------- ------------------- 6.0/11.6 MB 889.3 kB/s eta 0:00:07\n",
            "   -------------------- ------------------- 6.0/11.6 MB 889.3 kB/s eta 0:00:07\n",
            "   -------------------- ------------------- 6.0/11.6 MB 889.3 kB/s eta 0:00:07\n",
            "   -------------------- ------------------- 6.0/11.6 MB 889.3 kB/s eta 0:00:07\n",
            "   --------------------- ------------------ 6.3/11.6 MB 810.6 kB/s eta 0:00:07\n",
            "   ---------------------- ----------------- 6.6/11.6 MB 805.3 kB/s eta 0:00:07\n",
            "   ---------------------- ----------------- 6.6/11.6 MB 805.3 kB/s eta 0:00:07\n",
            "   ----------------------- ---------------- 6.8/11.6 MB 809.7 kB/s eta 0:00:06\n",
            "   ------------------------ --------------- 7.1/11.6 MB 821.5 kB/s eta 0:00:06\n",
            "   -------------------------- ------------- 7.6/11.6 MB 851.0 kB/s eta 0:00:05\n",
            "   --------------------------- ------------ 7.9/11.6 MB 867.2 kB/s eta 0:00:05\n",
            "   ---------------------------- ----------- 8.1/11.6 MB 873.8 kB/s eta 0:00:04\n",
            "   ---------------------------- ----------- 8.4/11.6 MB 880.0 kB/s eta 0:00:04\n",
            "   ----------------------------- ---------- 8.7/11.6 MB 890.3 kB/s eta 0:00:04\n",
            "   ----------------------------- ---------- 8.7/11.6 MB 890.3 kB/s eta 0:00:04\n",
            "   ----------------------------- ---------- 8.7/11.6 MB 890.3 kB/s eta 0:00:04\n",
            "   ------------------------------ --------- 8.9/11.6 MB 859.7 kB/s eta 0:00:04\n",
            "   ------------------------------ --------- 8.9/11.6 MB 859.7 kB/s eta 0:00:04\n",
            "   ------------------------------ --------- 8.9/11.6 MB 859.7 kB/s eta 0:00:04\n",
            "   ------------------------------ --------- 8.9/11.6 MB 859.7 kB/s eta 0:00:04\n",
            "   ------------------------------ --------- 8.9/11.6 MB 859.7 kB/s eta 0:00:04\n",
            "   ------------------------------ --------- 8.9/11.6 MB 859.7 kB/s eta 0:00:04\n",
            "   ------------------------------ --------- 8.9/11.6 MB 859.7 kB/s eta 0:00:04\n",
            "   ------------------------------- -------- 9.2/11.6 MB 770.8 kB/s eta 0:00:04\n",
            "   ------------------------------- -------- 9.2/11.6 MB 770.8 kB/s eta 0:00:04\n",
            "   ------------------------------- -------- 9.2/11.6 MB 770.8 kB/s eta 0:00:04\n",
            "   -------------------------------- ------- 9.4/11.6 MB 757.6 kB/s eta 0:00:03\n",
            "   --------------------------------- ------ 9.7/11.6 MB 763.5 kB/s eta 0:00:03\n",
            "   ---------------------------------- ----- 10.0/11.6 MB 774.0 kB/s eta 0:00:03\n",
            "   ------------------------------------ --- 10.5/11.6 MB 799.8 kB/s eta 0:00:02\n",
            "   -------------------------------------- - 11.3/11.6 MB 845.9 kB/s eta 0:00:01\n",
            "   -------------------------------------- - 11.3/11.6 MB 845.9 kB/s eta 0:00:01\n",
            "   ---------------------------------------  11.5/11.6 MB 838.8 kB/s eta 0:00:01\n",
            "   ---------------------------------------- 11.6/11.6 MB 835.8 kB/s eta 0:00:00\n",
            "Downloading numpy-2.2.3-cp310-cp310-win_amd64.whl (12.9 MB)\n",
            "   ---------------------------------------- 0.0/12.9 MB ? eta -:--:--\n",
            "   ---------------------------------------- 0.0/12.9 MB ? eta -:--:--\n",
            "   ---------------------------------------- 0.0/12.9 MB ? eta -:--:--\n",
            "    --------------------------------------- 0.3/12.9 MB ? eta -:--:--\n",
            "    --------------------------------------- 0.3/12.9 MB ? eta -:--:--\n",
            "    --------------------------------------- 0.3/12.9 MB ? eta -:--:--\n",
            "   - -------------------------------------- 0.5/12.9 MB 364.6 kB/s eta 0:00:35\n",
            "   - -------------------------------------- 0.5/12.9 MB 364.6 kB/s eta 0:00:35\n",
            "   -- ------------------------------------- 0.8/12.9 MB 453.5 kB/s eta 0:00:27\n",
            "   --- ------------------------------------ 1.0/12.9 MB 559.3 kB/s eta 0:00:22\n",
            "   ---- ----------------------------------- 1.3/12.9 MB 651.7 kB/s eta 0:00:18\n",
            "   ---- ----------------------------------- 1.6/12.9 MB 729.4 kB/s eta 0:00:16\n",
            "   ---- ----------------------------------- 1.6/12.9 MB 729.4 kB/s eta 0:00:16\n",
            "   ----- ---------------------------------- 1.8/12.9 MB 768.4 kB/s eta 0:00:15\n",
            "   ----- ---------------------------------- 1.8/12.9 MB 768.4 kB/s eta 0:00:15\n",
            "   ----- ---------------------------------- 1.8/12.9 MB 768.4 kB/s eta 0:00:15\n",
            "   ------ --------------------------------- 2.1/12.9 MB 678.9 kB/s eta 0:00:16\n",
            "   ------ --------------------------------- 2.1/12.9 MB 678.9 kB/s eta 0:00:16\n",
            "   ------ --------------------------------- 2.1/12.9 MB 678.9 kB/s eta 0:00:16\n",
            "   ------- -------------------------------- 2.4/12.9 MB 604.5 kB/s eta 0:00:18\n",
            "   ------- -------------------------------- 2.4/12.9 MB 604.5 kB/s eta 0:00:18\n",
            "   -------- ------------------------------- 2.6/12.9 MB 624.0 kB/s eta 0:00:17\n",
            "   -------- ------------------------------- 2.9/12.9 MB 652.9 kB/s eta 0:00:16\n",
            "   --------- ------------------------------ 3.1/12.9 MB 686.1 kB/s eta 0:00:15\n",
            "   ---------- ----------------------------- 3.4/12.9 MB 719.0 kB/s eta 0:00:14\n",
            "   ---------- ----------------------------- 3.4/12.9 MB 719.0 kB/s eta 0:00:14\n",
            "   ----------- ---------------------------- 3.7/12.9 MB 703.5 kB/s eta 0:00:14\n",
            "   ----------- ---------------------------- 3.7/12.9 MB 703.5 kB/s eta 0:00:14\n",
            "   ------------ --------------------------- 3.9/12.9 MB 675.0 kB/s eta 0:00:14\n",
            "   ------------ --------------------------- 3.9/12.9 MB 675.0 kB/s eta 0:00:14\n",
            "   ------------ --------------------------- 4.2/12.9 MB 683.9 kB/s eta 0:00:13\n",
            "   ------------- -------------------------- 4.5/12.9 MB 700.9 kB/s eta 0:00:13\n",
            "   -------------- ------------------------- 4.7/12.9 MB 722.0 kB/s eta 0:00:12\n",
            "   --------------- ------------------------ 5.0/12.9 MB 743.8 kB/s eta 0:00:11\n",
            "   ---------------- ----------------------- 5.2/12.9 MB 751.8 kB/s eta 0:00:11\n",
            "   ---------------- ----------------------- 5.2/12.9 MB 751.8 kB/s eta 0:00:11\n",
            "   ---------------- ----------------------- 5.2/12.9 MB 751.8 kB/s eta 0:00:11\n",
            "   ----------------- ---------------------- 5.5/12.9 MB 732.7 kB/s eta 0:00:11\n",
            "   ----------------- ---------------------- 5.5/12.9 MB 732.7 kB/s eta 0:00:11\n",
            "   ----------------- ---------------------- 5.5/12.9 MB 732.7 kB/s eta 0:00:11\n",
            "   ----------------- ---------------------- 5.8/12.9 MB 696.3 kB/s eta 0:00:11\n",
            "   ----------------- ---------------------- 5.8/12.9 MB 696.3 kB/s eta 0:00:11\n",
            "   ----------------- ---------------------- 5.8/12.9 MB 696.3 kB/s eta 0:00:11\n",
            "   ------------------ --------------------- 6.0/12.9 MB 689.9 kB/s eta 0:00:10\n",
            "   ------------------- -------------------- 6.3/12.9 MB 699.0 kB/s eta 0:00:10\n",
            "   -------------------- ------------------- 6.6/12.9 MB 711.4 kB/s eta 0:00:09\n",
            "   --------------------- ------------------ 7.1/12.9 MB 741.9 kB/s eta 0:00:08\n",
            "   ---------------------- ----------------- 7.3/12.9 MB 758.8 kB/s eta 0:00:08\n",
            "   ----------------------- ---------------- 7.6/12.9 MB 775.2 kB/s eta 0:00:07\n",
            "   ------------------------ --------------- 7.9/12.9 MB 784.8 kB/s eta 0:00:07\n",
            "   ------------------------- -------------- 8.1/12.9 MB 793.9 kB/s eta 0:00:07\n",
            "   ------------------------- -------------- 8.4/12.9 MB 803.9 kB/s eta 0:00:06\n",
            "   ------------------------- -------------- 8.4/12.9 MB 803.9 kB/s eta 0:00:06\n",
            "   ------------------------- -------------- 8.4/12.9 MB 803.9 kB/s eta 0:00:06\n",
            "   -------------------------- ------------- 8.7/12.9 MB 774.7 kB/s eta 0:00:06\n",
            "   -------------------------- ------------- 8.7/12.9 MB 774.7 kB/s eta 0:00:06\n",
            "   -------------------------- ------------- 8.7/12.9 MB 774.7 kB/s eta 0:00:06\n",
            "   --------------------------- ------------ 8.9/12.9 MB 750.2 kB/s eta 0:00:06\n",
            "   --------------------------- ------------ 8.9/12.9 MB 750.2 kB/s eta 0:00:06\n",
            "   --------------------------- ------------ 8.9/12.9 MB 750.2 kB/s eta 0:00:06\n",
            "   --------------------------- ------------ 8.9/12.9 MB 750.2 kB/s eta 0:00:06\n",
            "   --------------------------- ------------ 8.9/12.9 MB 750.2 kB/s eta 0:00:06\n",
            "   --------------------------- ------------ 8.9/12.9 MB 750.2 kB/s eta 0:00:06\n",
            "   --------------------------- ------------ 8.9/12.9 MB 750.2 kB/s eta 0:00:06\n",
            "   ---------------------------- ----------- 9.2/12.9 MB 684.8 kB/s eta 0:00:06\n",
            "   ---------------------------- ----------- 9.2/12.9 MB 684.8 kB/s eta 0:00:06\n",
            "   ----------------------------- ---------- 9.4/12.9 MB 685.2 kB/s eta 0:00:06\n",
            "   ------------------------------ --------- 9.7/12.9 MB 691.9 kB/s eta 0:00:05\n",
            "   ------------------------------ --------- 10.0/12.9 MB 700.6 kB/s eta 0:00:05\n",
            "   ------------------------------- -------- 10.2/12.9 MB 710.8 kB/s eta 0:00:04\n",
            "   -------------------------------- ------- 10.5/12.9 MB 720.6 kB/s eta 0:00:04\n",
            "   --------------------------------- ------ 10.7/12.9 MB 725.5 kB/s eta 0:00:04\n",
            "   --------------------------------- ------ 10.7/12.9 MB 725.5 kB/s eta 0:00:04\n",
            "   --------------------------------- ------ 10.7/12.9 MB 725.5 kB/s eta 0:00:04\n",
            "   --------------------------------- ------ 10.7/12.9 MB 725.5 kB/s eta 0:00:04\n",
            "   --------------------------------- ------ 10.7/12.9 MB 725.5 kB/s eta 0:00:04\n",
            "   ---------------------------------- ----- 11.0/12.9 MB 698.4 kB/s eta 0:00:03\n",
            "   ---------------------------------- ----- 11.0/12.9 MB 698.4 kB/s eta 0:00:03\n",
            "   ---------------------------------- ----- 11.3/12.9 MB 692.9 kB/s eta 0:00:03\n",
            "   ---------------------------------- ----- 11.3/12.9 MB 692.9 kB/s eta 0:00:03\n",
            "   ---------------------------------- ----- 11.3/12.9 MB 692.9 kB/s eta 0:00:03\n",
            "   ---------------------------------- ----- 11.3/12.9 MB 692.9 kB/s eta 0:00:03\n",
            "   ---------------------------------- ----- 11.3/12.9 MB 692.9 kB/s eta 0:00:03\n",
            "   ---------------------------------- ----- 11.3/12.9 MB 692.9 kB/s eta 0:00:03\n",
            "   ---------------------------------- ----- 11.3/12.9 MB 692.9 kB/s eta 0:00:03\n",
            "   ---------------------------------- ----- 11.3/12.9 MB 692.9 kB/s eta 0:00:03\n",
            "   ----------------------------------- ---- 11.5/12.9 MB 640.7 kB/s eta 0:00:03\n",
            "   ----------------------------------- ---- 11.5/12.9 MB 640.7 kB/s eta 0:00:03\n",
            "   ----------------------------------- ---- 11.5/12.9 MB 640.7 kB/s eta 0:00:03\n",
            "   ------------------------------------ --- 11.8/12.9 MB 637.5 kB/s eta 0:00:02\n",
            "   ------------------------------------- -- 12.1/12.9 MB 642.0 kB/s eta 0:00:02\n",
            "   -------------------------------------- - 12.3/12.9 MB 649.1 kB/s eta 0:00:01\n",
            "   -------------------------------------- - 12.6/12.9 MB 657.1 kB/s eta 0:00:01\n",
            "   ---------------------------------------- 12.9/12.9 MB 666.5 kB/s eta 0:00:00\n",
            "Downloading pytz-2025.1-py2.py3-none-any.whl (507 kB)\n",
            "Downloading tzdata-2025.1-py2.py3-none-any.whl (346 kB)\n",
            "Installing collected packages: pytz, tzdata, numpy, pandas\n",
            "Successfully installed numpy-2.2.3 pandas-2.2.3 pytz-2025.1 tzdata-2025.1\n"
          ]
        },
        {
          "name": "stderr",
          "output_type": "stream",
          "text": [
            "\n",
            "[notice] A new release of pip is available: 24.3.1 -> 25.0.1\n",
            "[notice] To update, run: python.exe -m pip install --upgrade pip\n"
          ]
        },
        {
          "name": "stdout",
          "output_type": "stream",
          "text": [
            "Collecting psycopg2-binary\n",
            "  Downloading psycopg2_binary-2.9.10-cp310-cp310-win_amd64.whl.metadata (5.0 kB)\n",
            "Downloading psycopg2_binary-2.9.10-cp310-cp310-win_amd64.whl (1.2 MB)\n",
            "   ---------------------------------------- 0.0/1.2 MB ? eta -:--:--\n",
            "   --------------------------- ------------ 0.8/1.2 MB 4.2 MB/s eta 0:00:01\n",
            "   --------------------------- ------------ 0.8/1.2 MB 4.2 MB/s eta 0:00:01\n",
            "   --------------------------- ------------ 0.8/1.2 MB 4.2 MB/s eta 0:00:01\n",
            "   ---------------------------------------- 1.2/1.2 MB 1.3 MB/s eta 0:00:00\n",
            "Installing collected packages: psycopg2-binary\n",
            "Successfully installed psycopg2-binary-2.9.10\n"
          ]
        },
        {
          "name": "stderr",
          "output_type": "stream",
          "text": [
            "\n",
            "[notice] A new release of pip is available: 24.3.1 -> 25.0.1\n",
            "[notice] To update, run: python.exe -m pip install --upgrade pip\n"
          ]
        },
        {
          "name": "stdout",
          "output_type": "stream",
          "text": [
            "Requirement already satisfied: sqlalchemy in c:\\laragon\\bin\\python\\python-3.10\\lib\\site-packages (2.0.38)\n",
            "Requirement already satisfied: greenlet!=0.4.17 in c:\\laragon\\bin\\python\\python-3.10\\lib\\site-packages (from sqlalchemy) (3.1.1)\n",
            "Requirement already satisfied: typing-extensions>=4.6.0 in c:\\laragon\\bin\\python\\python-3.10\\lib\\site-packages (from sqlalchemy) (4.12.2)\n"
          ]
        },
        {
          "name": "stderr",
          "output_type": "stream",
          "text": [
            "\n",
            "[notice] A new release of pip is available: 24.3.1 -> 25.0.1\n",
            "[notice] To update, run: python.exe -m pip install --upgrade pip\n"
          ]
        }
      ],
      "source": [
        "!pip install pymysql\n",
        "!pip install pandas\n",
        "!pip install psycopg2-binary\n",
        "!pip install sqlalchemy"
      ]
    },
    {
      "cell_type": "markdown",
      "metadata": {
        "id": "7ddQlP107Z56"
      },
      "source": [
        "\n",
        "\n",
        "*   **Menghubungkan database yang di aiven.io**\n",
        "\n"
      ]
    },
    {
      "cell_type": "code",
      "execution_count": 3,
      "metadata": {
        "colab": {
          "base_uri": "https://localhost:8080/"
        },
        "id": "p5wKWkZVEhH7",
        "outputId": "51b27cf3-3c8d-4f7a-f611-4045a5f0d9a5"
      },
      "outputs": [
        {
          "name": "stdout",
          "output_type": "stream",
          "text": [
            "Data dari MySQL (Petal Data):\n",
            "   id        class  petal_length  petal_width\n",
            "0   1  Iris-setosa           1.4          0.2\n",
            "1   2  Iris-setosa           1.4          0.2\n",
            "2   3  Iris-setosa           1.3          0.2\n",
            "3   4  Iris-setosa           1.5          0.2\n",
            "4   5  Iris-setosa           1.4          0.2\n",
            "\n",
            "Data dari PostgreSQL (Sepal Data):\n",
            "   id        class  sepal_length  sepal_width\n",
            "0   1  Iris-setosa           5.1          3.5\n",
            "1   2  Iris-setosa           4.9          3.0\n",
            "2   3  Iris-setosa           4.7          3.2\n",
            "3   4  Iris-setosa           4.6          3.1\n",
            "4   5  Iris-setosa           5.0          3.6\n"
          ]
        }
      ],
      "source": [
        "import psycopg2\n",
        "import pymysql\n",
        "import pandas as pd\n",
        "from sqlalchemy import create_engine\n",
        "\n",
        "# Konfigurasi koneksi PostgreSQL\n",
        "postgres_config = {\n",
        "    'host': 'rendydevanodanendra-iris-mysqldatamining.l.aivencloud.com',\n",
        "    'port': 25241,\n",
        "    'user': 'avnadmin',\n",
        "    'password': 'AVNS_FFOWj--XLs8RxkVrDRF',\n",
        "    'database': 'defaultdb'\n",
        "}\n",
        "\n",
        "# Konfigurasi koneksi MySQL\n",
        "mysql_config = {\n",
        "    'host': 'rendydevanodanendra-mysql-devano.i.aivencloud.com',\n",
        "    'port': 23259,\n",
        "    'user': 'avnadmin',\n",
        "    'password': 'AVNS_wFznH835_f1Llb65Rr5',\n",
        "    'database': 'defaultdb'\n",
        "}\n",
        "\n",
        "try:\n",
        "    # Membuat koneksi SQLAlchemy ke MySQL\n",
        "    mysql_engine = create_engine(\n",
        "        f\"mysql+pymysql://{mysql_config['user']}:{mysql_config['password']}@{mysql_config['host']}:{mysql_config['port']}/{mysql_config['database']}\"\n",
        "    )\n",
        "\n",
        "    # Membuat koneksi SQLAlchemy ke PostgreSQL\n",
        "    pg_engine = create_engine(\n",
        "        f\"postgresql+psycopg2://{postgres_config['user']}:{postgres_config['password']}@{postgres_config['host']}:{postgres_config['port']}/{postgres_config['database']}\"\n",
        "    )\n",
        "\n",
        "    # Jalankan query MySQL\n",
        "    mysql_query = \"SELECT * FROM iris_data;\"\n",
        "    df_mysql = pd.read_sql(mysql_query, mysql_engine)\n",
        "\n",
        "    # Jalankan query PostgreSQL\n",
        "    pg_query = \"SELECT * FROM iris_data;\"\n",
        "    df_postgres = pd.read_sql(pg_query, pg_engine)\n",
        "\n",
        "    # Print hasil\n",
        "    print(\"Data dari MySQL (Petal Data):\")\n",
        "    print(df_mysql.head())\n",
        "\n",
        "    print(\"\\nData dari PostgreSQL (Sepal Data):\")\n",
        "    print(df_postgres.head())\n",
        "\n",
        "except Exception as e:\n",
        "    print(f\"Terjadi error: {e}\")\n",
        "\n",
        "finally:\n",
        "    # Menutup koneksi\n",
        "    mysql_engine.dispose()\n",
        "    pg_engine.dispose()\n"
      ]
    },
    {
      "cell_type": "markdown",
      "metadata": {
        "id": "FPKfyWgucred"
      },
      "source": [
        "\n",
        "*   **2.Mengambil dan menampilkan data**\n",
        "\n"
      ]
    },
    {
      "cell_type": "code",
      "execution_count": null,
      "metadata": {
        "colab": {
          "base_uri": "https://localhost:8080/"
        },
        "id": "bEXAigSku4_E",
        "outputId": "e14382c1-efca-4de9-ffc3-0602d98bbc05"
      },
      "outputs": [
        {
          "name": "stdout",
          "output_type": "stream",
          "text": [
            "Data dari MySQL:\n",
            "   id        class  petal_length  petal_width\n",
            "0   1  Iris-setosa           1.4          0.2\n",
            "1   2  Iris-setosa           1.4          0.2\n",
            "2   3  Iris-setosa           1.3          0.2\n",
            "3   4  Iris-setosa           1.5          0.2\n",
            "4   5  Iris-setosa           1.4          0.2\n",
            "\n",
            " Data dari PostgreSQL:\n",
            "   id        class  sepal_length  sepal_width\n",
            "0   1  Iris-setosa           5.1          3.5\n",
            "1   2  Iris-setosa           4.9          3.0\n",
            "2   3  Iris-setosa           4.7          3.2\n",
            "3   4  Iris-setosa           4.6          3.1\n",
            "4   5  Iris-setosa           5.0          3.6\n"
          ]
        }
      ],
      "source": [
        "mysql_query = \"SELECT * FROM iris_data;\"\n",
        "df_mysql = pd.read_sql(mysql_query, mysql_engine)\n",
        "\n",
        "pg_query = \"SELECT * FROM iris_data;\"\n",
        "df_postgres = pd.read_sql(pg_query, pg_engine)\n",
        "\n",
        "# Print hasil query\n",
        "print(\"Data dari MySQL:\")\n",
        "print(df_mysql.head())\n",
        "\n",
        "print(\"\\n Data dari PostgreSQL:\")\n",
        "print(df_postgres.head())"
      ]
    },
    {
      "cell_type": "markdown",
      "metadata": {
        "id": "e4uq_HU47wAO"
      },
      "source": [
        "\n",
        "\n",
        "*   **3.Menggambungkan data dari kedua data base cihuy**\n",
        "\n"
      ]
    },
    {
      "cell_type": "code",
      "execution_count": 4,
      "metadata": {
        "colab": {
          "base_uri": "https://localhost:8080/"
        },
        "id": "x6X14InK7fMw",
        "outputId": "d6a6e6f8-5673-4bee-9d77-ed84492a52cd"
      },
      "outputs": [
        {
          "name": "stdout",
          "output_type": "stream",
          "text": [
            "\n",
            "Data Gabungan dengan Class dari PostgreSQL:\n",
            "   id        class  petal_length  petal_width  sepal_length  sepal_width\n",
            "0   1  Iris-setosa           1.4          0.2           5.1          3.5\n",
            "1   2  Iris-setosa           1.4          0.2           4.9          3.0\n",
            "2   3  Iris-setosa           1.3          0.2           4.7          3.2\n",
            "3   4  Iris-setosa           1.5          0.2           4.6          3.1\n",
            "4   5  Iris-setosa           1.4          0.2           5.0          3.6\n"
          ]
        }
      ],
      "source": [
        "# Pilih kolom 'class' hanya dari PostgreSQL\n",
        "postgres_id = df_postgres[['id']]\n",
        "\n",
        "# Pilih kolom petal dari MySQL\n",
        "mysql_petal = df_mysql[['class','petal_length', 'petal_width']]\n",
        "\n",
        "# Pilih kolom sepal dari PostgreSQL\n",
        "postgres_sepal = df_postgres[['sepal_length', 'sepal_width']]\n",
        "\n",
        "# Gabungkan semua data secara horizontal\n",
        "combined_df = pd.concat([postgres_id, mysql_petal, postgres_sepal], axis=1)\n",
        "\n",
        "# Tampilkan hasil gabungan\n",
        "print(\"\\nData Gabungan dengan Class dari PostgreSQL:\")\n",
        "print(combined_df.head())  # Menampilkan 10 baris pertama\n"
      ]
    },
    {
      "cell_type": "markdown",
      "metadata": {
        "id": "GIR1eNHOeGnU"
      },
      "source": [
        "### **2.Profiling data**\n",
        "\n",
        "*   Ringkasan tentang setiap variabel dalam dataset,termasuk tipe data (numerik, kategorikal, ordinal), rentang nilai, dan frekuensi kemunculan dan Hubungan antarvariabel menggunakan korelasi\n",
        "atau analisis asosiasi\n",
        "\n"
      ]
    },
    {
      "cell_type": "markdown",
      "metadata": {
        "id": "FX8yOsKUiJ_D"
      },
      "source": [
        "#### **Ringkasan variabel dalam dataset**\n",
        "\n",
        "- Menampilkan Informasi Dataset"
      ]
    },
    {
      "cell_type": "code",
      "execution_count": null,
      "metadata": {
        "colab": {
          "base_uri": "https://localhost:8080/"
        },
        "id": "-viex-dUWoho",
        "outputId": "45098c08-4493-456a-c9b0-7e7219929dc9"
      },
      "outputs": [
        {
          "name": "stdout",
          "output_type": "stream",
          "text": [
            "<class 'pandas.core.frame.DataFrame'>\n",
            "RangeIndex: 150 entries, 0 to 149\n",
            "Data columns (total 6 columns):\n",
            " #   Column        Non-Null Count  Dtype  \n",
            "---  ------        --------------  -----  \n",
            " 0   id            150 non-null    int64  \n",
            " 1   class         150 non-null    object \n",
            " 2   petal_length  150 non-null    float64\n",
            " 3   petal_width   150 non-null    float64\n",
            " 4   sepal_length  150 non-null    float64\n",
            " 5   sepal_width   150 non-null    float64\n",
            "dtypes: float64(4), int64(1), object(1)\n",
            "memory usage: 7.2+ KB\n",
            "None\n"
          ]
        }
      ],
      "source": [
        "print(combined_df.info())"
      ]
    },
    {
      "cell_type": "markdown",
      "metadata": {
        "id": "AS6Iew3ZhJjB"
      },
      "source": [
        "### **Menampilkan statistik dasar untuk kolom numerik:**\n",
        "\n",
        "\n",
        "*   Count: Jumlah data yang valid\n",
        "*   Mean: Rata-rata nilai.\n",
        "*   Std: Standar deviasi (keragaman data).\n",
        "*   Min & Max: Nilai minimum dan maksimum.\n",
        "*   25%, 50%, 75%: Persentil yang menggambarkan distribusi data.\n",
        "*   Sesuai dengan praktik terbaik untuk memahami distribusi nilai dalam dataset..\n"
      ]
    },
    {
      "cell_type": "code",
      "execution_count": null,
      "metadata": {
        "colab": {
          "base_uri": "https://localhost:8080/"
        },
        "id": "Le_HVOXEXBzV",
        "outputId": "e33ee7ae-d47f-45f4-9adb-85b8169e50e1"
      },
      "outputs": [
        {
          "name": "stdout",
          "output_type": "stream",
          "text": [
            "       petal_length  petal_width  sepal_length  sepal_width\n",
            "count    150.000000   150.000000    150.000000   150.000000\n",
            "mean       3.758667     1.198667      5.843333     3.054000\n",
            "std        1.764420     0.763161      0.828066     0.433594\n",
            "min        1.000000     0.100000      4.300000     2.000000\n",
            "25%        1.600000     0.300000      5.100000     2.800000\n",
            "50%        4.350000     1.300000      5.800000     3.000000\n",
            "75%        5.100000     1.800000      6.400000     3.300000\n",
            "max        6.900000     2.500000      7.900000     4.400000\n"
          ]
        }
      ],
      "source": [
        "print(combined_df.drop(columns=['id']).describe())"
      ]
    },
    {
      "cell_type": "markdown",
      "metadata": {
        "id": "PnToLfTViRc1"
      },
      "source": [
        "### **Menghitung frekuensi kemunculan tiap kelas:**\n",
        "Menampilkan jumlah instance dari masing-masing kelas."
      ]
    },
    {
      "cell_type": "code",
      "execution_count": null,
      "metadata": {
        "colab": {
          "base_uri": "https://localhost:8080/"
        },
        "id": "GZasX0xXXPBr",
        "outputId": "6991e5c7-6685-47f6-d6af-fc36a670c606"
      },
      "outputs": [
        {
          "name": "stdout",
          "output_type": "stream",
          "text": [
            "class\n",
            "Iris-setosa        50\n",
            "Iris-versicolor    50\n",
            "Iris-virginica     50\n",
            "Name: count, dtype: int64\n"
          ]
        }
      ],
      "source": [
        "print(combined_df['class'].value_counts())\n"
      ]
    },
    {
      "cell_type": "markdown",
      "metadata": {
        "id": "EWMVn18BjehX"
      },
      "source": [
        "### **3.Korelasi dan asosiasi**"
      ]
    },
    {
      "cell_type": "markdown",
      "metadata": {
        "id": "tU9lzzNrixVV"
      },
      "source": [
        "\n",
        "\n",
        "\n",
        "*   Menghitung koefisien korelasi (misalnya Pearson, Spearman)untuk melihat hubungan linier antar variabel.\n",
        "*   Menggunakan teknik asosiasi untuk menemukan pola\n",
        "hubungan antara variabel kategorikal.\n",
        "\n",
        "\n",
        "\n"
      ]
    },
    {
      "cell_type": "markdown",
      "metadata": {
        "id": "iBymnlEpEkEl"
      },
      "source": [
        "### **Menghitung korelasi pearson**"
      ]
    },
    {
      "cell_type": "code",
      "execution_count": null,
      "metadata": {
        "colab": {
          "base_uri": "https://localhost:8080/"
        },
        "id": "OU1kr_yOXic4",
        "outputId": "d987dafc-018a-4cf4-ec54-3ddd2eebfd9e"
      },
      "outputs": [
        {
          "name": "stdout",
          "output_type": "stream",
          "text": [
            "              petal_length  petal_width  sepal_length  sepal_width\n",
            "petal_length      1.000000     0.962757      0.871754    -0.420516\n",
            "petal_width       0.962757     1.000000      0.817954    -0.356544\n",
            "sepal_length      0.871754     0.817954      1.000000    -0.109369\n",
            "sepal_width      -0.420516    -0.356544     -0.109369     1.000000\n"
          ]
        }
      ],
      "source": [
        "df_korelasi =combined_df.drop(columns=['id', 'class']).corr()\n",
        "print(df_korelasi)"
      ]
    },
    {
      "cell_type": "markdown",
      "metadata": {
        "id": "-jVmFOH1FVQp"
      },
      "source": [
        "###  **memvisualisasikan matriks korelasi antar variabel numerik**"
      ]
    },
    {
      "cell_type": "code",
      "execution_count": null,
      "metadata": {
        "colab": {
          "base_uri": "https://localhost:8080/",
          "height": 545
        },
        "id": "aPbDtBQyXsrd",
        "outputId": "8bf21ae6-2cc7-4d40-b8b5-91709006e984"
      },
      "outputs": [
        {
          "data": {
            "image/png": "[encoded data removed]",
            "text/plain": [
              "<Figure size 800x600 with 2 Axes>"
            ]
          },
          "metadata": {},
          "output_type": "display_data"
        }
      ],
      "source": [
        "import seaborn as sns\n",
        "import matplotlib.pyplot as plt\n",
        "\n",
        "# Menghitung korelasi antar variabel numerik\n",
        "df_korelasi = combined_df.drop(columns=['id', 'class']).corr()\n",
        "\n",
        "# Visualisasi dengan heatmap\n",
        "plt.figure(figsize=(8, 6))\n",
        "sns.heatmap(df_korelasi, annot=True, cmap=\"coolwarm\", fmt=\".2f\", linewidths=0.5)\n",
        "plt.title(\"Matriks Korelasi Antar Variabel Numerik\")\n",
        "plt.show()\n"
      ]
    },
    {
      "cell_type": "markdown",
      "metadata": {
        "id": "QVlMUKZBA5x9"
      },
      "source": [
        "###  karakteristik rata-rata setiap spesies bunga dalam dataset Iris"
      ]
    },
    {
      "cell_type": "code",
      "execution_count": null,
      "metadata": {
        "colab": {
          "base_uri": "https://localhost:8080/"
        },
        "id": "XW5OCenRY8pI",
        "outputId": "9a98bdba-f3bc-401d-8df4-1071c88f8188"
      },
      "outputs": [
        {
          "name": "stdout",
          "output_type": "stream",
          "text": [
            "                 petal_length  petal_width  sepal_length  sepal_width\n",
            "class                                                                \n",
            "Iris-setosa             1.464        0.244         5.006        3.418\n",
            "Iris-versicolor         4.260        1.326         5.936        2.770\n",
            "Iris-virginica          5.552        2.026         6.588        2.974\n"
          ]
        }
      ],
      "source": [
        "df_mean = combined_df.drop(columns=['id']).groupby('class').mean()\n",
        "print(df_mean)\n"
      ]
    },
    {
      "cell_type": "markdown",
      "metadata": {
        "id": "a3sbmcWZFzpE"
      },
      "source": [
        "### **menunjukkan distribusi panjang kelopak bunga (petal_length) berdasarkan kelas (class) dari dataset Iris.**"
      ]
    },
    {
      "cell_type": "code",
      "execution_count": null,
      "metadata": {
        "colab": {
          "base_uri": "https://localhost:8080/",
          "height": 655
        },
        "id": "UjQ78W-2ZEJU",
        "outputId": "c5c4aafd-384e-4148-fcec-42940906caba"
      },
      "outputs": [
        {
          "name": "stderr",
          "output_type": "stream",
          "text": [
            "<ipython-input-11-187c3cf593e2>:5: FutureWarning: \n",
            "\n",
            "Passing `palette` without assigning `hue` is deprecated and will be removed in v0.14.0. Assign the `x` variable to `hue` and set `legend=False` for the same effect.\n",
            "\n",
            "  sns.boxplot(x=\"class\", y=\"petal_length\", data=combined_df, palette=\"Set2\")\n"
          ]
        },
        {
          "data": {
            "image/png": "[encoded data removed]",
            "text/plain": [
              "<Figure size 800x600 with 1 Axes>"
            ]
          },
          "metadata": {},
          "output_type": "display_data"
        }
      ],
      "source": [
        "import seaborn as sns\n",
        "import matplotlib.pyplot as plt\n",
        "\n",
        "plt.figure(figsize=(8, 6))\n",
        "sns.boxplot(x=\"class\", y=\"petal_length\", data=combined_df, palette=\"Set2\")\n",
        "\n",
        "plt.title(\"Boxplot Panjang Kelopak Berdasarkan Kelas\")\n",
        "plt.xlabel(\"Kelas\")\n",
        "plt.ylabel(\"Panjang Kelopak\")\n",
        "plt.grid(True)\n",
        "plt.show()\n"
      ]
    },
    {
      "cell_type": "markdown",
      "metadata": {
        "id": "xwoRbpz1GWEA"
      },
      "source": [
        "###  **4.Eksplorasi Data**\n",
        "\n",
        "\n",
        "\n",
        "*   Melakukan deskripsi statistik untuk memahami distribusi\n",
        "data, seperti mean, median, modus, standar deviasi,\n",
        "minimum, dan maksimum.\n",
        "*   Menggunakan visualisasi data (grafik, histogram, scatter plot)\n",
        "untuk melihat pola atau tren awal.\n",
        "\n",
        "\n"
      ]
    },
    {
      "cell_type": "markdown",
      "metadata": {
        "id": "eKZJArFzJSnU"
      },
      "source": [
        "### **Histogram digunakan untuk melihat distribusi data dari setiap fitur (petal_length, petal_width, sepal_length, dan sepal_width). Ini membantu memahami penyebaran data serta mengidentifikasi pola yang mungkin ada.**"
      ]
    },
    {
      "cell_type": "code",
      "execution_count": null,
      "metadata": {
        "colab": {
          "base_uri": "https://localhost:8080/",
          "height": 545
        },
        "id": "O0vbEsVnZ9wf",
        "outputId": "cccf9ac2-a637-4d62-cb54-ea2c204a5231"
      },
      "outputs": [
        {
          "data": {
            "image/png": "[encoded data removed]",
            "text/plain": [
              "<Figure size 1000x600 with 4 Axes>"
            ]
          },
          "metadata": {},
          "output_type": "display_data"
        }
      ],
      "source": [
        "import matplotlib.pyplot as plt\n",
        "\n",
        "combined_df.loc[:,combined_df.columns != 'id'].hist(figsize=(10, 6), bins=20)\n",
        "plt.show()"
      ]
    },
    {
      "cell_type": "markdown",
      "metadata": {
        "id": "mlXcdd0iJgUu"
      },
      "source": [
        "### **boxplot untuk melihat distribusi dan outlier dalam setiap fitur serta memahami variasi data dan mendeteksi anomali.**"
      ]
    },
    {
      "cell_type": "code",
      "execution_count": null,
      "metadata": {
        "colab": {
          "base_uri": "https://localhost:8080/",
          "height": 522
        },
        "id": "xPD3KCCBaW-I",
        "outputId": "cb490b0c-05ce-4a04-ee04-18af02f1797f"
      },
      "outputs": [
        {
          "data": {
            "image/png": "[encoded data removed]",
            "text/plain": [
              "<Figure size 800x600 with 1 Axes>"
            ]
          },
          "metadata": {},
          "output_type": "display_data"
        }
      ],
      "source": [
        "plt.figure(figsize=(8,6))\n",
        "sns.boxplot(data=combined_df.loc[:, combined_df.columns != 'id'])\n",
        "plt.show()\n"
      ]
    },
    {
      "cell_type": "markdown",
      "metadata": {
        "id": "Vd1Q7tDnJraR"
      },
      "source": [
        "### **Scatterplot Matrix melihat hubungan antara fitur berdasarkan kelas, serta mengidentifikasi pola, asosiasi, dan kemungkinan korelasi antar variabel.**"
      ]
    },
    {
      "cell_type": "code",
      "execution_count": 1,
      "metadata": {
        "colab": {
          "base_uri": "https://localhost:8080/",
          "height": 1000
        },
        "id": "-iJzVlI6at7X",
        "outputId": "f2c1ac1c-aa0c-48dd-8b99-5232b213aba2"
      },
      "outputs": [
        {
          "ename": "NameError",
          "evalue": "name 'sns' is not defined",
          "output_type": "error",
          "traceback": [
            "\u001b[1;31m---------------------------------------------------------------------------\u001b[0m",
            "\u001b[1;31mNameError\u001b[0m                                 Traceback (most recent call last)",
            "Cell \u001b[1;32mIn[1], line 1\u001b[0m\n\u001b[1;32m----> 1\u001b[0m \u001b[43msns\u001b[49m\u001b[38;5;241m.\u001b[39mpairplot(combined_df\u001b[38;5;241m.\u001b[39mdrop(columns\u001b[38;5;241m=\u001b[39m[\u001b[38;5;124m\"\u001b[39m\u001b[38;5;124mid\u001b[39m\u001b[38;5;124m\"\u001b[39m]), hue\u001b[38;5;241m=\u001b[39m\u001b[38;5;124m\"\u001b[39m\u001b[38;5;124mclass\u001b[39m\u001b[38;5;124m\"\u001b[39m)\n\u001b[0;32m      2\u001b[0m plt\u001b[38;5;241m.\u001b[39mshow()\n",
            "\u001b[1;31mNameError\u001b[0m: name 'sns' is not defined"
          ]
        }
      ],
      "source": [
        "sns.pairplot(combined_df.drop(columns=[\"id\"]), hue=\"class\")\n",
        "plt.show()"
      ]
    },
    {
      "cell_type": "markdown",
      "metadata": {
        "id": "mhus7ottLHSo"
      },
      "source": [
        "### **5.Identifikasi masalah data**"
      ]
    },
    {
      "cell_type": "markdown",
      "metadata": {
        "id": "HctkJKcRLThE"
      },
      "source": [
        "Missing Values: Menemukan data yang hilang atau tidak\n",
        "lengkap."
      ]
    },
    {
      "cell_type": "code",
      "execution_count": null,
      "metadata": {
        "colab": {
          "base_uri": "https://localhost:8080/"
        },
        "id": "nT8tqEohbP0i",
        "outputId": "7102891e-ee11-445e-d95e-f84ccc65050e"
      },
      "outputs": [
        {
          "name": "stdout",
          "output_type": "stream",
          "text": [
            "id              0\n",
            "class           0\n",
            "petal_length    0\n",
            "petal_width     0\n",
            "sepal_length    0\n",
            "sepal_width     0\n",
            "dtype: int64\n"
          ]
        }
      ],
      "source": [
        "print(combined_df.isnull().sum())"
      ]
    },
    {
      "cell_type": "markdown",
      "metadata": {
        "id": "Ln_3-_i4LXBB"
      },
      "source": [
        "Outliers: Mendeteksi nilai nilai ekstrem yang mungkin\n",
        "merupakan kesalahan atau anomali."
      ]
    },
    {
      "cell_type": "code",
      "execution_count": null,
      "metadata": {
        "colab": {
          "base_uri": "https://localhost:8080/"
        },
        "id": "OzYDDp79b99u",
        "outputId": "fddc67fe-3588-4f36-d4f4-b0f3c255fd03"
      },
      "outputs": [
        {
          "name": "stdout",
          "output_type": "stream",
          "text": [
            "id              0\n",
            "petal_length    0\n",
            "petal_width     0\n",
            "sepal_length    0\n",
            "sepal_width     4\n",
            "dtype: int64\n"
          ]
        }
      ],
      "source": [
        "# Memilih hanya kolom numerik\n",
        "df_numeric = combined_df.select_dtypes(include=['number'])\n",
        "\n",
        "# Menghitung IQR\n",
        "Q1 = df_numeric.quantile(0.25)\n",
        "Q3 = df_numeric.quantile(0.75)\n",
        "IQR = Q3 - Q1\n",
        "\n",
        "# Menentukan outliers\n",
        "outliers = (df_numeric < (Q1 - 1.5 * IQR)) | (df_numeric > (Q3 + 1.5 * IQR))\n",
        "print(outliers.sum())  # Menampilkan jumlah outliers per kolom\n"
      ]
    },
    {
      "cell_type": "markdown",
      "metadata": {
        "id": "6iARwm_MLbBr"
      },
      "source": [
        "Duplikasi Data: Mengidentifikasi baris atau entri yang\n",
        "duplikat."
      ]
    },
    {
      "cell_type": "code",
      "execution_count": null,
      "metadata": {
        "colab": {
          "base_uri": "https://localhost:8080/"
        },
        "id": "1qFOt6oZcFfH",
        "outputId": "1d417a9f-7fa1-4394-bb4f-7190d85e4e70"
      },
      "outputs": [
        {
          "name": "stdout",
          "output_type": "stream",
          "text": [
            "Tidak ada data duplikat ditemukan.\n"
          ]
        }
      ],
      "source": [
        "# Menemukan data yang duplikat\n",
        "duplicates = combined_df[combined_df.duplicated()]\n",
        "\n",
        "# Menampilkan data duplikat (jika ada)\n",
        "if not duplicates.empty:\n",
        "    print(\"Data duplikat ditemukan:\")\n",
        "    print(duplicates)\n",
        "else:\n",
        "    print(\"Tidak ada data duplikat ditemukan.\")\n"
      ]
    },
    {
      "cell_type": "markdown",
      "metadata": {
        "id": "GMOinzFBLeoW"
      },
      "source": [
        "Inkonsistensi: Memeriksa apakah ada ketidaksesuaian dalam\n",
        "format atau nilai data."
      ]
    },
    {
      "cell_type": "code",
      "execution_count": null,
      "metadata": {
        "colab": {
          "base_uri": "https://localhost:8080/"
        },
        "id": "1923fvZwcaST",
        "outputId": "06f27489-ec25-459d-996a-ad97db2cf55a"
      },
      "outputs": [
        {
          "name": "stdout",
          "output_type": "stream",
          "text": [
            "Nilai unik pada kolom 'class': ['Iris-setosa' 'Iris-versicolor' 'Iris-virginica']\n",
            "Nilai unik pada kolom 'id': [1.4 1.3 1.5 1.7 1.6 1.1 1.2 1.  1.9 4.7 4.5 4.9 4.  4.6 3.3 3.9 3.5 4.2\n",
            " 3.6 4.4 4.1 4.8 4.3 5.  3.8 3.7 5.1 3.  6.  5.9 5.6 5.8 6.6 6.3 6.1 5.3\n",
            " 5.5 6.7 6.9 5.7 6.4 5.4 5.2]\n"
          ]
        }
      ],
      "source": [
        "# Cek nilai unik pada kolom kategori (misalnya 'class')\n",
        "unique_classes = combined_df['class'].unique()\n",
        "unique_id = combined_df['petal_length'].unique()\n",
        "print(\"Nilai unik pada kolom 'class':\", unique_classes)\n",
        "print(\"Nilai unik pada kolom 'id':\", unique_id)\n"
      ]
    },
    {
      "cell_type": "markdown",
      "metadata": {
        "id": "qmEE91c7Mc50"
      },
      "source": [
        "Kesimpulannya, dataset Iris ini memiliki distribusi yang baik tanpa data yang hilang, serta menunjukkan pola dan korelasi yang dapat dimanfaatkan dalam proses data mining"
      ]
    }
  ],
  "metadata": {
    "colab": {
      "provenance": []
    },
    "kernelspec": {
      "display_name": "Python 3",
      "name": "python3"
    },
    "language_info": {
      "codemirror_mode": {
        "name": "ipython",
        "version": 3
      },
      "file_extension": ".py",
      "mimetype": "text/x-python",
      "name": "python",
      "nbconvert_exporter": "python",
      "pygments_lexer": "ipython3",
      "version": "3.10.6"
    }
  },
  "nbformat": 4,
  "nbformat_minor": 0
}
