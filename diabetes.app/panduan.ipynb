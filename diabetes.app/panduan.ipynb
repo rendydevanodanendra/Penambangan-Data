{
 "cells": [
  {
   "cell_type": "markdown",
   "id": "2c49ab66",
   "metadata": {},
   "source": [
    "\n",
    "\n",
    "### **Langkah Cepat Jalankan Streamlit**\n",
    "\n",
    "```bash\n",
    "cd nama-folder-kamu\n",
    "streamlit run nama-file-streamlit.py\n",
    "```\n",
    "\n",
    "### **Contoh Kasus Nyata**\n",
    "\n",
    "Misal project kamu ada di folder `my_dashboard` dan file utamanya namanya `app.py`, tinggal:\n",
    "\n",
    "```bash\n",
    "cd diabetes.app\n",
    "streamlit run app.py\n",
    "```\n",
    "\n",
    "### **Catatan Penting**\n",
    "\n",
    "✅ Pastikan kamu udah aktif di dalam environment yang sesuai (kalau pakai virtualenv atau conda).  \n",
    "✅ Pastikan `streamlit` udah ke-install, kalau belum bisa:  \n",
    "\n",
    "```bash\n",
    "pip install streamlit\n",
    "```\n"
   ]
  }
 ],
 "metadata": {
  "language_info": {
   "name": "python"
  }
 },
 "nbformat": 4,
 "nbformat_minor": 5
}
